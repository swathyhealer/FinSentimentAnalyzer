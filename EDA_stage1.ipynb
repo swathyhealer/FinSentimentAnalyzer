{
 "cells": [
  {
   "cell_type": "markdown",
   "id": "421c9cb5-d620-47a9-9c3e-f2b4ad55c838",
   "metadata": {},
   "source": [
    "# EDA on datasets - PART 1"
   ]
  },
  {
   "cell_type": "markdown",
   "id": "67d44a04-f216-44ea-aa46-c3f37a5030ed",
   "metadata": {},
   "source": [
    "### Keypoints from readme\n",
    "1. The objective of the phrase level annotation task was to classify each example sentence into a positive, negative or neutral category by considering only the information explicitly available in the given sentence\n",
    "\n",
    "2. annotators were asked to consider the sentences from the view point of an investor only; i.e. whether the news may have positive, negative or neutral influence on the stock price. As a result, sentences which have a sentiment that is not relevant from an economic or financial perspective are considered neutral.\n",
    "\n",
    "3. covers a collection of 4840 sentences\n",
    "\n",
    "4. Given the large number of overlapping annotations (5 to 8 annotations per sentence), there are several ways to define a majority vote based gold standard.\n",
    "\n",
    "5. based on the strength of majority agreement: \n",
    "\n",
    "    (i) sentences with 100% agreement [file=Sentences_AllAgree.txt]; \n",
    "    \n",
    "    (ii) sentences with more than 75% agreement [file=Sentences_75Agree.txt]; \n",
    "    \n",
    "    (iii) sentences with more than 66% agreement [file=Sentences_66Agree.txt]; and \n",
    "    \n",
    "    (iv) sentences with more than 50% agreement [file=Sentences_50Agree.txt]\n",
    "    \n",
    "6. sentence@sentiment\n",
    "        E.g.,  The operating margin came down to 2.4 % from 5.7 % .@negative\n",
    "\n",
    "\n",
    "7. sentiment is either \"positive, neutral or negative\"\n"
   ]
  },
  {
   "cell_type": "markdown",
   "id": "403c30f1-b677-4493-94f4-58abbe2511fa",
   "metadata": {},
   "source": [
    "### What are we doing here ?\n",
    "\n",
    "1. Cleaning and preprocessing datasets\n",
    "2. Create csv for each dataset"
   ]
  },
  {
   "cell_type": "code",
   "execution_count": 75,
   "id": "ae07d0ce-0a38-4736-9fb8-0b6704882fb9",
   "metadata": {
    "tags": []
   },
   "outputs": [],
   "source": [
    "import pandas as pd\n",
    "from collections import Counter\n",
    "import os"
   ]
  },
  {
   "cell_type": "markdown",
   "id": "ed1f2eb8-1a1d-49a0-913f-88c0630a20bf",
   "metadata": {},
   "source": [
    "#### 1. Clean and preprocess datasets"
   ]
  },
  {
   "cell_type": "code",
   "execution_count": 76,
   "id": "6cf68e86-5034-4007-9a48-e01a97c307f6",
   "metadata": {
    "tags": []
   },
   "outputs": [],
   "source": [
    "def clean_data(path):\n",
    "    \"\"\"\n",
    "    Used to clean and seperate text data store it as a csv file.\n",
    "    agreement column will have values like All ,75,66 and 50\n",
    "    \n",
    "    return the dataframe\n",
    "    \"\"\"\n",
    "    # 1. read text file\n",
    "    # 2.create pandas dataframe having 3 columns sentence , sentiment\n",
    "    # 3.split using newline\n",
    "    #     a. split using @ to get sentence and sentiment\n",
    "    # 4. group it into two columns \"sentence\" and sentiment\n",
    "    # 5.add new column agreement and add value based on column name \n",
    "    # 6.return dataframe\n",
    "    \n",
    "    df=pd.DataFrame(columns=[\"sentence\",\"sentiment\"])\n",
    "\n",
    "    with open(path,\"r\") as text_file :\n",
    "        for line in text_file:\n",
    "            sentence,sentiment=line.split(\"@\")\n",
    "            df.loc[len(df.index)]=[sentence.strip(),sentiment.strip()]\n",
    "           \n",
    "\n",
    "    _,agreement=path.split(\"_\")\n",
    "    agreement_percent,_=agreement.split(\"Agree\")\n",
    "    agreement_percent=agreement_percent.strip()\n",
    "    df[\"agreement\"]=[agreement_percent]*len(df)\n",
    "    return df\n",
    "\n",
    "        \n",
    "    "
   ]
  },
  {
   "cell_type": "markdown",
   "id": "7a3a6bd7-8655-4d7f-8070-cd1a5c9f9388",
   "metadata": {
    "jp-MarkdownHeadingCollapsed": true,
    "tags": []
   },
   "source": [
    "##### Sentences_AllAgree.txt\n",
    "\n",
    "###### Findings\n",
    "1. There were 5 duplicate sentences . Removed duplicates\n",
    "2. first shape => (2264, 3)\n",
    "3. final shape => (2259, 3) (ie, after duplicate removal)\n",
    "4. neutral : 1386\n",
    "5. positive: 570\n",
    "6. negative: 303\n",
    "\n",
    "Saved dataframe  : data/Sentences_AllAgree.txt.csv"
   ]
  },
  {
   "cell_type": "code",
   "execution_count": 77,
   "id": "d93f99fd-b5f3-4573-843c-17e57de9fa5f",
   "metadata": {
    "tags": []
   },
   "outputs": [],
   "source": [
    "path=\"data/Sentences_AllAgree.txt\"\n",
    "df =clean_data(path=path)"
   ]
  },
  {
   "cell_type": "code",
   "execution_count": 78,
   "id": "d67eab7a-bc8a-4e1e-8da2-66787ed24458",
   "metadata": {
    "tags": []
   },
   "outputs": [
    {
     "data": {
      "text/plain": [
       "(6792, 2264, (2264, 3))"
      ]
     },
     "execution_count": 78,
     "metadata": {},
     "output_type": "execute_result"
    }
   ],
   "source": [
    "df.size , len(df), df.shape"
   ]
  },
  {
   "cell_type": "code",
   "execution_count": 79,
   "id": "161e9402-1efb-4392-948f-024663703ec0",
   "metadata": {
    "tags": []
   },
   "outputs": [
    {
     "name": "stdout",
     "output_type": "stream",
     "text": [
      "<class 'pandas.core.frame.DataFrame'>\n",
      "Index: 2264 entries, 0 to 2263\n",
      "Data columns (total 3 columns):\n",
      " #   Column     Non-Null Count  Dtype \n",
      "---  ------     --------------  ----- \n",
      " 0   sentence   2264 non-null   object\n",
      " 1   sentiment  2264 non-null   object\n",
      " 2   agreement  2264 non-null   object\n",
      "dtypes: object(3)\n",
      "memory usage: 70.8+ KB\n"
     ]
    }
   ],
   "source": [
    "df.info()"
   ]
  },
  {
   "cell_type": "code",
   "execution_count": 80,
   "id": "77aeef96-f5f6-499b-a8ef-0422e449b5b7",
   "metadata": {
    "tags": []
   },
   "outputs": [
    {
     "data": {
      "text/html": [
       "<div>\n",
       "<style scoped>\n",
       "    .dataframe tbody tr th:only-of-type {\n",
       "        vertical-align: middle;\n",
       "    }\n",
       "\n",
       "    .dataframe tbody tr th {\n",
       "        vertical-align: top;\n",
       "    }\n",
       "\n",
       "    .dataframe thead th {\n",
       "        text-align: right;\n",
       "    }\n",
       "</style>\n",
       "<table border=\"1\" class=\"dataframe\">\n",
       "  <thead>\n",
       "    <tr style=\"text-align: right;\">\n",
       "      <th></th>\n",
       "      <th>sentence</th>\n",
       "      <th>sentiment</th>\n",
       "      <th>agreement</th>\n",
       "    </tr>\n",
       "  </thead>\n",
       "  <tbody>\n",
       "    <tr>\n",
       "      <th>count</th>\n",
       "      <td>2264</td>\n",
       "      <td>2264</td>\n",
       "      <td>2264</td>\n",
       "    </tr>\n",
       "    <tr>\n",
       "      <th>unique</th>\n",
       "      <td>2259</td>\n",
       "      <td>3</td>\n",
       "      <td>1</td>\n",
       "    </tr>\n",
       "    <tr>\n",
       "      <th>top</th>\n",
       "      <td>SSH Communications Security Corporation is hea...</td>\n",
       "      <td>neutral</td>\n",
       "      <td>All</td>\n",
       "    </tr>\n",
       "    <tr>\n",
       "      <th>freq</th>\n",
       "      <td>2</td>\n",
       "      <td>1391</td>\n",
       "      <td>2264</td>\n",
       "    </tr>\n",
       "  </tbody>\n",
       "</table>\n",
       "</div>"
      ],
      "text/plain": [
       "                                                 sentence sentiment agreement\n",
       "count                                                2264      2264      2264\n",
       "unique                                               2259         3         1\n",
       "top     SSH Communications Security Corporation is hea...   neutral       All\n",
       "freq                                                    2      1391      2264"
      ]
     },
     "execution_count": 80,
     "metadata": {},
     "output_type": "execute_result"
    }
   ],
   "source": [
    "df.describe()\n"
   ]
  },
  {
   "cell_type": "code",
   "execution_count": 81,
   "id": "53d2c5e6-e4b5-497b-a3cc-00b17573ce62",
   "metadata": {
    "tags": []
   },
   "outputs": [
    {
     "data": {
      "text/plain": [
       "np.int64(5)"
      ]
     },
     "execution_count": 81,
     "metadata": {},
     "output_type": "execute_result"
    }
   ],
   "source": [
    "df[\"sentence\"].duplicated().sum()"
   ]
  },
  {
   "cell_type": "code",
   "execution_count": 82,
   "id": "69b7cc36-ae06-45cb-8a13-20425d9130ba",
   "metadata": {
    "tags": []
   },
   "outputs": [
    {
     "name": "stdout",
     "output_type": "stream",
     "text": [
      "                                               sentence sentiment agreement\n",
      "518   The issuer is solely responsible for the conte...   neutral       All\n",
      "519   The issuer is solely responsible for the conte...   neutral       All\n",
      "625   The report profiles 614 companies including ma...   neutral       All\n",
      "626   The report profiles 614 companies including ma...   neutral       All\n",
      "928   Ahlstrom 's share is quoted on the NASDAQ OMX ...   neutral       All\n",
      "929   Ahlstrom 's share is quoted on the NASDAQ OMX ...   neutral       All\n",
      "1026  SSH Communications Security Corporation is hea...   neutral       All\n",
      "1027  SSH Communications Security Corporation is hea...   neutral       All\n",
      "1408  The company serves customers in various indust...   neutral       All\n",
      "1409  The company serves customers in various indust...   neutral       All\n"
     ]
    }
   ],
   "source": [
    "duplicated_ids = df[df['sentence'].duplicated(keep=False)]\n",
    "\n",
    "print(duplicated_ids)"
   ]
  },
  {
   "cell_type": "code",
   "execution_count": 83,
   "id": "0af50ac6-c4f1-4755-b5f0-b85876d057fb",
   "metadata": {
    "tags": []
   },
   "outputs": [],
   "source": [
    "df.drop_duplicates(inplace=True)"
   ]
  },
  {
   "cell_type": "code",
   "execution_count": 84,
   "id": "f19fe0c2-e1d9-4009-95a6-f2180f2959c2",
   "metadata": {
    "tags": []
   },
   "outputs": [
    {
     "data": {
      "text/plain": [
       "np.int64(0)"
      ]
     },
     "execution_count": 84,
     "metadata": {},
     "output_type": "execute_result"
    }
   ],
   "source": [
    "df[\"sentence\"].duplicated().sum()"
   ]
  },
  {
   "cell_type": "code",
   "execution_count": 85,
   "id": "878d3729-2101-4efc-9138-108044e10a31",
   "metadata": {
    "tags": []
   },
   "outputs": [
    {
     "data": {
      "text/plain": [
       "np.int64(0)"
      ]
     },
     "execution_count": 85,
     "metadata": {},
     "output_type": "execute_result"
    }
   ],
   "source": [
    "df.duplicated().sum()"
   ]
  },
  {
   "cell_type": "code",
   "execution_count": 86,
   "id": "73c4e754-aadf-4f6f-8909-341bda5d39e8",
   "metadata": {
    "tags": []
   },
   "outputs": [
    {
     "data": {
      "text/plain": [
       "(2259, 3)"
      ]
     },
     "execution_count": 86,
     "metadata": {},
     "output_type": "execute_result"
    }
   ],
   "source": [
    "df.shape"
   ]
  },
  {
   "cell_type": "code",
   "execution_count": 87,
   "id": "271ddffc-e69e-4ffd-af8d-c69cb2bed9fd",
   "metadata": {
    "tags": []
   },
   "outputs": [
    {
     "data": {
      "text/plain": [
       "sentence     0\n",
       "sentiment    0\n",
       "agreement    0\n",
       "dtype: int64"
      ]
     },
     "execution_count": 87,
     "metadata": {},
     "output_type": "execute_result"
    }
   ],
   "source": [
    "df.isna().sum()"
   ]
  },
  {
   "cell_type": "code",
   "execution_count": 88,
   "id": "46e16aa4-a065-4b73-93fe-1d7eeaa02bce",
   "metadata": {
    "tags": []
   },
   "outputs": [
    {
     "data": {
      "text/html": [
       "<div>\n",
       "<style scoped>\n",
       "    .dataframe tbody tr th:only-of-type {\n",
       "        vertical-align: middle;\n",
       "    }\n",
       "\n",
       "    .dataframe tbody tr th {\n",
       "        vertical-align: top;\n",
       "    }\n",
       "\n",
       "    .dataframe thead th {\n",
       "        text-align: right;\n",
       "    }\n",
       "</style>\n",
       "<table border=\"1\" class=\"dataframe\">\n",
       "  <thead>\n",
       "    <tr style=\"text-align: right;\">\n",
       "      <th></th>\n",
       "      <th>sentence</th>\n",
       "      <th>sentiment</th>\n",
       "      <th>agreement</th>\n",
       "    </tr>\n",
       "  </thead>\n",
       "  <tbody>\n",
       "    <tr>\n",
       "      <th>count</th>\n",
       "      <td>2259</td>\n",
       "      <td>2259</td>\n",
       "      <td>2259</td>\n",
       "    </tr>\n",
       "    <tr>\n",
       "      <th>unique</th>\n",
       "      <td>2259</td>\n",
       "      <td>3</td>\n",
       "      <td>1</td>\n",
       "    </tr>\n",
       "    <tr>\n",
       "      <th>top</th>\n",
       "      <td>Sales in Finland decreased by 10.5 % in Januar...</td>\n",
       "      <td>neutral</td>\n",
       "      <td>All</td>\n",
       "    </tr>\n",
       "    <tr>\n",
       "      <th>freq</th>\n",
       "      <td>1</td>\n",
       "      <td>1386</td>\n",
       "      <td>2259</td>\n",
       "    </tr>\n",
       "  </tbody>\n",
       "</table>\n",
       "</div>"
      ],
      "text/plain": [
       "                                                 sentence sentiment agreement\n",
       "count                                                2259      2259      2259\n",
       "unique                                               2259         3         1\n",
       "top     Sales in Finland decreased by 10.5 % in Januar...   neutral       All\n",
       "freq                                                    1      1386      2259"
      ]
     },
     "execution_count": 88,
     "metadata": {},
     "output_type": "execute_result"
    }
   ],
   "source": [
    "df.describe()"
   ]
  },
  {
   "cell_type": "code",
   "execution_count": 89,
   "id": "6a232200-3354-4906-a279-d9024b36d5a3",
   "metadata": {
    "tags": []
   },
   "outputs": [
    {
     "data": {
      "text/plain": [
       "Counter({'neutral': 1386, 'positive': 570, 'negative': 303})"
      ]
     },
     "execution_count": 89,
     "metadata": {},
     "output_type": "execute_result"
    }
   ],
   "source": [
    "Counter(df[\"sentiment\"])"
   ]
  },
  {
   "cell_type": "code",
   "execution_count": 90,
   "id": "b9702459-4588-40ef-91b7-fd0b7d08a5f4",
   "metadata": {
    "tags": []
   },
   "outputs": [
    {
     "name": "stdout",
     "output_type": "stream",
     "text": [
      "File  exists : data/Sentences_AllAgree.txt.csv !!!\n"
     ]
    }
   ],
   "source": [
    "csv_path=path+\".csv\"\n",
    "if os.path.isfile(csv_path):\n",
    "    print(f\"File  exists : {csv_path} !!!\")\n",
    "else:\n",
    "    print(f\"created file : {csv_path}\")\n",
    "    df.to_csv(csv_path,index=False)"
   ]
  },
  {
   "cell_type": "code",
   "execution_count": null,
   "id": "6b084931-cae6-41b1-9968-211d7a1eb8ca",
   "metadata": {},
   "outputs": [],
   "source": []
  },
  {
   "cell_type": "code",
   "execution_count": null,
   "id": "52e2874f-ad34-43d2-a235-661adc59b70d",
   "metadata": {},
   "outputs": [],
   "source": []
  },
  {
   "cell_type": "markdown",
   "id": "85eb0753-18bf-4f41-8d03-00ea7dbdfba8",
   "metadata": {
    "jp-MarkdownHeadingCollapsed": true,
    "tags": []
   },
   "source": [
    "##### Sentences_75Agree.txt\n",
    "\n",
    "###### Findings\n",
    "1. There were 5 duplicate sentences . Removed duplicates\n",
    "2. first shape => (3453, 3)\n",
    "3. final shape => (3448, 3) (ie, after duplicate removal)\n",
    "4. neutral : 2141\n",
    "5. positive: 887\n",
    "6. negative: 420\n",
    "\n",
    "\n",
    "Saved dataframe  : data/Sentences_75Agree.txt.csv"
   ]
  },
  {
   "cell_type": "code",
   "execution_count": 91,
   "id": "fc97c8f9-1e73-42ea-8a72-d3ba791a4dc3",
   "metadata": {
    "tags": []
   },
   "outputs": [],
   "source": [
    "path=\"data/Sentences_75Agree.txt\"\n",
    "df =clean_data(path=path)"
   ]
  },
  {
   "cell_type": "code",
   "execution_count": 92,
   "id": "b9967fd0-b27b-40eb-9cea-69bc70508b9e",
   "metadata": {
    "tags": []
   },
   "outputs": [
    {
     "data": {
      "text/plain": [
       "(10359, 3453, (3453, 3))"
      ]
     },
     "execution_count": 92,
     "metadata": {},
     "output_type": "execute_result"
    }
   ],
   "source": [
    "df.size , len(df), df.shape"
   ]
  },
  {
   "cell_type": "code",
   "execution_count": 93,
   "id": "a3c8e8b2-00e0-45f4-8eba-a142a6bd7edc",
   "metadata": {
    "tags": []
   },
   "outputs": [
    {
     "name": "stdout",
     "output_type": "stream",
     "text": [
      "<class 'pandas.core.frame.DataFrame'>\n",
      "Index: 3453 entries, 0 to 3452\n",
      "Data columns (total 3 columns):\n",
      " #   Column     Non-Null Count  Dtype \n",
      "---  ------     --------------  ----- \n",
      " 0   sentence   3453 non-null   object\n",
      " 1   sentiment  3453 non-null   object\n",
      " 2   agreement  3453 non-null   object\n",
      "dtypes: object(3)\n",
      "memory usage: 107.9+ KB\n"
     ]
    }
   ],
   "source": [
    "df.info()"
   ]
  },
  {
   "cell_type": "code",
   "execution_count": 94,
   "id": "747c5217-c7bd-44fd-8e94-add16182963b",
   "metadata": {
    "tags": []
   },
   "outputs": [
    {
     "data": {
      "text/html": [
       "<div>\n",
       "<style scoped>\n",
       "    .dataframe tbody tr th:only-of-type {\n",
       "        vertical-align: middle;\n",
       "    }\n",
       "\n",
       "    .dataframe tbody tr th {\n",
       "        vertical-align: top;\n",
       "    }\n",
       "\n",
       "    .dataframe thead th {\n",
       "        text-align: right;\n",
       "    }\n",
       "</style>\n",
       "<table border=\"1\" class=\"dataframe\">\n",
       "  <thead>\n",
       "    <tr style=\"text-align: right;\">\n",
       "      <th></th>\n",
       "      <th>sentence</th>\n",
       "      <th>sentiment</th>\n",
       "      <th>agreement</th>\n",
       "    </tr>\n",
       "  </thead>\n",
       "  <tbody>\n",
       "    <tr>\n",
       "      <th>count</th>\n",
       "      <td>3453</td>\n",
       "      <td>3453</td>\n",
       "      <td>3453</td>\n",
       "    </tr>\n",
       "    <tr>\n",
       "      <th>unique</th>\n",
       "      <td>3448</td>\n",
       "      <td>3</td>\n",
       "      <td>1</td>\n",
       "    </tr>\n",
       "    <tr>\n",
       "      <th>top</th>\n",
       "      <td>SSH Communications Security Corporation is hea...</td>\n",
       "      <td>neutral</td>\n",
       "      <td>75</td>\n",
       "    </tr>\n",
       "    <tr>\n",
       "      <th>freq</th>\n",
       "      <td>2</td>\n",
       "      <td>2146</td>\n",
       "      <td>3453</td>\n",
       "    </tr>\n",
       "  </tbody>\n",
       "</table>\n",
       "</div>"
      ],
      "text/plain": [
       "                                                 sentence sentiment agreement\n",
       "count                                                3453      3453      3453\n",
       "unique                                               3448         3         1\n",
       "top     SSH Communications Security Corporation is hea...   neutral        75\n",
       "freq                                                    2      2146      3453"
      ]
     },
     "execution_count": 94,
     "metadata": {},
     "output_type": "execute_result"
    }
   ],
   "source": [
    "df.describe()\n"
   ]
  },
  {
   "cell_type": "code",
   "execution_count": 95,
   "id": "2fcbea16-20ef-4050-828a-55d4dd7d4b70",
   "metadata": {
    "tags": []
   },
   "outputs": [
    {
     "data": {
      "text/plain": [
       "np.int64(5)"
      ]
     },
     "execution_count": 95,
     "metadata": {},
     "output_type": "execute_result"
    }
   ],
   "source": [
    "df[\"sentence\"].duplicated().sum()"
   ]
  },
  {
   "cell_type": "code",
   "execution_count": 96,
   "id": "c534ab0b-e447-4f1f-942f-05eacd9c9e91",
   "metadata": {
    "tags": []
   },
   "outputs": [
    {
     "name": "stdout",
     "output_type": "stream",
     "text": [
      "                                               sentence sentiment agreement\n",
      "773   The issuer is solely responsible for the conte...   neutral        75\n",
      "774   The issuer is solely responsible for the conte...   neutral        75\n",
      "958   The report profiles 614 companies including ma...   neutral        75\n",
      "959   The report profiles 614 companies including ma...   neutral        75\n",
      "1544  Ahlstrom 's share is quoted on the NASDAQ OMX ...   neutral        75\n",
      "1545  Ahlstrom 's share is quoted on the NASDAQ OMX ...   neutral        75\n",
      "1681  SSH Communications Security Corporation is hea...   neutral        75\n",
      "1682  SSH Communications Security Corporation is hea...   neutral        75\n",
      "2195  The company serves customers in various indust...   neutral        75\n",
      "2196  The company serves customers in various indust...   neutral        75\n"
     ]
    }
   ],
   "source": [
    "duplicated_ids = df[df['sentence'].duplicated(keep=False)]\n",
    "\n",
    "print(duplicated_ids)"
   ]
  },
  {
   "cell_type": "code",
   "execution_count": 97,
   "id": "0b608cee-995f-4830-ad1c-fa28d92a6b6f",
   "metadata": {
    "tags": []
   },
   "outputs": [],
   "source": [
    "df.drop_duplicates(inplace=True)"
   ]
  },
  {
   "cell_type": "code",
   "execution_count": 98,
   "id": "0a0a28b2-18ea-4032-ab44-65c877f1cc26",
   "metadata": {
    "tags": []
   },
   "outputs": [
    {
     "data": {
      "text/plain": [
       "np.int64(0)"
      ]
     },
     "execution_count": 98,
     "metadata": {},
     "output_type": "execute_result"
    }
   ],
   "source": [
    "df[\"sentence\"].duplicated().sum()"
   ]
  },
  {
   "cell_type": "code",
   "execution_count": 99,
   "id": "6f3eaf93-4be2-47e5-87f5-60e8ec27485c",
   "metadata": {
    "tags": []
   },
   "outputs": [
    {
     "data": {
      "text/plain": [
       "np.int64(0)"
      ]
     },
     "execution_count": 99,
     "metadata": {},
     "output_type": "execute_result"
    }
   ],
   "source": [
    "df.duplicated().sum()"
   ]
  },
  {
   "cell_type": "code",
   "execution_count": 100,
   "id": "4275ccba-83a7-4d79-9188-6e0c6b537069",
   "metadata": {
    "tags": []
   },
   "outputs": [
    {
     "data": {
      "text/plain": [
       "(3448, 3)"
      ]
     },
     "execution_count": 100,
     "metadata": {},
     "output_type": "execute_result"
    }
   ],
   "source": [
    "df.shape"
   ]
  },
  {
   "cell_type": "code",
   "execution_count": 101,
   "id": "e42cc3bc-0917-46d7-9d36-3cd753a9e9be",
   "metadata": {
    "tags": []
   },
   "outputs": [
    {
     "data": {
      "text/plain": [
       "sentence     0\n",
       "sentiment    0\n",
       "agreement    0\n",
       "dtype: int64"
      ]
     },
     "execution_count": 101,
     "metadata": {},
     "output_type": "execute_result"
    }
   ],
   "source": [
    "df.isna().sum()"
   ]
  },
  {
   "cell_type": "code",
   "execution_count": 102,
   "id": "50f0f1f9-c3c3-472d-bc2c-ace606c26673",
   "metadata": {
    "tags": []
   },
   "outputs": [
    {
     "data": {
      "text/html": [
       "<div>\n",
       "<style scoped>\n",
       "    .dataframe tbody tr th:only-of-type {\n",
       "        vertical-align: middle;\n",
       "    }\n",
       "\n",
       "    .dataframe tbody tr th {\n",
       "        vertical-align: top;\n",
       "    }\n",
       "\n",
       "    .dataframe thead th {\n",
       "        text-align: right;\n",
       "    }\n",
       "</style>\n",
       "<table border=\"1\" class=\"dataframe\">\n",
       "  <thead>\n",
       "    <tr style=\"text-align: right;\">\n",
       "      <th></th>\n",
       "      <th>sentence</th>\n",
       "      <th>sentiment</th>\n",
       "      <th>agreement</th>\n",
       "    </tr>\n",
       "  </thead>\n",
       "  <tbody>\n",
       "    <tr>\n",
       "      <th>count</th>\n",
       "      <td>3448</td>\n",
       "      <td>3448</td>\n",
       "      <td>3448</td>\n",
       "    </tr>\n",
       "    <tr>\n",
       "      <th>unique</th>\n",
       "      <td>3448</td>\n",
       "      <td>3</td>\n",
       "      <td>1</td>\n",
       "    </tr>\n",
       "    <tr>\n",
       "      <th>top</th>\n",
       "      <td>Sales in Finland decreased by 10.5 % in Januar...</td>\n",
       "      <td>neutral</td>\n",
       "      <td>75</td>\n",
       "    </tr>\n",
       "    <tr>\n",
       "      <th>freq</th>\n",
       "      <td>1</td>\n",
       "      <td>2141</td>\n",
       "      <td>3448</td>\n",
       "    </tr>\n",
       "  </tbody>\n",
       "</table>\n",
       "</div>"
      ],
      "text/plain": [
       "                                                 sentence sentiment agreement\n",
       "count                                                3448      3448      3448\n",
       "unique                                               3448         3         1\n",
       "top     Sales in Finland decreased by 10.5 % in Januar...   neutral        75\n",
       "freq                                                    1      2141      3448"
      ]
     },
     "execution_count": 102,
     "metadata": {},
     "output_type": "execute_result"
    }
   ],
   "source": [
    "df.describe()"
   ]
  },
  {
   "cell_type": "code",
   "execution_count": 103,
   "id": "ffbe4f3f-9985-492b-93c4-b8712325273d",
   "metadata": {
    "tags": []
   },
   "outputs": [
    {
     "data": {
      "text/plain": [
       "Counter({'neutral': 2141, 'positive': 887, 'negative': 420})"
      ]
     },
     "execution_count": 103,
     "metadata": {},
     "output_type": "execute_result"
    }
   ],
   "source": [
    "Counter(df[\"sentiment\"])"
   ]
  },
  {
   "cell_type": "code",
   "execution_count": 104,
   "id": "d5c71004-e68b-494b-b91b-b190bccc37be",
   "metadata": {
    "tags": []
   },
   "outputs": [
    {
     "name": "stdout",
     "output_type": "stream",
     "text": [
      "File  exists : data/Sentences_75Agree.txt.csv !!!\n"
     ]
    }
   ],
   "source": [
    "csv_path=path+\".csv\"\n",
    "if os.path.isfile(csv_path):\n",
    "    print(f\"File  exists : {csv_path} !!!\")\n",
    "else:\n",
    "    print(f\"created file : {csv_path}\")\n",
    "    df.to_csv(csv_path,index=False)"
   ]
  },
  {
   "cell_type": "code",
   "execution_count": null,
   "id": "0556d9bc-29c4-48dc-af94-5678f995863e",
   "metadata": {},
   "outputs": [],
   "source": []
  },
  {
   "cell_type": "code",
   "execution_count": null,
   "id": "3030216e-80bb-490c-b7ff-fc019d0ba7b6",
   "metadata": {},
   "outputs": [],
   "source": []
  },
  {
   "cell_type": "markdown",
   "id": "d989c8a8-1a14-4daa-8892-73cff49bf15d",
   "metadata": {
    "tags": []
   },
   "source": [
    "##### Sentences_66Agree.txt\n",
    "\n",
    "###### Findings\n",
    "1. There were 6 duplicate sentences . Removed duplicates\n",
    "2. first shape => (4217, 3)\n",
    "3. final shape => (4211, 3) (ie, after duplicate removal)\n",
    "4. neutral : 2529\n",
    "5. positive: 1168\n",
    "6. negative: 514\n",
    "\n",
    "\n",
    "Saved dataframe  : data/Sentences_66Agree.txt.csv"
   ]
  },
  {
   "cell_type": "code",
   "execution_count": 105,
   "id": "d70efaa9-a878-4485-a66e-f68b7a1e2f30",
   "metadata": {
    "tags": []
   },
   "outputs": [],
   "source": [
    "path=\"data/Sentences_66Agree.txt\"\n",
    "df =clean_data(path=path)"
   ]
  },
  {
   "cell_type": "code",
   "execution_count": 106,
   "id": "25a6ecbf-0689-4bf8-b714-24713cfa3a08",
   "metadata": {
    "tags": []
   },
   "outputs": [
    {
     "data": {
      "text/plain": [
       "(12651, 4217, (4217, 3))"
      ]
     },
     "execution_count": 106,
     "metadata": {},
     "output_type": "execute_result"
    }
   ],
   "source": [
    "df.size , len(df), df.shape"
   ]
  },
  {
   "cell_type": "code",
   "execution_count": 107,
   "id": "d09fd5dd-53e0-468f-a480-1b3992ba9985",
   "metadata": {
    "tags": []
   },
   "outputs": [
    {
     "name": "stdout",
     "output_type": "stream",
     "text": [
      "<class 'pandas.core.frame.DataFrame'>\n",
      "Index: 4217 entries, 0 to 4216\n",
      "Data columns (total 3 columns):\n",
      " #   Column     Non-Null Count  Dtype \n",
      "---  ------     --------------  ----- \n",
      " 0   sentence   4217 non-null   object\n",
      " 1   sentiment  4217 non-null   object\n",
      " 2   agreement  4217 non-null   object\n",
      "dtypes: object(3)\n",
      "memory usage: 131.8+ KB\n"
     ]
    }
   ],
   "source": [
    "df.info()"
   ]
  },
  {
   "cell_type": "code",
   "execution_count": 108,
   "id": "559fb4c8-fb44-4b3c-bacc-a641b70eece1",
   "metadata": {
    "tags": []
   },
   "outputs": [
    {
     "data": {
      "text/html": [
       "<div>\n",
       "<style scoped>\n",
       "    .dataframe tbody tr th:only-of-type {\n",
       "        vertical-align: middle;\n",
       "    }\n",
       "\n",
       "    .dataframe tbody tr th {\n",
       "        vertical-align: top;\n",
       "    }\n",
       "\n",
       "    .dataframe thead th {\n",
       "        text-align: right;\n",
       "    }\n",
       "</style>\n",
       "<table border=\"1\" class=\"dataframe\">\n",
       "  <thead>\n",
       "    <tr style=\"text-align: right;\">\n",
       "      <th></th>\n",
       "      <th>sentence</th>\n",
       "      <th>sentiment</th>\n",
       "      <th>agreement</th>\n",
       "    </tr>\n",
       "  </thead>\n",
       "  <tbody>\n",
       "    <tr>\n",
       "      <th>count</th>\n",
       "      <td>4217</td>\n",
       "      <td>4217</td>\n",
       "      <td>4217</td>\n",
       "    </tr>\n",
       "    <tr>\n",
       "      <th>unique</th>\n",
       "      <td>4211</td>\n",
       "      <td>3</td>\n",
       "      <td>1</td>\n",
       "    </tr>\n",
       "    <tr>\n",
       "      <th>top</th>\n",
       "      <td>The report profiles 614 companies including ma...</td>\n",
       "      <td>neutral</td>\n",
       "      <td>66</td>\n",
       "    </tr>\n",
       "    <tr>\n",
       "      <th>freq</th>\n",
       "      <td>2</td>\n",
       "      <td>2535</td>\n",
       "      <td>4217</td>\n",
       "    </tr>\n",
       "  </tbody>\n",
       "</table>\n",
       "</div>"
      ],
      "text/plain": [
       "                                                 sentence sentiment agreement\n",
       "count                                                4217      4217      4217\n",
       "unique                                               4211         3         1\n",
       "top     The report profiles 614 companies including ma...   neutral        66\n",
       "freq                                                    2      2535      4217"
      ]
     },
     "execution_count": 108,
     "metadata": {},
     "output_type": "execute_result"
    }
   ],
   "source": [
    "df.describe()\n"
   ]
  },
  {
   "cell_type": "code",
   "execution_count": 109,
   "id": "420bb8a0-e921-49a2-bf0b-faa13d702b8f",
   "metadata": {
    "tags": []
   },
   "outputs": [
    {
     "data": {
      "text/plain": [
       "np.int64(6)"
      ]
     },
     "execution_count": 109,
     "metadata": {},
     "output_type": "execute_result"
    }
   ],
   "source": [
    "df[\"sentence\"].duplicated().sum()"
   ]
  },
  {
   "cell_type": "code",
   "execution_count": 110,
   "id": "a5e15893-384d-49d3-83c6-db9069a409d3",
   "metadata": {
    "tags": []
   },
   "outputs": [
    {
     "name": "stdout",
     "output_type": "stream",
     "text": [
      "                                               sentence sentiment agreement\n",
      "959   The issuer is solely responsible for the conte...   neutral        66\n",
      "960   The issuer is solely responsible for the conte...   neutral        66\n",
      "1195  The report profiles 614 companies including ma...   neutral        66\n",
      "1196  The report profiles 614 companies including ma...   neutral        66\n",
      "2003  Ahlstrom 's share is quoted on the NASDAQ OMX ...   neutral        66\n",
      "2004  Ahlstrom 's share is quoted on the NASDAQ OMX ...   neutral        66\n",
      "2164  SSH Communications Security Corporation is hea...   neutral        66\n",
      "2165  SSH Communications Security Corporation is hea...   neutral        66\n",
      "2641  Proha Plc ( Euronext :7327 ) announced today (...   neutral        66\n",
      "2642  Proha Plc ( Euronext :7327 ) announced today (...   neutral        66\n",
      "2745  The company serves customers in various indust...   neutral        66\n",
      "2746  The company serves customers in various indust...   neutral        66\n"
     ]
    }
   ],
   "source": [
    "duplicated_ids = df[df['sentence'].duplicated(keep=False)]\n",
    "\n",
    "print(duplicated_ids)"
   ]
  },
  {
   "cell_type": "code",
   "execution_count": 111,
   "id": "c5f49d63-5c9a-4e7a-89ae-4fae2da9e237",
   "metadata": {
    "tags": []
   },
   "outputs": [],
   "source": [
    "df.drop_duplicates(inplace=True)"
   ]
  },
  {
   "cell_type": "code",
   "execution_count": 112,
   "id": "51e5c4cb-1672-4974-826e-615d6c23ca56",
   "metadata": {
    "tags": []
   },
   "outputs": [
    {
     "data": {
      "text/plain": [
       "np.int64(0)"
      ]
     },
     "execution_count": 112,
     "metadata": {},
     "output_type": "execute_result"
    }
   ],
   "source": [
    "df[\"sentence\"].duplicated().sum()"
   ]
  },
  {
   "cell_type": "code",
   "execution_count": 113,
   "id": "45294577-f514-4fe3-a3e9-190ee47ebe1b",
   "metadata": {
    "tags": []
   },
   "outputs": [
    {
     "data": {
      "text/plain": [
       "np.int64(0)"
      ]
     },
     "execution_count": 113,
     "metadata": {},
     "output_type": "execute_result"
    }
   ],
   "source": [
    "df.duplicated().sum()"
   ]
  },
  {
   "cell_type": "code",
   "execution_count": 114,
   "id": "5f85776f-e8c7-41f0-9970-3b6586b207e0",
   "metadata": {
    "tags": []
   },
   "outputs": [
    {
     "data": {
      "text/plain": [
       "(4211, 3)"
      ]
     },
     "execution_count": 114,
     "metadata": {},
     "output_type": "execute_result"
    }
   ],
   "source": [
    "df.shape"
   ]
  },
  {
   "cell_type": "code",
   "execution_count": 115,
   "id": "b60bd89d-6e8a-4f40-a53c-250b2517d8fa",
   "metadata": {
    "tags": []
   },
   "outputs": [
    {
     "data": {
      "text/plain": [
       "sentence     0\n",
       "sentiment    0\n",
       "agreement    0\n",
       "dtype: int64"
      ]
     },
     "execution_count": 115,
     "metadata": {},
     "output_type": "execute_result"
    }
   ],
   "source": [
    "df.isna().sum()"
   ]
  },
  {
   "cell_type": "code",
   "execution_count": 116,
   "id": "407f00c3-7467-42ae-8197-f5551c1301f4",
   "metadata": {
    "tags": []
   },
   "outputs": [
    {
     "data": {
      "text/html": [
       "<div>\n",
       "<style scoped>\n",
       "    .dataframe tbody tr th:only-of-type {\n",
       "        vertical-align: middle;\n",
       "    }\n",
       "\n",
       "    .dataframe tbody tr th {\n",
       "        vertical-align: top;\n",
       "    }\n",
       "\n",
       "    .dataframe thead th {\n",
       "        text-align: right;\n",
       "    }\n",
       "</style>\n",
       "<table border=\"1\" class=\"dataframe\">\n",
       "  <thead>\n",
       "    <tr style=\"text-align: right;\">\n",
       "      <th></th>\n",
       "      <th>sentence</th>\n",
       "      <th>sentiment</th>\n",
       "      <th>agreement</th>\n",
       "    </tr>\n",
       "  </thead>\n",
       "  <tbody>\n",
       "    <tr>\n",
       "      <th>count</th>\n",
       "      <td>4211</td>\n",
       "      <td>4211</td>\n",
       "      <td>4211</td>\n",
       "    </tr>\n",
       "    <tr>\n",
       "      <th>unique</th>\n",
       "      <td>4211</td>\n",
       "      <td>3</td>\n",
       "      <td>1</td>\n",
       "    </tr>\n",
       "    <tr>\n",
       "      <th>top</th>\n",
       "      <td>Sales in Finland decreased by 10.5 % in Januar...</td>\n",
       "      <td>neutral</td>\n",
       "      <td>66</td>\n",
       "    </tr>\n",
       "    <tr>\n",
       "      <th>freq</th>\n",
       "      <td>1</td>\n",
       "      <td>2529</td>\n",
       "      <td>4211</td>\n",
       "    </tr>\n",
       "  </tbody>\n",
       "</table>\n",
       "</div>"
      ],
      "text/plain": [
       "                                                 sentence sentiment agreement\n",
       "count                                                4211      4211      4211\n",
       "unique                                               4211         3         1\n",
       "top     Sales in Finland decreased by 10.5 % in Januar...   neutral        66\n",
       "freq                                                    1      2529      4211"
      ]
     },
     "execution_count": 116,
     "metadata": {},
     "output_type": "execute_result"
    }
   ],
   "source": [
    "df.describe()"
   ]
  },
  {
   "cell_type": "code",
   "execution_count": 117,
   "id": "4ac26c18-941c-4cbc-b5c7-682422e1a694",
   "metadata": {
    "tags": []
   },
   "outputs": [
    {
     "data": {
      "text/plain": [
       "Counter({'neutral': 2529, 'positive': 1168, 'negative': 514})"
      ]
     },
     "execution_count": 117,
     "metadata": {},
     "output_type": "execute_result"
    }
   ],
   "source": [
    "Counter(df[\"sentiment\"])"
   ]
  },
  {
   "cell_type": "code",
   "execution_count": 118,
   "id": "f7fbd5b6-712a-457e-a3b1-43b1aa557870",
   "metadata": {
    "tags": []
   },
   "outputs": [
    {
     "name": "stdout",
     "output_type": "stream",
     "text": [
      "File  exists : data/Sentences_66Agree.txt.csv !!!\n"
     ]
    }
   ],
   "source": [
    "csv_path=path+\".csv\"\n",
    "if os.path.isfile(csv_path):\n",
    "    print(f\"File  exists : {csv_path} !!!\")\n",
    "else:\n",
    "    print(f\"created file : {csv_path}\")\n",
    "    df.to_csv(csv_path,index=False)"
   ]
  },
  {
   "cell_type": "code",
   "execution_count": null,
   "id": "52ce8e4b-c5ec-42f5-adcd-36b590bc1ea8",
   "metadata": {},
   "outputs": [],
   "source": []
  },
  {
   "cell_type": "code",
   "execution_count": null,
   "id": "a11859a3-fdd8-44be-9b17-a7b7a4d2fff5",
   "metadata": {},
   "outputs": [],
   "source": []
  },
  {
   "cell_type": "markdown",
   "id": "e89c43f8-389e-4c6b-a654-7d4855310d3a",
   "metadata": {},
   "source": [
    "##### Sentences_50Agree.txt\n",
    "\n",
    "###### Findings\n",
    "1. There were  8 duplicate sentences . Removed duplicates\n",
    "2. first shape => (4846, 3)\n",
    "3. final shape => (4840, 3) (ie, after duplicate removal)\n",
    "4. neutral : 2873 \n",
    "5. positive: 1363\n",
    "6. negative:  604\n",
    "\n",
    "\n",
    "Saved dataframe  : data/Sentences_50Agree.txt.csv"
   ]
  },
  {
   "cell_type": "code",
   "execution_count": 119,
   "id": "5e919743-ac18-4150-8ed2-0e115e3413ef",
   "metadata": {
    "tags": []
   },
   "outputs": [],
   "source": [
    "path=\"data/Sentences_50Agree.txt\"\n",
    "df =clean_data(path=path)"
   ]
  },
  {
   "cell_type": "code",
   "execution_count": 120,
   "id": "96df00f4-bab3-41bf-9c96-c28269936551",
   "metadata": {
    "tags": []
   },
   "outputs": [
    {
     "data": {
      "text/plain": [
       "(14538, 4846, (4846, 3))"
      ]
     },
     "execution_count": 120,
     "metadata": {},
     "output_type": "execute_result"
    }
   ],
   "source": [
    "df.size , len(df), df.shape"
   ]
  },
  {
   "cell_type": "code",
   "execution_count": 121,
   "id": "ea0b6f59-55e8-4064-a2b2-7eb055fc9663",
   "metadata": {
    "tags": []
   },
   "outputs": [
    {
     "name": "stdout",
     "output_type": "stream",
     "text": [
      "<class 'pandas.core.frame.DataFrame'>\n",
      "Index: 4846 entries, 0 to 4845\n",
      "Data columns (total 3 columns):\n",
      " #   Column     Non-Null Count  Dtype \n",
      "---  ------     --------------  ----- \n",
      " 0   sentence   4846 non-null   object\n",
      " 1   sentiment  4846 non-null   object\n",
      " 2   agreement  4846 non-null   object\n",
      "dtypes: object(3)\n",
      "memory usage: 151.4+ KB\n"
     ]
    }
   ],
   "source": [
    "df.info()"
   ]
  },
  {
   "cell_type": "code",
   "execution_count": 122,
   "id": "9f56d7b8-4fb5-406a-8ffc-ab8e1e09f7c0",
   "metadata": {
    "tags": []
   },
   "outputs": [
    {
     "data": {
      "text/html": [
       "<div>\n",
       "<style scoped>\n",
       "    .dataframe tbody tr th:only-of-type {\n",
       "        vertical-align: middle;\n",
       "    }\n",
       "\n",
       "    .dataframe tbody tr th {\n",
       "        vertical-align: top;\n",
       "    }\n",
       "\n",
       "    .dataframe thead th {\n",
       "        text-align: right;\n",
       "    }\n",
       "</style>\n",
       "<table border=\"1\" class=\"dataframe\">\n",
       "  <thead>\n",
       "    <tr style=\"text-align: right;\">\n",
       "      <th></th>\n",
       "      <th>sentence</th>\n",
       "      <th>sentiment</th>\n",
       "      <th>agreement</th>\n",
       "    </tr>\n",
       "  </thead>\n",
       "  <tbody>\n",
       "    <tr>\n",
       "      <th>count</th>\n",
       "      <td>4846</td>\n",
       "      <td>4846</td>\n",
       "      <td>4846</td>\n",
       "    </tr>\n",
       "    <tr>\n",
       "      <th>unique</th>\n",
       "      <td>4838</td>\n",
       "      <td>3</td>\n",
       "      <td>1</td>\n",
       "    </tr>\n",
       "    <tr>\n",
       "      <th>top</th>\n",
       "      <td>Ahlstrom 's share is quoted on the NASDAQ OMX ...</td>\n",
       "      <td>neutral</td>\n",
       "      <td>50</td>\n",
       "    </tr>\n",
       "    <tr>\n",
       "      <th>freq</th>\n",
       "      <td>2</td>\n",
       "      <td>2879</td>\n",
       "      <td>4846</td>\n",
       "    </tr>\n",
       "  </tbody>\n",
       "</table>\n",
       "</div>"
      ],
      "text/plain": [
       "                                                 sentence sentiment agreement\n",
       "count                                                4846      4846      4846\n",
       "unique                                               4838         3         1\n",
       "top     Ahlstrom 's share is quoted on the NASDAQ OMX ...   neutral        50\n",
       "freq                                                    2      2879      4846"
      ]
     },
     "execution_count": 122,
     "metadata": {},
     "output_type": "execute_result"
    }
   ],
   "source": [
    "df.describe()\n"
   ]
  },
  {
   "cell_type": "code",
   "execution_count": 123,
   "id": "009f0403-6ec3-4cbc-bbb5-6536049f16f4",
   "metadata": {
    "tags": []
   },
   "outputs": [
    {
     "data": {
      "text/plain": [
       "np.int64(8)"
      ]
     },
     "execution_count": 123,
     "metadata": {},
     "output_type": "execute_result"
    }
   ],
   "source": [
    "df[\"sentence\"].duplicated().sum()"
   ]
  },
  {
   "cell_type": "code",
   "execution_count": 124,
   "id": "9a6b4d10-e91b-4c2a-8c0a-1f78b4726475",
   "metadata": {
    "tags": []
   },
   "outputs": [
    {
     "name": "stdout",
     "output_type": "stream",
     "text": [
      "                                               sentence sentiment agreement\n",
      "78    TELECOMWORLDWIRE-7 April 2006-TJ Group Plc sel...   neutral        50\n",
      "79    TELECOMWORLDWIRE-7 April 2006-TJ Group Plc sel...  positive        50\n",
      "788   The Group 's business is balanced by its broad...  positive        50\n",
      "789   The Group 's business is balanced by its broad...   neutral        50\n",
      "1098  The issuer is solely responsible for the conte...   neutral        50\n",
      "1099  The issuer is solely responsible for the conte...   neutral        50\n",
      "1415  The report profiles 614 companies including ma...   neutral        50\n",
      "1416  The report profiles 614 companies including ma...   neutral        50\n",
      "2395  Ahlstrom 's share is quoted on the NASDAQ OMX ...   neutral        50\n",
      "2396  Ahlstrom 's share is quoted on the NASDAQ OMX ...   neutral        50\n",
      "2566  SSH Communications Security Corporation is hea...   neutral        50\n",
      "2567  SSH Communications Security Corporation is hea...   neutral        50\n",
      "3093  Proha Plc ( Euronext :7327 ) announced today (...   neutral        50\n",
      "3094  Proha Plc ( Euronext :7327 ) announced today (...   neutral        50\n",
      "3205  The company serves customers in various indust...   neutral        50\n",
      "3206  The company serves customers in various indust...   neutral        50\n"
     ]
    }
   ],
   "source": [
    "duplicated_ids = df[df['sentence'].duplicated(keep=False)]\n",
    "\n",
    "print(duplicated_ids)"
   ]
  },
  {
   "cell_type": "code",
   "execution_count": 125,
   "id": "1b07c28b-ac8c-4ac9-ac41-ed82ea6b26e7",
   "metadata": {
    "tags": []
   },
   "outputs": [],
   "source": [
    "df.drop_duplicates(inplace=True)"
   ]
  },
  {
   "cell_type": "code",
   "execution_count": 126,
   "id": "9ef0110f-e574-4e7f-9210-9a73a75fbbc0",
   "metadata": {
    "tags": []
   },
   "outputs": [
    {
     "data": {
      "text/plain": [
       "np.int64(2)"
      ]
     },
     "execution_count": 126,
     "metadata": {},
     "output_type": "execute_result"
    }
   ],
   "source": [
    "df[\"sentence\"].duplicated().sum()"
   ]
  },
  {
   "cell_type": "code",
   "execution_count": 127,
   "id": "d8a8f54b-74b8-4cf2-a841-5f0f8616d936",
   "metadata": {
    "tags": []
   },
   "outputs": [
    {
     "data": {
      "text/plain": [
       "np.int64(0)"
      ]
     },
     "execution_count": 127,
     "metadata": {},
     "output_type": "execute_result"
    }
   ],
   "source": [
    "df.duplicated().sum()"
   ]
  },
  {
   "cell_type": "code",
   "execution_count": 128,
   "id": "e8c686e1-15ff-4ce9-8740-ba226240671c",
   "metadata": {
    "tags": []
   },
   "outputs": [
    {
     "data": {
      "text/plain": [
       "(4840, 3)"
      ]
     },
     "execution_count": 128,
     "metadata": {},
     "output_type": "execute_result"
    }
   ],
   "source": [
    "df.shape"
   ]
  },
  {
   "cell_type": "code",
   "execution_count": 129,
   "id": "e841f2b4-2279-4060-8cf1-8e0bcf3b26e9",
   "metadata": {
    "tags": []
   },
   "outputs": [
    {
     "data": {
      "text/plain": [
       "sentence     0\n",
       "sentiment    0\n",
       "agreement    0\n",
       "dtype: int64"
      ]
     },
     "execution_count": 129,
     "metadata": {},
     "output_type": "execute_result"
    }
   ],
   "source": [
    "df.isna().sum()"
   ]
  },
  {
   "cell_type": "code",
   "execution_count": 130,
   "id": "8a279cbc-88c4-4152-9a3b-e6e70d05d9ae",
   "metadata": {
    "tags": []
   },
   "outputs": [
    {
     "data": {
      "text/html": [
       "<div>\n",
       "<style scoped>\n",
       "    .dataframe tbody tr th:only-of-type {\n",
       "        vertical-align: middle;\n",
       "    }\n",
       "\n",
       "    .dataframe tbody tr th {\n",
       "        vertical-align: top;\n",
       "    }\n",
       "\n",
       "    .dataframe thead th {\n",
       "        text-align: right;\n",
       "    }\n",
       "</style>\n",
       "<table border=\"1\" class=\"dataframe\">\n",
       "  <thead>\n",
       "    <tr style=\"text-align: right;\">\n",
       "      <th></th>\n",
       "      <th>sentence</th>\n",
       "      <th>sentiment</th>\n",
       "      <th>agreement</th>\n",
       "    </tr>\n",
       "  </thead>\n",
       "  <tbody>\n",
       "    <tr>\n",
       "      <th>count</th>\n",
       "      <td>4840</td>\n",
       "      <td>4840</td>\n",
       "      <td>4840</td>\n",
       "    </tr>\n",
       "    <tr>\n",
       "      <th>unique</th>\n",
       "      <td>4838</td>\n",
       "      <td>3</td>\n",
       "      <td>1</td>\n",
       "    </tr>\n",
       "    <tr>\n",
       "      <th>top</th>\n",
       "      <td>TELECOMWORLDWIRE-7 April 2006-TJ Group Plc sel...</td>\n",
       "      <td>neutral</td>\n",
       "      <td>50</td>\n",
       "    </tr>\n",
       "    <tr>\n",
       "      <th>freq</th>\n",
       "      <td>2</td>\n",
       "      <td>2873</td>\n",
       "      <td>4840</td>\n",
       "    </tr>\n",
       "  </tbody>\n",
       "</table>\n",
       "</div>"
      ],
      "text/plain": [
       "                                                 sentence sentiment agreement\n",
       "count                                                4840      4840      4840\n",
       "unique                                               4838         3         1\n",
       "top     TELECOMWORLDWIRE-7 April 2006-TJ Group Plc sel...   neutral        50\n",
       "freq                                                    2      2873      4840"
      ]
     },
     "execution_count": 130,
     "metadata": {},
     "output_type": "execute_result"
    }
   ],
   "source": [
    "df.describe()"
   ]
  },
  {
   "cell_type": "code",
   "execution_count": 131,
   "id": "b82b0808-b9b1-4cd0-9352-4470bedd377b",
   "metadata": {
    "tags": []
   },
   "outputs": [
    {
     "data": {
      "text/plain": [
       "Counter({'neutral': 2873, 'positive': 1363, 'negative': 604})"
      ]
     },
     "execution_count": 131,
     "metadata": {},
     "output_type": "execute_result"
    }
   ],
   "source": [
    "Counter(df[\"sentiment\"])"
   ]
  },
  {
   "cell_type": "code",
   "execution_count": 132,
   "id": "8a60289c-9344-4b77-8898-68cdc87b9d26",
   "metadata": {
    "tags": []
   },
   "outputs": [
    {
     "name": "stdout",
     "output_type": "stream",
     "text": [
      "File  exists : data/Sentences_50Agree.txt.csv !!!\n"
     ]
    }
   ],
   "source": [
    "csv_path=path+\".csv\"\n",
    "if os.path.isfile(csv_path):\n",
    "    print(f\"File  exists : {csv_path} !!!\")\n",
    "else:\n",
    "    print(f\"created file : {csv_path}\")\n",
    "    df.to_csv(csv_path,index=False)"
   ]
  },
  {
   "cell_type": "markdown",
   "id": "2566eb67-1bc2-43fd-aa7e-3d0cd44ab12a",
   "metadata": {},
   "source": [
    "### Conclusion\n",
    "\n",
    "\n",
    "##### Sentences_AllAgree.txt\n",
    "\n",
    "###### Findings\n",
    "1. There were 5 duplicate sentences . Removed duplicates\n",
    "2. first shape => (2264, 3)\n",
    "3. final shape => (2259, 3) (ie, after duplicate removal)\n",
    "4. neutral : 1386\n",
    "5. positive: 570\n",
    "6. negative: 303\n",
    "\n",
    "\n",
    "##### Sentences_75Agree.txt\n",
    "\n",
    "###### Findings\n",
    "1. There were 5 duplicate sentences . Removed duplicates\n",
    "2. first shape => (3453, 3)\n",
    "3. final shape => (3448, 3) (ie, after duplicate removal)\n",
    "4. neutral : 2141\n",
    "5. positive: 887\n",
    "6. negative: 420\n",
    "\n",
    "\n",
    "##### Sentences_66Agree.txt\n",
    "\n",
    "###### Findings\n",
    "1. There were 6 duplicate sentences . Removed duplicates\n",
    "2. first shape => (4217, 3)\n",
    "3. final shape => (4211, 3) (ie, after duplicate removal)\n",
    "4. neutral : 2529\n",
    "5. positive: 1168\n",
    "6. negative: 514\n",
    "\n",
    "\n",
    "##### Sentences_50Agree.txt\n",
    "\n",
    "###### Findings\n",
    "1. There were 8 duplicate sentences . Removed duplicates\n",
    "2. first shape => (4846, 3)\n",
    "3. final shape => (4840, 3) (ie, after duplicate removal)\n",
    "4. neutral : 2873\n",
    "5. positive: 1363\n",
    "6. negative: 604"
   ]
  },
  {
   "cell_type": "code",
   "execution_count": null,
   "id": "50aa3ff6-ec66-491f-aeab-d08bb0450ae3",
   "metadata": {},
   "outputs": [],
   "source": []
  }
 ],
 "metadata": {
  "kernelspec": {
   "display_name": "finanalyzer",
   "language": "python",
   "name": "finanalyzer"
  },
  "language_info": {
   "codemirror_mode": {
    "name": "ipython",
    "version": 3
   },
   "file_extension": ".py",
   "mimetype": "text/x-python",
   "name": "python",
   "nbconvert_exporter": "python",
   "pygments_lexer": "ipython3",
   "version": "3.9.12"
  },
  "toc-showcode": true
 },
 "nbformat": 4,
 "nbformat_minor": 5
}
