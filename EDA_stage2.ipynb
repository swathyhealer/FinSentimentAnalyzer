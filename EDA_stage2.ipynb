{
 "cells": [
  {
   "cell_type": "markdown",
   "id": "4046d8b6-b400-4c58-9c06-00acec9a2c20",
   "metadata": {},
   "source": [
    "# EDA on datasets - PART 2\n",
    "\n"
   ]
  },
  {
   "cell_type": "code",
   "execution_count": 43,
   "id": "b143842d-d08f-42ff-ad69-802913324374",
   "metadata": {
    "tags": []
   },
   "outputs": [],
   "source": [
    "import pandas as pd\n",
    "from collections import Counter\n",
    "import matplotlib.pyplot as plt\n",
    "import numpy as np"
   ]
  },
  {
   "cell_type": "code",
   "execution_count": 2,
   "id": "37bcad3a-dfc6-441b-870d-47f30db23b08",
   "metadata": {
    "tags": []
   },
   "outputs": [],
   "source": [
    "path_100=\"data/Sentences_AllAgree.txt.csv\"\n",
    "path_75=\"data/Sentences_75Agree.txt.csv\"\n",
    "path_66=\"data/Sentences_66Agree.txt.csv\"\n",
    "path_50=\"data/Sentences_50Agree.txt.csv\""
   ]
  },
  {
   "cell_type": "code",
   "execution_count": 3,
   "id": "2ac42dba-03f2-43e0-bce9-95cc34e11ba7",
   "metadata": {
    "tags": []
   },
   "outputs": [],
   "source": [
    "# load dataframes\n",
    "df_100=pd.read_csv(path_100)\n",
    "df_75=pd.read_csv(path_75)\n",
    "df_66=pd.read_csv(path_66)\n",
    "df_50=pd.read_csv(path_50)"
   ]
  },
  {
   "cell_type": "code",
   "execution_count": 4,
   "id": "d233e03c-5d94-40bf-ba69-8788b6650347",
   "metadata": {
    "tags": []
   },
   "outputs": [
    {
     "name": "stdout",
     "output_type": "stream",
     "text": [
      "<class 'pandas.core.frame.DataFrame'>\n",
      "RangeIndex: 2259 entries, 0 to 2258\n",
      "Data columns (total 3 columns):\n",
      " #   Column     Non-Null Count  Dtype \n",
      "---  ------     --------------  ----- \n",
      " 0   sentence   2259 non-null   object\n",
      " 1   sentiment  2259 non-null   object\n",
      " 2   agreement  2259 non-null   object\n",
      "dtypes: object(3)\n",
      "memory usage: 53.1+ KB\n"
     ]
    }
   ],
   "source": [
    "df_100.info()"
   ]
  },
  {
   "cell_type": "code",
   "execution_count": 5,
   "id": "37080ab8-7558-4482-971a-9d42da5be8b8",
   "metadata": {
    "tags": []
   },
   "outputs": [
    {
     "data": {
      "text/html": [
       "<div>\n",
       "<style scoped>\n",
       "    .dataframe tbody tr th:only-of-type {\n",
       "        vertical-align: middle;\n",
       "    }\n",
       "\n",
       "    .dataframe tbody tr th {\n",
       "        vertical-align: top;\n",
       "    }\n",
       "\n",
       "    .dataframe thead th {\n",
       "        text-align: right;\n",
       "    }\n",
       "</style>\n",
       "<table border=\"1\" class=\"dataframe\">\n",
       "  <thead>\n",
       "    <tr style=\"text-align: right;\">\n",
       "      <th></th>\n",
       "      <th>sentence</th>\n",
       "      <th>sentiment</th>\n",
       "      <th>agreement</th>\n",
       "    </tr>\n",
       "  </thead>\n",
       "  <tbody>\n",
       "    <tr>\n",
       "      <th>0</th>\n",
       "      <td>According to Gran , the company has no plans t...</td>\n",
       "      <td>neutral</td>\n",
       "      <td>All</td>\n",
       "    </tr>\n",
       "    <tr>\n",
       "      <th>1</th>\n",
       "      <td>For the last quarter of 2010 , Componenta 's n...</td>\n",
       "      <td>positive</td>\n",
       "      <td>All</td>\n",
       "    </tr>\n",
       "    <tr>\n",
       "      <th>2</th>\n",
       "      <td>In the third quarter of 2010 , net sales incre...</td>\n",
       "      <td>positive</td>\n",
       "      <td>All</td>\n",
       "    </tr>\n",
       "    <tr>\n",
       "      <th>3</th>\n",
       "      <td>Operating profit rose to EUR 13.1 mn from EUR ...</td>\n",
       "      <td>positive</td>\n",
       "      <td>All</td>\n",
       "    </tr>\n",
       "    <tr>\n",
       "      <th>4</th>\n",
       "      <td>Operating profit totalled EUR 21.1 mn , up fro...</td>\n",
       "      <td>positive</td>\n",
       "      <td>All</td>\n",
       "    </tr>\n",
       "  </tbody>\n",
       "</table>\n",
       "</div>"
      ],
      "text/plain": [
       "                                            sentence sentiment agreement\n",
       "0  According to Gran , the company has no plans t...   neutral       All\n",
       "1  For the last quarter of 2010 , Componenta 's n...  positive       All\n",
       "2  In the third quarter of 2010 , net sales incre...  positive       All\n",
       "3  Operating profit rose to EUR 13.1 mn from EUR ...  positive       All\n",
       "4  Operating profit totalled EUR 21.1 mn , up fro...  positive       All"
      ]
     },
     "execution_count": 5,
     "metadata": {},
     "output_type": "execute_result"
    }
   ],
   "source": [
    "df_100.head()"
   ]
  },
  {
   "cell_type": "code",
   "execution_count": 6,
   "id": "d9922c30-29b9-40d5-b9b1-b1eea9bc9912",
   "metadata": {
    "tags": []
   },
   "outputs": [
    {
     "name": "stdout",
     "output_type": "stream",
     "text": [
      "<class 'pandas.core.frame.DataFrame'>\n",
      "RangeIndex: 3448 entries, 0 to 3447\n",
      "Data columns (total 3 columns):\n",
      " #   Column     Non-Null Count  Dtype \n",
      "---  ------     --------------  ----- \n",
      " 0   sentence   3448 non-null   object\n",
      " 1   sentiment  3448 non-null   object\n",
      " 2   agreement  3448 non-null   int64 \n",
      "dtypes: int64(1), object(2)\n",
      "memory usage: 80.9+ KB\n"
     ]
    }
   ],
   "source": [
    "df_75.info()"
   ]
  },
  {
   "cell_type": "code",
   "execution_count": 7,
   "id": "692136f4-e067-4804-9faa-6bc41bd85568",
   "metadata": {
    "tags": []
   },
   "outputs": [
    {
     "data": {
      "text/html": [
       "<div>\n",
       "<style scoped>\n",
       "    .dataframe tbody tr th:only-of-type {\n",
       "        vertical-align: middle;\n",
       "    }\n",
       "\n",
       "    .dataframe tbody tr th {\n",
       "        vertical-align: top;\n",
       "    }\n",
       "\n",
       "    .dataframe thead th {\n",
       "        text-align: right;\n",
       "    }\n",
       "</style>\n",
       "<table border=\"1\" class=\"dataframe\">\n",
       "  <thead>\n",
       "    <tr style=\"text-align: right;\">\n",
       "      <th></th>\n",
       "      <th>sentence</th>\n",
       "      <th>sentiment</th>\n",
       "      <th>agreement</th>\n",
       "    </tr>\n",
       "  </thead>\n",
       "  <tbody>\n",
       "    <tr>\n",
       "      <th>0</th>\n",
       "      <td>According to Gran , the company has no plans t...</td>\n",
       "      <td>neutral</td>\n",
       "      <td>75</td>\n",
       "    </tr>\n",
       "    <tr>\n",
       "      <th>1</th>\n",
       "      <td>With the new production plant the company woul...</td>\n",
       "      <td>positive</td>\n",
       "      <td>75</td>\n",
       "    </tr>\n",
       "    <tr>\n",
       "      <th>2</th>\n",
       "      <td>For the last quarter of 2010 , Componenta 's n...</td>\n",
       "      <td>positive</td>\n",
       "      <td>75</td>\n",
       "    </tr>\n",
       "    <tr>\n",
       "      <th>3</th>\n",
       "      <td>In the third quarter of 2010 , net sales incre...</td>\n",
       "      <td>positive</td>\n",
       "      <td>75</td>\n",
       "    </tr>\n",
       "    <tr>\n",
       "      <th>4</th>\n",
       "      <td>Operating profit rose to EUR 13.1 mn from EUR ...</td>\n",
       "      <td>positive</td>\n",
       "      <td>75</td>\n",
       "    </tr>\n",
       "  </tbody>\n",
       "</table>\n",
       "</div>"
      ],
      "text/plain": [
       "                                            sentence sentiment  agreement\n",
       "0  According to Gran , the company has no plans t...   neutral         75\n",
       "1  With the new production plant the company woul...  positive         75\n",
       "2  For the last quarter of 2010 , Componenta 's n...  positive         75\n",
       "3  In the third quarter of 2010 , net sales incre...  positive         75\n",
       "4  Operating profit rose to EUR 13.1 mn from EUR ...  positive         75"
      ]
     },
     "execution_count": 7,
     "metadata": {},
     "output_type": "execute_result"
    }
   ],
   "source": [
    "df_75.head()"
   ]
  },
  {
   "cell_type": "code",
   "execution_count": 8,
   "id": "5ac8e111-41b1-4131-8806-e912cb1be0eb",
   "metadata": {
    "tags": []
   },
   "outputs": [
    {
     "name": "stdout",
     "output_type": "stream",
     "text": [
      "<class 'pandas.core.frame.DataFrame'>\n",
      "RangeIndex: 4211 entries, 0 to 4210\n",
      "Data columns (total 3 columns):\n",
      " #   Column     Non-Null Count  Dtype \n",
      "---  ------     --------------  ----- \n",
      " 0   sentence   4211 non-null   object\n",
      " 1   sentiment  4211 non-null   object\n",
      " 2   agreement  4211 non-null   int64 \n",
      "dtypes: int64(1), object(2)\n",
      "memory usage: 98.8+ KB\n"
     ]
    }
   ],
   "source": [
    "df_66.info()"
   ]
  },
  {
   "cell_type": "code",
   "execution_count": 9,
   "id": "2506ae35-2a39-405c-914d-e9db8904ea3a",
   "metadata": {
    "tags": []
   },
   "outputs": [
    {
     "data": {
      "text/html": [
       "<div>\n",
       "<style scoped>\n",
       "    .dataframe tbody tr th:only-of-type {\n",
       "        vertical-align: middle;\n",
       "    }\n",
       "\n",
       "    .dataframe tbody tr th {\n",
       "        vertical-align: top;\n",
       "    }\n",
       "\n",
       "    .dataframe thead th {\n",
       "        text-align: right;\n",
       "    }\n",
       "</style>\n",
       "<table border=\"1\" class=\"dataframe\">\n",
       "  <thead>\n",
       "    <tr style=\"text-align: right;\">\n",
       "      <th></th>\n",
       "      <th>sentence</th>\n",
       "      <th>sentiment</th>\n",
       "      <th>agreement</th>\n",
       "    </tr>\n",
       "  </thead>\n",
       "  <tbody>\n",
       "    <tr>\n",
       "      <th>0</th>\n",
       "      <td>According to Gran , the company has no plans t...</td>\n",
       "      <td>neutral</td>\n",
       "      <td>66</td>\n",
       "    </tr>\n",
       "    <tr>\n",
       "      <th>1</th>\n",
       "      <td>Technopolis plans to develop in stages an area...</td>\n",
       "      <td>neutral</td>\n",
       "      <td>66</td>\n",
       "    </tr>\n",
       "    <tr>\n",
       "      <th>2</th>\n",
       "      <td>With the new production plant the company woul...</td>\n",
       "      <td>positive</td>\n",
       "      <td>66</td>\n",
       "    </tr>\n",
       "    <tr>\n",
       "      <th>3</th>\n",
       "      <td>According to the company 's updated strategy f...</td>\n",
       "      <td>positive</td>\n",
       "      <td>66</td>\n",
       "    </tr>\n",
       "    <tr>\n",
       "      <th>4</th>\n",
       "      <td>For the last quarter of 2010 , Componenta 's n...</td>\n",
       "      <td>positive</td>\n",
       "      <td>66</td>\n",
       "    </tr>\n",
       "  </tbody>\n",
       "</table>\n",
       "</div>"
      ],
      "text/plain": [
       "                                            sentence sentiment  agreement\n",
       "0  According to Gran , the company has no plans t...   neutral         66\n",
       "1  Technopolis plans to develop in stages an area...   neutral         66\n",
       "2  With the new production plant the company woul...  positive         66\n",
       "3  According to the company 's updated strategy f...  positive         66\n",
       "4  For the last quarter of 2010 , Componenta 's n...  positive         66"
      ]
     },
     "execution_count": 9,
     "metadata": {},
     "output_type": "execute_result"
    }
   ],
   "source": [
    "df_66.head()"
   ]
  },
  {
   "cell_type": "code",
   "execution_count": 10,
   "id": "c1bf0906-be30-4919-8d98-a64a935aaaf9",
   "metadata": {
    "tags": []
   },
   "outputs": [
    {
     "name": "stdout",
     "output_type": "stream",
     "text": [
      "<class 'pandas.core.frame.DataFrame'>\n",
      "RangeIndex: 4840 entries, 0 to 4839\n",
      "Data columns (total 3 columns):\n",
      " #   Column     Non-Null Count  Dtype \n",
      "---  ------     --------------  ----- \n",
      " 0   sentence   4840 non-null   object\n",
      " 1   sentiment  4840 non-null   object\n",
      " 2   agreement  4840 non-null   int64 \n",
      "dtypes: int64(1), object(2)\n",
      "memory usage: 113.6+ KB\n"
     ]
    }
   ],
   "source": [
    "df_50.info()"
   ]
  },
  {
   "cell_type": "code",
   "execution_count": 11,
   "id": "1dd10e0f-e953-48fb-a372-7fd4508a5af7",
   "metadata": {
    "tags": []
   },
   "outputs": [
    {
     "data": {
      "text/html": [
       "<div>\n",
       "<style scoped>\n",
       "    .dataframe tbody tr th:only-of-type {\n",
       "        vertical-align: middle;\n",
       "    }\n",
       "\n",
       "    .dataframe tbody tr th {\n",
       "        vertical-align: top;\n",
       "    }\n",
       "\n",
       "    .dataframe thead th {\n",
       "        text-align: right;\n",
       "    }\n",
       "</style>\n",
       "<table border=\"1\" class=\"dataframe\">\n",
       "  <thead>\n",
       "    <tr style=\"text-align: right;\">\n",
       "      <th></th>\n",
       "      <th>sentence</th>\n",
       "      <th>sentiment</th>\n",
       "      <th>agreement</th>\n",
       "    </tr>\n",
       "  </thead>\n",
       "  <tbody>\n",
       "    <tr>\n",
       "      <th>0</th>\n",
       "      <td>According to Gran , the company has no plans t...</td>\n",
       "      <td>neutral</td>\n",
       "      <td>50</td>\n",
       "    </tr>\n",
       "    <tr>\n",
       "      <th>1</th>\n",
       "      <td>Technopolis plans to develop in stages an area...</td>\n",
       "      <td>neutral</td>\n",
       "      <td>50</td>\n",
       "    </tr>\n",
       "    <tr>\n",
       "      <th>2</th>\n",
       "      <td>The international electronic industry company ...</td>\n",
       "      <td>negative</td>\n",
       "      <td>50</td>\n",
       "    </tr>\n",
       "    <tr>\n",
       "      <th>3</th>\n",
       "      <td>With the new production plant the company woul...</td>\n",
       "      <td>positive</td>\n",
       "      <td>50</td>\n",
       "    </tr>\n",
       "    <tr>\n",
       "      <th>4</th>\n",
       "      <td>According to the company 's updated strategy f...</td>\n",
       "      <td>positive</td>\n",
       "      <td>50</td>\n",
       "    </tr>\n",
       "  </tbody>\n",
       "</table>\n",
       "</div>"
      ],
      "text/plain": [
       "                                            sentence sentiment  agreement\n",
       "0  According to Gran , the company has no plans t...   neutral         50\n",
       "1  Technopolis plans to develop in stages an area...   neutral         50\n",
       "2  The international electronic industry company ...  negative         50\n",
       "3  With the new production plant the company woul...  positive         50\n",
       "4  According to the company 's updated strategy f...  positive         50"
      ]
     },
     "execution_count": 11,
     "metadata": {},
     "output_type": "execute_result"
    }
   ],
   "source": [
    "df_50.head()"
   ]
  },
  {
   "cell_type": "markdown",
   "id": "007f1776-7902-49a5-9347-966dd9216ffc",
   "metadata": {},
   "source": [
    "## important info\n",
    "1. df_100 => all the sentiment predictions are agreed by all the annotation members\n",
    "\n",
    "    ie, we dont need to change change anything . we can trust this data\n",
    "    \n",
    "    df_100 has,\n",
    "    \n",
    "    neutral : 1386\n",
    "    \n",
    "    positive: 570\n",
    "    \n",
    "    negative: 303\n",
    "    "
   ]
  },
  {
   "cell_type": "markdown",
   "id": "97e655f0-00b3-4bbb-8a6c-c9b7b9a47a44",
   "metadata": {},
   "source": [
    "df_100 entries has 100% confidence for the sentiment\n",
    "\n",
    "df_75 entries will have entries having 75% confidence and 100% confidence\n",
    "\n",
    "So , to get entries only having 75% confidence => we need to remove entries having 100 % confidence from df_75"
   ]
  },
  {
   "cell_type": "markdown",
   "id": "10690d0d-f308-4677-8d41-1d5f084e9aab",
   "metadata": {},
   "source": [
    "### filter 75 % only entries from df_75 and save as agree_75_only.csv"
   ]
  },
  {
   "cell_type": "code",
   "execution_count": 12,
   "id": "d29e4368-01ad-4a3d-969f-9e9334e04e58",
   "metadata": {
    "tags": []
   },
   "outputs": [
    {
     "name": "stdout",
     "output_type": "stream",
     "text": [
      "<class 'pandas.core.frame.DataFrame'>\n",
      "Index: 1189 entries, 1 to 3442\n",
      "Data columns (total 3 columns):\n",
      " #   Column     Non-Null Count  Dtype \n",
      "---  ------     --------------  ----- \n",
      " 0   sentence   1189 non-null   object\n",
      " 1   sentiment  1189 non-null   object\n",
      " 2   agreement  1189 non-null   int64 \n",
      "dtypes: int64(1), object(2)\n",
      "memory usage: 37.2+ KB\n"
     ]
    }
   ],
   "source": [
    "df_75_merged=df_75.merge(df_100, on=[\"sentence\",\"sentiment\"] ,how = \"left\" , indicator=True)\n",
    "df_75_only=df_75_merged[df_75_merged['_merge'] == 'left_only'].drop(columns=['_merge' ,\"agreement_y\"])\n",
    "df_75_only.rename(columns={'agreement_x': 'agreement'},inplace=True)\n",
    "df_75_only.info()"
   ]
  },
  {
   "cell_type": "code",
   "execution_count": 13,
   "id": "2a9e86f2-e308-4977-97a5-68f78bade8e9",
   "metadata": {
    "tags": []
   },
   "outputs": [
    {
     "data": {
      "text/html": [
       "<div>\n",
       "<style scoped>\n",
       "    .dataframe tbody tr th:only-of-type {\n",
       "        vertical-align: middle;\n",
       "    }\n",
       "\n",
       "    .dataframe tbody tr th {\n",
       "        vertical-align: top;\n",
       "    }\n",
       "\n",
       "    .dataframe thead th {\n",
       "        text-align: right;\n",
       "    }\n",
       "</style>\n",
       "<table border=\"1\" class=\"dataframe\">\n",
       "  <thead>\n",
       "    <tr style=\"text-align: right;\">\n",
       "      <th></th>\n",
       "      <th>sentence</th>\n",
       "      <th>sentiment</th>\n",
       "      <th>agreement</th>\n",
       "    </tr>\n",
       "  </thead>\n",
       "  <tbody>\n",
       "    <tr>\n",
       "      <th>1</th>\n",
       "      <td>With the new production plant the company woul...</td>\n",
       "      <td>positive</td>\n",
       "      <td>75</td>\n",
       "    </tr>\n",
       "    <tr>\n",
       "      <th>6</th>\n",
       "      <td>TeliaSonera TLSN said the offer is in line wit...</td>\n",
       "      <td>positive</td>\n",
       "      <td>75</td>\n",
       "    </tr>\n",
       "    <tr>\n",
       "      <th>7</th>\n",
       "      <td>STORA ENSO , NORSKE SKOG , M-REAL , UPM-KYMMEN...</td>\n",
       "      <td>positive</td>\n",
       "      <td>75</td>\n",
       "    </tr>\n",
       "    <tr>\n",
       "      <th>8</th>\n",
       "      <td>A purchase agreement for 7,200 tons of gasolin...</td>\n",
       "      <td>positive</td>\n",
       "      <td>75</td>\n",
       "    </tr>\n",
       "    <tr>\n",
       "      <th>14</th>\n",
       "      <td>Incap Contract Manufacturing Services Pvt Ltd ...</td>\n",
       "      <td>positive</td>\n",
       "      <td>75</td>\n",
       "    </tr>\n",
       "  </tbody>\n",
       "</table>\n",
       "</div>"
      ],
      "text/plain": [
       "                                             sentence sentiment  agreement\n",
       "1   With the new production plant the company woul...  positive         75\n",
       "6   TeliaSonera TLSN said the offer is in line wit...  positive         75\n",
       "7   STORA ENSO , NORSKE SKOG , M-REAL , UPM-KYMMEN...  positive         75\n",
       "8   A purchase agreement for 7,200 tons of gasolin...  positive         75\n",
       "14  Incap Contract Manufacturing Services Pvt Ltd ...  positive         75"
      ]
     },
     "execution_count": 13,
     "metadata": {},
     "output_type": "execute_result"
    }
   ],
   "source": [
    "df_75_only.head()"
   ]
  },
  {
   "cell_type": "code",
   "execution_count": 14,
   "id": "f658a0f5-b574-4cb4-9e64-3db4f41e7bc6",
   "metadata": {
    "tags": []
   },
   "outputs": [
    {
     "name": "stdout",
     "output_type": "stream",
     "text": [
      "<class 'pandas.core.frame.DataFrame'>\n",
      "Index: 1189 entries, 1 to 3442\n",
      "Data columns (total 3 columns):\n",
      " #   Column     Non-Null Count  Dtype \n",
      "---  ------     --------------  ----- \n",
      " 0   sentence   1189 non-null   object\n",
      " 1   sentiment  1189 non-null   object\n",
      " 2   agreement  1189 non-null   int64 \n",
      "dtypes: int64(1), object(2)\n",
      "memory usage: 37.2+ KB\n"
     ]
    }
   ],
   "source": [
    "df_75_only.info()"
   ]
  },
  {
   "cell_type": "code",
   "execution_count": 15,
   "id": "fbfbc8de-efbd-46a1-badf-14a40b2a58e7",
   "metadata": {
    "tags": []
   },
   "outputs": [
    {
     "data": {
      "text/plain": [
       "np.int64(0)"
      ]
     },
     "execution_count": 15,
     "metadata": {},
     "output_type": "execute_result"
    }
   ],
   "source": [
    "df_75_only[[\"sentence\" ,\"sentiment\"]].duplicated().sum()"
   ]
  },
  {
   "cell_type": "code",
   "execution_count": 16,
   "id": "f23dbeff-1757-4186-baaa-1d5e76bde68b",
   "metadata": {
    "tags": []
   },
   "outputs": [
    {
     "data": {
      "text/html": [
       "<div>\n",
       "<style scoped>\n",
       "    .dataframe tbody tr th:only-of-type {\n",
       "        vertical-align: middle;\n",
       "    }\n",
       "\n",
       "    .dataframe tbody tr th {\n",
       "        vertical-align: top;\n",
       "    }\n",
       "\n",
       "    .dataframe thead th {\n",
       "        text-align: right;\n",
       "    }\n",
       "</style>\n",
       "<table border=\"1\" class=\"dataframe\">\n",
       "  <thead>\n",
       "    <tr style=\"text-align: right;\">\n",
       "      <th></th>\n",
       "      <th>sentence</th>\n",
       "      <th>sentiment</th>\n",
       "      <th>agreement</th>\n",
       "    </tr>\n",
       "  </thead>\n",
       "  <tbody>\n",
       "    <tr>\n",
       "      <th>1</th>\n",
       "      <td>With the new production plant the company woul...</td>\n",
       "      <td>positive</td>\n",
       "      <td>75</td>\n",
       "    </tr>\n",
       "    <tr>\n",
       "      <th>6</th>\n",
       "      <td>TeliaSonera TLSN said the offer is in line wit...</td>\n",
       "      <td>positive</td>\n",
       "      <td>75</td>\n",
       "    </tr>\n",
       "    <tr>\n",
       "      <th>7</th>\n",
       "      <td>STORA ENSO , NORSKE SKOG , M-REAL , UPM-KYMMEN...</td>\n",
       "      <td>positive</td>\n",
       "      <td>75</td>\n",
       "    </tr>\n",
       "    <tr>\n",
       "      <th>8</th>\n",
       "      <td>A purchase agreement for 7,200 tons of gasolin...</td>\n",
       "      <td>positive</td>\n",
       "      <td>75</td>\n",
       "    </tr>\n",
       "    <tr>\n",
       "      <th>14</th>\n",
       "      <td>Incap Contract Manufacturing Services Pvt Ltd ...</td>\n",
       "      <td>positive</td>\n",
       "      <td>75</td>\n",
       "    </tr>\n",
       "  </tbody>\n",
       "</table>\n",
       "</div>"
      ],
      "text/plain": [
       "                                             sentence sentiment  agreement\n",
       "1   With the new production plant the company woul...  positive         75\n",
       "6   TeliaSonera TLSN said the offer is in line wit...  positive         75\n",
       "7   STORA ENSO , NORSKE SKOG , M-REAL , UPM-KYMMEN...  positive         75\n",
       "8   A purchase agreement for 7,200 tons of gasolin...  positive         75\n",
       "14  Incap Contract Manufacturing Services Pvt Ltd ...  positive         75"
      ]
     },
     "execution_count": 16,
     "metadata": {},
     "output_type": "execute_result"
    }
   ],
   "source": [
    "df_75_only.head()"
   ]
  },
  {
   "cell_type": "code",
   "execution_count": 17,
   "id": "973161fc-49d3-49e1-989f-e3ff469836dd",
   "metadata": {
    "tags": []
   },
   "outputs": [
    {
     "data": {
      "text/plain": [
       "Counter({'neutral': 755, 'positive': 317, 'negative': 117})"
      ]
     },
     "execution_count": 17,
     "metadata": {},
     "output_type": "execute_result"
    }
   ],
   "source": [
    "Counter(df_75_only[\"sentiment\"])"
   ]
  },
  {
   "cell_type": "code",
   "execution_count": 18,
   "id": "faa38567-0c1a-47fb-803e-24127d0156a3",
   "metadata": {
    "tags": []
   },
   "outputs": [],
   "source": [
    "df_75_only.to_csv(\"data/agree_75_only.csv\",index=False)"
   ]
  },
  {
   "cell_type": "code",
   "execution_count": null,
   "id": "7543f317-9a08-49eb-b08f-bfd62c9358f2",
   "metadata": {},
   "outputs": [],
   "source": []
  },
  {
   "cell_type": "code",
   "execution_count": null,
   "id": "f9939f3c-dde2-49fe-b3da-83715635e700",
   "metadata": {},
   "outputs": [],
   "source": []
  },
  {
   "cell_type": "markdown",
   "id": "7c35355c-5659-46db-b70f-c58afc6a847f",
   "metadata": {},
   "source": [
    "### filter 66 % only entries from df_66 and save as agree_66_only.csv"
   ]
  },
  {
   "cell_type": "code",
   "execution_count": 19,
   "id": "2bb352d4-ac5b-4df3-ae5d-c7319d7df79c",
   "metadata": {
    "tags": []
   },
   "outputs": [
    {
     "name": "stdout",
     "output_type": "stream",
     "text": [
      "<class 'pandas.core.frame.DataFrame'>\n",
      "Index: 763 entries, 1 to 4208\n",
      "Data columns (total 3 columns):\n",
      " #   Column     Non-Null Count  Dtype \n",
      "---  ------     --------------  ----- \n",
      " 0   sentence   763 non-null    object\n",
      " 1   sentiment  763 non-null    object\n",
      " 2   agreement  763 non-null    int64 \n",
      "dtypes: int64(1), object(2)\n",
      "memory usage: 23.8+ KB\n"
     ]
    }
   ],
   "source": [
    "df_66_merged=df_66.merge(df_75, on=[\"sentence\",\"sentiment\"] ,how = \"left\" , indicator=True)\n",
    "df_66_only=df_66_merged[df_66_merged['_merge'] == 'left_only'].drop(columns=['_merge' ,\"agreement_y\"])\n",
    "df_66_only.rename(columns={'agreement_x': 'agreement'},inplace=True)\n",
    "df_66_only.info()"
   ]
  },
  {
   "cell_type": "code",
   "execution_count": 20,
   "id": "0b258c7f-8bf5-429e-aa00-5453c0dc6303",
   "metadata": {
    "tags": []
   },
   "outputs": [
    {
     "data": {
      "text/html": [
       "<div>\n",
       "<style scoped>\n",
       "    .dataframe tbody tr th:only-of-type {\n",
       "        vertical-align: middle;\n",
       "    }\n",
       "\n",
       "    .dataframe tbody tr th {\n",
       "        vertical-align: top;\n",
       "    }\n",
       "\n",
       "    .dataframe thead th {\n",
       "        text-align: right;\n",
       "    }\n",
       "</style>\n",
       "<table border=\"1\" class=\"dataframe\">\n",
       "  <thead>\n",
       "    <tr style=\"text-align: right;\">\n",
       "      <th></th>\n",
       "      <th>sentence</th>\n",
       "      <th>sentiment</th>\n",
       "      <th>agreement</th>\n",
       "    </tr>\n",
       "  </thead>\n",
       "  <tbody>\n",
       "    <tr>\n",
       "      <th>1</th>\n",
       "      <td>Technopolis plans to develop in stages an area...</td>\n",
       "      <td>neutral</td>\n",
       "      <td>66</td>\n",
       "    </tr>\n",
       "    <tr>\n",
       "      <th>3</th>\n",
       "      <td>According to the company 's updated strategy f...</td>\n",
       "      <td>positive</td>\n",
       "      <td>66</td>\n",
       "    </tr>\n",
       "    <tr>\n",
       "      <th>27</th>\n",
       "      <td>The Brazilian unit of Finnish security solutio...</td>\n",
       "      <td>positive</td>\n",
       "      <td>66</td>\n",
       "    </tr>\n",
       "    <tr>\n",
       "      <th>43</th>\n",
       "      <td>The agreement was signed with Biohit Healthcar...</td>\n",
       "      <td>positive</td>\n",
       "      <td>66</td>\n",
       "    </tr>\n",
       "    <tr>\n",
       "      <th>48</th>\n",
       "      <td>Within the framework of the partnership , Noki...</td>\n",
       "      <td>positive</td>\n",
       "      <td>66</td>\n",
       "    </tr>\n",
       "  </tbody>\n",
       "</table>\n",
       "</div>"
      ],
      "text/plain": [
       "                                             sentence sentiment  agreement\n",
       "1   Technopolis plans to develop in stages an area...   neutral         66\n",
       "3   According to the company 's updated strategy f...  positive         66\n",
       "27  The Brazilian unit of Finnish security solutio...  positive         66\n",
       "43  The agreement was signed with Biohit Healthcar...  positive         66\n",
       "48  Within the framework of the partnership , Noki...  positive         66"
      ]
     },
     "execution_count": 20,
     "metadata": {},
     "output_type": "execute_result"
    }
   ],
   "source": [
    "df_66_only.head()"
   ]
  },
  {
   "cell_type": "code",
   "execution_count": 21,
   "id": "ec7a79a7-53f6-4705-9d98-f39984437fb8",
   "metadata": {
    "tags": []
   },
   "outputs": [
    {
     "name": "stdout",
     "output_type": "stream",
     "text": [
      "<class 'pandas.core.frame.DataFrame'>\n",
      "Index: 763 entries, 1 to 4208\n",
      "Data columns (total 3 columns):\n",
      " #   Column     Non-Null Count  Dtype \n",
      "---  ------     --------------  ----- \n",
      " 0   sentence   763 non-null    object\n",
      " 1   sentiment  763 non-null    object\n",
      " 2   agreement  763 non-null    int64 \n",
      "dtypes: int64(1), object(2)\n",
      "memory usage: 23.8+ KB\n"
     ]
    }
   ],
   "source": [
    "df_66_only.info()"
   ]
  },
  {
   "cell_type": "code",
   "execution_count": 22,
   "id": "23fa8e61-1025-441a-a1b7-bf02c04a4eba",
   "metadata": {
    "tags": []
   },
   "outputs": [
    {
     "data": {
      "text/plain": [
       "np.int64(0)"
      ]
     },
     "execution_count": 22,
     "metadata": {},
     "output_type": "execute_result"
    }
   ],
   "source": [
    "df_66_only[[\"sentence\" ,\"sentiment\"]].duplicated().sum()"
   ]
  },
  {
   "cell_type": "code",
   "execution_count": 23,
   "id": "99711b01-f5a3-4eaf-99a8-eeeaf5c59816",
   "metadata": {
    "tags": []
   },
   "outputs": [
    {
     "data": {
      "text/plain": [
       "Counter({'neutral': 388, 'positive': 281, 'negative': 94})"
      ]
     },
     "execution_count": 23,
     "metadata": {},
     "output_type": "execute_result"
    }
   ],
   "source": [
    "Counter(df_66_only[\"sentiment\"])"
   ]
  },
  {
   "cell_type": "code",
   "execution_count": 24,
   "id": "8d46cfcc-bdc7-4edd-9dca-93aeaa1d16b5",
   "metadata": {
    "tags": []
   },
   "outputs": [],
   "source": [
    "df_66_only.to_csv(\"data/agree_66_only.csv\",index=False)"
   ]
  },
  {
   "cell_type": "code",
   "execution_count": null,
   "id": "d22148ff-e7cd-445b-a94a-5408445f5b16",
   "metadata": {},
   "outputs": [],
   "source": [
    "\n"
   ]
  },
  {
   "cell_type": "code",
   "execution_count": null,
   "id": "b83cf376-1d9d-475e-a971-36fddcb7334c",
   "metadata": {},
   "outputs": [],
   "source": []
  },
  {
   "cell_type": "markdown",
   "id": "cc5c595a-e363-4fe8-bc26-9802f1b499ab",
   "metadata": {},
   "source": [
    "### filter 50 % only entries from df_50 and save as agree_50_only.csv"
   ]
  },
  {
   "cell_type": "code",
   "execution_count": 25,
   "id": "7402fe57-21aa-49d2-995e-7d557983b9c9",
   "metadata": {
    "tags": []
   },
   "outputs": [
    {
     "name": "stdout",
     "output_type": "stream",
     "text": [
      "<class 'pandas.core.frame.DataFrame'>\n",
      "Index: 629 entries, 2 to 4838\n",
      "Data columns (total 3 columns):\n",
      " #   Column     Non-Null Count  Dtype \n",
      "---  ------     --------------  ----- \n",
      " 0   sentence   629 non-null    object\n",
      " 1   sentiment  629 non-null    object\n",
      " 2   agreement  629 non-null    int64 \n",
      "dtypes: int64(1), object(2)\n",
      "memory usage: 19.7+ KB\n"
     ]
    }
   ],
   "source": [
    "df_50_merged=df_50.merge(df_66, on=[\"sentence\",\"sentiment\"] ,how = \"left\" , indicator=True)\n",
    "df_50_only=df_50_merged[df_50_merged['_merge'] == 'left_only'].drop(columns=['_merge' ,\"agreement_y\"])\n",
    "df_50_only.rename(columns={'agreement_x': 'agreement'},inplace=True)\n",
    "df_50_only.info()"
   ]
  },
  {
   "cell_type": "code",
   "execution_count": 26,
   "id": "2c4bc7e7-5492-444f-b178-de1094722441",
   "metadata": {
    "tags": []
   },
   "outputs": [
    {
     "data": {
      "text/html": [
       "<div>\n",
       "<style scoped>\n",
       "    .dataframe tbody tr th:only-of-type {\n",
       "        vertical-align: middle;\n",
       "    }\n",
       "\n",
       "    .dataframe tbody tr th {\n",
       "        vertical-align: top;\n",
       "    }\n",
       "\n",
       "    .dataframe thead th {\n",
       "        text-align: right;\n",
       "    }\n",
       "</style>\n",
       "<table border=\"1\" class=\"dataframe\">\n",
       "  <thead>\n",
       "    <tr style=\"text-align: right;\">\n",
       "      <th></th>\n",
       "      <th>sentence</th>\n",
       "      <th>sentiment</th>\n",
       "      <th>agreement</th>\n",
       "    </tr>\n",
       "  </thead>\n",
       "  <tbody>\n",
       "    <tr>\n",
       "      <th>2</th>\n",
       "      <td>The international electronic industry company ...</td>\n",
       "      <td>negative</td>\n",
       "      <td>50</td>\n",
       "    </tr>\n",
       "    <tr>\n",
       "      <th>5</th>\n",
       "      <td>FINANCING OF ASPOCOMP 'S GROWTH Aspocomp is ag...</td>\n",
       "      <td>positive</td>\n",
       "      <td>50</td>\n",
       "    </tr>\n",
       "    <tr>\n",
       "      <th>21</th>\n",
       "      <td>( Filippova ) A trilateral agreement on invest...</td>\n",
       "      <td>positive</td>\n",
       "      <td>50</td>\n",
       "    </tr>\n",
       "    <tr>\n",
       "      <th>43</th>\n",
       "      <td>Sales for both the Department Store Division a...</td>\n",
       "      <td>positive</td>\n",
       "      <td>50</td>\n",
       "    </tr>\n",
       "    <tr>\n",
       "      <th>62</th>\n",
       "      <td>`` The new agreement is a continuation to thea...</td>\n",
       "      <td>neutral</td>\n",
       "      <td>50</td>\n",
       "    </tr>\n",
       "  </tbody>\n",
       "</table>\n",
       "</div>"
      ],
      "text/plain": [
       "                                             sentence sentiment  agreement\n",
       "2   The international electronic industry company ...  negative         50\n",
       "5   FINANCING OF ASPOCOMP 'S GROWTH Aspocomp is ag...  positive         50\n",
       "21  ( Filippova ) A trilateral agreement on invest...  positive         50\n",
       "43  Sales for both the Department Store Division a...  positive         50\n",
       "62  `` The new agreement is a continuation to thea...   neutral         50"
      ]
     },
     "execution_count": 26,
     "metadata": {},
     "output_type": "execute_result"
    }
   ],
   "source": [
    "df_50_only.head()"
   ]
  },
  {
   "cell_type": "code",
   "execution_count": 27,
   "id": "d4cf3584-7919-4611-b2ac-4e8715cba1e6",
   "metadata": {
    "tags": []
   },
   "outputs": [
    {
     "name": "stdout",
     "output_type": "stream",
     "text": [
      "<class 'pandas.core.frame.DataFrame'>\n",
      "Index: 629 entries, 2 to 4838\n",
      "Data columns (total 3 columns):\n",
      " #   Column     Non-Null Count  Dtype \n",
      "---  ------     --------------  ----- \n",
      " 0   sentence   629 non-null    object\n",
      " 1   sentiment  629 non-null    object\n",
      " 2   agreement  629 non-null    int64 \n",
      "dtypes: int64(1), object(2)\n",
      "memory usage: 19.7+ KB\n"
     ]
    }
   ],
   "source": [
    "df_50_only.info()"
   ]
  },
  {
   "cell_type": "code",
   "execution_count": 28,
   "id": "5d57a038-d1a8-419e-a1ae-151b005e5d01",
   "metadata": {
    "tags": []
   },
   "outputs": [
    {
     "data": {
      "text/plain": [
       "np.int64(0)"
      ]
     },
     "execution_count": 28,
     "metadata": {},
     "output_type": "execute_result"
    }
   ],
   "source": [
    "df_50_only[[\"sentence\" ,\"sentiment\"]].duplicated().sum()"
   ]
  },
  {
   "cell_type": "code",
   "execution_count": 29,
   "id": "fc755fe2-1e02-467a-a9bd-0a36ce4e83f2",
   "metadata": {
    "tags": []
   },
   "outputs": [
    {
     "data": {
      "text/plain": [
       "Counter({'neutral': 344, 'positive': 195, 'negative': 90})"
      ]
     },
     "execution_count": 29,
     "metadata": {},
     "output_type": "execute_result"
    }
   ],
   "source": [
    "Counter(df_50_only[\"sentiment\"])"
   ]
  },
  {
   "cell_type": "code",
   "execution_count": 30,
   "id": "5a6bac42-00e1-4e7f-81da-e4d81fa0a538",
   "metadata": {
    "tags": []
   },
   "outputs": [],
   "source": [
    "df_50_only.to_csv(\"data/agree_50_only.csv\",index=False)"
   ]
  },
  {
   "cell_type": "markdown",
   "id": "c02777b2-7c11-4ee4-9c73-ede210f0c282",
   "metadata": {},
   "source": [
    "### Merge df_100 ,df_75_only,df_66_only and df_50 only to get correct dataset"
   ]
  },
  {
   "cell_type": "code",
   "execution_count": 31,
   "id": "37b198ce-eb89-4f47-bd28-d1c1a708f815",
   "metadata": {
    "tags": []
   },
   "outputs": [],
   "source": [
    "df1=pd.read_csv(\"data/Sentences_AllAgree.txt.csv\")\n",
    "df2=pd.read_csv(\"data/agree_75_only.csv\")\n",
    "df3=pd.read_csv(\"data/agree_66_only.csv\")\n",
    "df4=pd.read_csv(\"data/agree_50_only.csv\")"
   ]
  },
  {
   "cell_type": "code",
   "execution_count": 32,
   "id": "683a0536-104c-43e7-9a30-e3b61beb05fc",
   "metadata": {
    "tags": []
   },
   "outputs": [],
   "source": [
    "correct_df=pd.concat([df1,df2,df3,df4],ignore_index=True,axis=0)"
   ]
  },
  {
   "cell_type": "code",
   "execution_count": 33,
   "id": "a40eef2f-9c30-4f79-9cfa-6155789fcd4a",
   "metadata": {
    "tags": []
   },
   "outputs": [
    {
     "name": "stdout",
     "output_type": "stream",
     "text": [
      "<class 'pandas.core.frame.DataFrame'>\n",
      "RangeIndex: 4840 entries, 0 to 4839\n",
      "Data columns (total 3 columns):\n",
      " #   Column     Non-Null Count  Dtype \n",
      "---  ------     --------------  ----- \n",
      " 0   sentence   4840 non-null   object\n",
      " 1   sentiment  4840 non-null   object\n",
      " 2   agreement  4840 non-null   object\n",
      "dtypes: object(3)\n",
      "memory usage: 113.6+ KB\n"
     ]
    }
   ],
   "source": [
    "correct_df.info()"
   ]
  },
  {
   "cell_type": "code",
   "execution_count": 34,
   "id": "95771271-2eda-4aa0-9123-77feba150ba5",
   "metadata": {
    "tags": []
   },
   "outputs": [
    {
     "data": {
      "text/html": [
       "<div>\n",
       "<style scoped>\n",
       "    .dataframe tbody tr th:only-of-type {\n",
       "        vertical-align: middle;\n",
       "    }\n",
       "\n",
       "    .dataframe tbody tr th {\n",
       "        vertical-align: top;\n",
       "    }\n",
       "\n",
       "    .dataframe thead th {\n",
       "        text-align: right;\n",
       "    }\n",
       "</style>\n",
       "<table border=\"1\" class=\"dataframe\">\n",
       "  <thead>\n",
       "    <tr style=\"text-align: right;\">\n",
       "      <th></th>\n",
       "      <th>sentence</th>\n",
       "      <th>sentiment</th>\n",
       "      <th>agreement</th>\n",
       "    </tr>\n",
       "  </thead>\n",
       "  <tbody>\n",
       "    <tr>\n",
       "      <th>count</th>\n",
       "      <td>4840</td>\n",
       "      <td>4840</td>\n",
       "      <td>4840</td>\n",
       "    </tr>\n",
       "    <tr>\n",
       "      <th>unique</th>\n",
       "      <td>4838</td>\n",
       "      <td>3</td>\n",
       "      <td>4</td>\n",
       "    </tr>\n",
       "    <tr>\n",
       "      <th>top</th>\n",
       "      <td>TELECOMWORLDWIRE-7 April 2006-TJ Group Plc sel...</td>\n",
       "      <td>neutral</td>\n",
       "      <td>All</td>\n",
       "    </tr>\n",
       "    <tr>\n",
       "      <th>freq</th>\n",
       "      <td>2</td>\n",
       "      <td>2873</td>\n",
       "      <td>2259</td>\n",
       "    </tr>\n",
       "  </tbody>\n",
       "</table>\n",
       "</div>"
      ],
      "text/plain": [
       "                                                 sentence sentiment agreement\n",
       "count                                                4840      4840      4840\n",
       "unique                                               4838         3         4\n",
       "top     TELECOMWORLDWIRE-7 April 2006-TJ Group Plc sel...   neutral       All\n",
       "freq                                                    2      2873      2259"
      ]
     },
     "execution_count": 34,
     "metadata": {},
     "output_type": "execute_result"
    }
   ],
   "source": [
    "correct_df.describe()"
   ]
  },
  {
   "cell_type": "code",
   "execution_count": 35,
   "id": "ef9b6f37-6768-4d24-9243-e484be6b07dd",
   "metadata": {
    "tags": []
   },
   "outputs": [
    {
     "name": "stdout",
     "output_type": "stream",
     "text": [
      "                                               sentence sentiment agreement\n",
      "3458  TELECOMWORLDWIRE-7 April 2006-TJ Group Plc sel...  positive        66\n",
      "3574  The Group 's business is balanced by its broad...  positive        66\n",
      "4221  TELECOMWORLDWIRE-7 April 2006-TJ Group Plc sel...   neutral        50\n",
      "4305  The Group 's business is balanced by its broad...   neutral        50\n"
     ]
    }
   ],
   "source": [
    "duplicated_ids = correct_df[correct_df['sentence'].duplicated(keep=False)]\n",
    "\n",
    "print(duplicated_ids)"
   ]
  },
  {
   "cell_type": "markdown",
   "id": "4c3318e9-6318-4630-86fe-5c39aad242be",
   "metadata": {},
   "source": [
    "### NOTE: TELECOMWORLDWIRE-7 April 2006-TJ Group Plc sel => 50% agreement with neutral and  66% with positive similarly The Group 's business is balanced by its broad . so removed 4 entries related to that"
   ]
  },
  {
   "cell_type": "code",
   "execution_count": 41,
   "id": "3d30eaa8-bec6-41f1-975f-34709904f1e7",
   "metadata": {
    "tags": []
   },
   "outputs": [],
   "source": [
    "correct_df.drop_duplicates(subset=\"sentence\",inplace=True,keep=False)\n",
    "                                      "
   ]
  },
  {
   "cell_type": "code",
   "execution_count": 42,
   "id": "0cf87362-7bf5-42ba-aa22-eca4cad0093c",
   "metadata": {
    "tags": []
   },
   "outputs": [
    {
     "data": {
      "text/html": [
       "<div>\n",
       "<style scoped>\n",
       "    .dataframe tbody tr th:only-of-type {\n",
       "        vertical-align: middle;\n",
       "    }\n",
       "\n",
       "    .dataframe tbody tr th {\n",
       "        vertical-align: top;\n",
       "    }\n",
       "\n",
       "    .dataframe thead th {\n",
       "        text-align: right;\n",
       "    }\n",
       "</style>\n",
       "<table border=\"1\" class=\"dataframe\">\n",
       "  <thead>\n",
       "    <tr style=\"text-align: right;\">\n",
       "      <th></th>\n",
       "      <th>sentence</th>\n",
       "      <th>sentiment</th>\n",
       "      <th>agreement</th>\n",
       "    </tr>\n",
       "  </thead>\n",
       "  <tbody>\n",
       "    <tr>\n",
       "      <th>count</th>\n",
       "      <td>4836</td>\n",
       "      <td>4836</td>\n",
       "      <td>4836</td>\n",
       "    </tr>\n",
       "    <tr>\n",
       "      <th>unique</th>\n",
       "      <td>4836</td>\n",
       "      <td>3</td>\n",
       "      <td>4</td>\n",
       "    </tr>\n",
       "    <tr>\n",
       "      <th>top</th>\n",
       "      <td>Net sales of the Paper segment decreased to EU...</td>\n",
       "      <td>neutral</td>\n",
       "      <td>All</td>\n",
       "    </tr>\n",
       "    <tr>\n",
       "      <th>freq</th>\n",
       "      <td>1</td>\n",
       "      <td>2871</td>\n",
       "      <td>2259</td>\n",
       "    </tr>\n",
       "  </tbody>\n",
       "</table>\n",
       "</div>"
      ],
      "text/plain": [
       "                                                 sentence sentiment agreement\n",
       "count                                                4836      4836      4836\n",
       "unique                                               4836         3         4\n",
       "top     Net sales of the Paper segment decreased to EU...   neutral       All\n",
       "freq                                                    1      2871      2259"
      ]
     },
     "execution_count": 42,
     "metadata": {},
     "output_type": "execute_result"
    }
   ],
   "source": [
    "correct_df.describe()"
   ]
  },
  {
   "cell_type": "code",
   "execution_count": 71,
   "id": "8bd093f7-753e-46ba-ace2-f5667d89451c",
   "metadata": {
    "tags": []
   },
   "outputs": [
    {
     "data": {
      "text/html": [
       "<div>\n",
       "<style scoped>\n",
       "    .dataframe tbody tr th:only-of-type {\n",
       "        vertical-align: middle;\n",
       "    }\n",
       "\n",
       "    .dataframe tbody tr th {\n",
       "        vertical-align: top;\n",
       "    }\n",
       "\n",
       "    .dataframe thead th {\n",
       "        text-align: right;\n",
       "    }\n",
       "</style>\n",
       "<table border=\"1\" class=\"dataframe\">\n",
       "  <thead>\n",
       "    <tr style=\"text-align: right;\">\n",
       "      <th></th>\n",
       "      <th>sentence</th>\n",
       "      <th>sentiment</th>\n",
       "      <th>agreement</th>\n",
       "    </tr>\n",
       "  </thead>\n",
       "  <tbody>\n",
       "    <tr>\n",
       "      <th>0</th>\n",
       "      <td>According to Gran , the company has no plans t...</td>\n",
       "      <td>neutral</td>\n",
       "      <td>All</td>\n",
       "    </tr>\n",
       "    <tr>\n",
       "      <th>1</th>\n",
       "      <td>For the last quarter of 2010 , Componenta 's n...</td>\n",
       "      <td>positive</td>\n",
       "      <td>All</td>\n",
       "    </tr>\n",
       "    <tr>\n",
       "      <th>2</th>\n",
       "      <td>In the third quarter of 2010 , net sales incre...</td>\n",
       "      <td>positive</td>\n",
       "      <td>All</td>\n",
       "    </tr>\n",
       "    <tr>\n",
       "      <th>3</th>\n",
       "      <td>Operating profit rose to EUR 13.1 mn from EUR ...</td>\n",
       "      <td>positive</td>\n",
       "      <td>All</td>\n",
       "    </tr>\n",
       "    <tr>\n",
       "      <th>4</th>\n",
       "      <td>Operating profit totalled EUR 21.1 mn , up fro...</td>\n",
       "      <td>positive</td>\n",
       "      <td>All</td>\n",
       "    </tr>\n",
       "  </tbody>\n",
       "</table>\n",
       "</div>"
      ],
      "text/plain": [
       "                                            sentence sentiment agreement\n",
       "0  According to Gran , the company has no plans t...   neutral       All\n",
       "1  For the last quarter of 2010 , Componenta 's n...  positive       All\n",
       "2  In the third quarter of 2010 , net sales incre...  positive       All\n",
       "3  Operating profit rose to EUR 13.1 mn from EUR ...  positive       All\n",
       "4  Operating profit totalled EUR 21.1 mn , up fro...  positive       All"
      ]
     },
     "execution_count": 71,
     "metadata": {},
     "output_type": "execute_result"
    }
   ],
   "source": [
    "correct_df.head()"
   ]
  },
  {
   "cell_type": "code",
   "execution_count": 95,
   "id": "4a0ab17f-2ba2-4691-aedb-0d6c4ef1bc05",
   "metadata": {
    "tags": []
   },
   "outputs": [
    {
     "name": "stderr",
     "output_type": "stream",
     "text": [
      "C:\\Users\\swath\\AppData\\Local\\Temp\\ipykernel_20924\\1279265828.py:1: FutureWarning: Downcasting behavior in `replace` is deprecated and will be removed in a future version. To retain the old behavior, explicitly call `result.infer_objects(copy=False)`. To opt-in to the future behavior, set `pd.set_option('future.no_silent_downcasting', True)`\n",
      "  correct_df['agreement'] = correct_df['agreement'].replace({'All':100 ,'75':75,'66':66,'50':50})\n"
     ]
    }
   ],
   "source": [
    "correct_df['agreement'] = correct_df['agreement'].replace({'All':100 ,'75':75,'66':66,'50':50})"
   ]
  },
  {
   "cell_type": "code",
   "execution_count": 96,
   "id": "5a2158d8-4034-4129-ab62-0b55fa403115",
   "metadata": {
    "tags": []
   },
   "outputs": [
    {
     "name": "stdout",
     "output_type": "stream",
     "text": [
      "<class 'pandas.core.frame.DataFrame'>\n",
      "Index: 4836 entries, 0 to 4839\n",
      "Data columns (total 3 columns):\n",
      " #   Column     Non-Null Count  Dtype \n",
      "---  ------     --------------  ----- \n",
      " 0   sentence   4836 non-null   object\n",
      " 1   sentiment  4836 non-null   object\n",
      " 2   agreement  4836 non-null   int64 \n",
      "dtypes: int64(1), object(2)\n",
      "memory usage: 151.1+ KB\n"
     ]
    }
   ],
   "source": [
    "correct_df.info()"
   ]
  },
  {
   "cell_type": "code",
   "execution_count": 98,
   "id": "abc496ae-dfdd-480f-b509-02fe497a5827",
   "metadata": {
    "tags": []
   },
   "outputs": [
    {
     "data": {
      "text/plain": [
       "Counter({100: 2259, 75: 1189, 66: 761, 50: 627})"
      ]
     },
     "execution_count": 98,
     "metadata": {},
     "output_type": "execute_result"
    }
   ],
   "source": [
    "Counter(correct_df[\"agreement\"])"
   ]
  },
  {
   "cell_type": "code",
   "execution_count": 101,
   "id": "07d0773e-77a9-450e-a8fd-835f609dc65f",
   "metadata": {
    "tags": []
   },
   "outputs": [],
   "source": [
    "correct_df.rename(columns={\"agreement\" : \"confidence\"} ,inplace=True)"
   ]
  },
  {
   "cell_type": "code",
   "execution_count": 102,
   "id": "865afb3b-96dc-43ff-8383-228c5bc94e1d",
   "metadata": {
    "tags": []
   },
   "outputs": [
    {
     "data": {
      "text/html": [
       "<div>\n",
       "<style scoped>\n",
       "    .dataframe tbody tr th:only-of-type {\n",
       "        vertical-align: middle;\n",
       "    }\n",
       "\n",
       "    .dataframe tbody tr th {\n",
       "        vertical-align: top;\n",
       "    }\n",
       "\n",
       "    .dataframe thead th {\n",
       "        text-align: right;\n",
       "    }\n",
       "</style>\n",
       "<table border=\"1\" class=\"dataframe\">\n",
       "  <thead>\n",
       "    <tr style=\"text-align: right;\">\n",
       "      <th></th>\n",
       "      <th>sentence</th>\n",
       "      <th>sentiment</th>\n",
       "      <th>confidence</th>\n",
       "    </tr>\n",
       "  </thead>\n",
       "  <tbody>\n",
       "    <tr>\n",
       "      <th>0</th>\n",
       "      <td>According to Gran , the company has no plans t...</td>\n",
       "      <td>neutral</td>\n",
       "      <td>100</td>\n",
       "    </tr>\n",
       "    <tr>\n",
       "      <th>1</th>\n",
       "      <td>For the last quarter of 2010 , Componenta 's n...</td>\n",
       "      <td>positive</td>\n",
       "      <td>100</td>\n",
       "    </tr>\n",
       "    <tr>\n",
       "      <th>2</th>\n",
       "      <td>In the third quarter of 2010 , net sales incre...</td>\n",
       "      <td>positive</td>\n",
       "      <td>100</td>\n",
       "    </tr>\n",
       "    <tr>\n",
       "      <th>3</th>\n",
       "      <td>Operating profit rose to EUR 13.1 mn from EUR ...</td>\n",
       "      <td>positive</td>\n",
       "      <td>100</td>\n",
       "    </tr>\n",
       "    <tr>\n",
       "      <th>4</th>\n",
       "      <td>Operating profit totalled EUR 21.1 mn , up fro...</td>\n",
       "      <td>positive</td>\n",
       "      <td>100</td>\n",
       "    </tr>\n",
       "  </tbody>\n",
       "</table>\n",
       "</div>"
      ],
      "text/plain": [
       "                                            sentence sentiment  confidence\n",
       "0  According to Gran , the company has no plans t...   neutral         100\n",
       "1  For the last quarter of 2010 , Componenta 's n...  positive         100\n",
       "2  In the third quarter of 2010 , net sales incre...  positive         100\n",
       "3  Operating profit rose to EUR 13.1 mn from EUR ...  positive         100\n",
       "4  Operating profit totalled EUR 21.1 mn , up fro...  positive         100"
      ]
     },
     "execution_count": 102,
     "metadata": {},
     "output_type": "execute_result"
    }
   ],
   "source": [
    "correct_df.head()"
   ]
  },
  {
   "cell_type": "code",
   "execution_count": 103,
   "id": "6e77a8e3-943c-4fab-81ad-730fc58dc76b",
   "metadata": {
    "tags": []
   },
   "outputs": [
    {
     "name": "stdout",
     "output_type": "stream",
     "text": [
      "<class 'pandas.core.frame.DataFrame'>\n",
      "Index: 4836 entries, 0 to 4839\n",
      "Data columns (total 3 columns):\n",
      " #   Column      Non-Null Count  Dtype \n",
      "---  ------      --------------  ----- \n",
      " 0   sentence    4836 non-null   object\n",
      " 1   sentiment   4836 non-null   object\n",
      " 2   confidence  4836 non-null   int64 \n",
      "dtypes: int64(1), object(2)\n",
      "memory usage: 151.1+ KB\n"
     ]
    }
   ],
   "source": [
    "correct_df.info()"
   ]
  },
  {
   "cell_type": "markdown",
   "id": "b7335851-3213-4dd6-860a-6a7dd2e0b443",
   "metadata": {},
   "source": [
    "### Visualization"
   ]
  },
  {
   "cell_type": "code",
   "execution_count": 104,
   "id": "d90ed9f2-3412-4be5-b40c-baa8986a537b",
   "metadata": {
    "tags": []
   },
   "outputs": [
    {
     "data": {
      "text/plain": [
       "pandas.core.frame.DataFrame"
      ]
     },
     "execution_count": 104,
     "metadata": {},
     "output_type": "execute_result"
    }
   ],
   "source": [
    "ploting_data=correct_df.groupby('confidence')['sentiment'].value_counts().unstack(fill_value=0)\n",
    "type(ploting_data)"
   ]
  },
  {
   "cell_type": "code",
   "execution_count": 105,
   "id": "a0a8d7ae-b30b-4cc8-aa56-4751b1080ad2",
   "metadata": {
    "tags": []
   },
   "outputs": [
    {
     "data": {
      "text/html": [
       "<div>\n",
       "<style scoped>\n",
       "    .dataframe tbody tr th:only-of-type {\n",
       "        vertical-align: middle;\n",
       "    }\n",
       "\n",
       "    .dataframe tbody tr th {\n",
       "        vertical-align: top;\n",
       "    }\n",
       "\n",
       "    .dataframe thead th {\n",
       "        text-align: right;\n",
       "    }\n",
       "</style>\n",
       "<table border=\"1\" class=\"dataframe\">\n",
       "  <thead>\n",
       "    <tr style=\"text-align: right;\">\n",
       "      <th>sentiment</th>\n",
       "      <th>negative</th>\n",
       "      <th>neutral</th>\n",
       "      <th>positive</th>\n",
       "    </tr>\n",
       "    <tr>\n",
       "      <th>confidence</th>\n",
       "      <th></th>\n",
       "      <th></th>\n",
       "      <th></th>\n",
       "    </tr>\n",
       "  </thead>\n",
       "  <tbody>\n",
       "    <tr>\n",
       "      <th>50</th>\n",
       "      <td>90</td>\n",
       "      <td>342</td>\n",
       "      <td>195</td>\n",
       "    </tr>\n",
       "    <tr>\n",
       "      <th>66</th>\n",
       "      <td>94</td>\n",
       "      <td>388</td>\n",
       "      <td>279</td>\n",
       "    </tr>\n",
       "    <tr>\n",
       "      <th>75</th>\n",
       "      <td>117</td>\n",
       "      <td>755</td>\n",
       "      <td>317</td>\n",
       "    </tr>\n",
       "    <tr>\n",
       "      <th>100</th>\n",
       "      <td>303</td>\n",
       "      <td>1386</td>\n",
       "      <td>570</td>\n",
       "    </tr>\n",
       "  </tbody>\n",
       "</table>\n",
       "</div>"
      ],
      "text/plain": [
       "sentiment   negative  neutral  positive\n",
       "confidence                             \n",
       "50                90      342       195\n",
       "66                94      388       279\n",
       "75               117      755       317\n",
       "100              303     1386       570"
      ]
     },
     "execution_count": 105,
     "metadata": {},
     "output_type": "execute_result"
    }
   ],
   "source": [
    "ploting_data"
   ]
  },
  {
   "cell_type": "code",
   "execution_count": 109,
   "id": "f9d22816-a28b-4a20-8ea9-ccbd90c7768f",
   "metadata": {
    "tags": []
   },
   "outputs": [
    {
     "data": {
      "text/plain": [
       "np.int64(195)"
      ]
     },
     "execution_count": 109,
     "metadata": {},
     "output_type": "execute_result"
    }
   ],
   "source": [
    "ploting_data.loc[50][\"positive\"]"
   ]
  },
  {
   "cell_type": "code",
   "execution_count": null,
   "id": "92383622-8327-485a-9afe-1bbfe6b8a32c",
   "metadata": {},
   "outputs": [],
   "source": []
  },
  {
   "cell_type": "code",
   "execution_count": 112,
   "id": "d4eebfaf-8fa4-47c7-b42a-fe6b7f6bbd6b",
   "metadata": {
    "tags": []
   },
   "outputs": [
    {
     "data": {
      "image/png": "[encoded data removed]",
      "text/plain": [
       "<Figure size 640x480 with 1 Axes>"
      ]
     },
     "metadata": {},
     "output_type": "display_data"
    }
   ],
   "source": [
    "categories = ['Neutral', 'Positive', 'Negative']\n",
    "groups = ['100 %', '75%', '66%',\"55%\"]\n",
    "confidence_100=[ploting_data.loc[100][\"neutral\"] ,ploting_data.loc[100][\"positive\"] ,ploting_data.loc[100][\"negative\"]]\n",
    "confidence_75=[ploting_data.loc[75][\"neutral\"] ,ploting_data.loc[75][\"positive\"] ,ploting_data.loc[75][\"negative\"]]\n",
    "confidence_66=[ploting_data.loc[66][\"neutral\"] ,ploting_data.loc[66][\"positive\"] ,ploting_data.loc[66][\"negative\"]]\n",
    "confidence_50=[ploting_data.loc[50][\"neutral\"] ,ploting_data.loc[50][\"positive\"] ,ploting_data.loc[50][\"negative\"]]\n",
    "\n",
    "\n",
    "                \n",
    "                \n",
    "values = np.array([confidence_100, confidence_75, confidence_66,confidence_50])\n",
    "n_groups = len(groups)\n",
    "n_categories = len(categories)\n",
    "bar_width = 0.2\n",
    "\n",
    "fig, ax = plt.subplots()\n",
    "colors=[\"blue\",\"green\",\"red\"]\n",
    "# bars for each category\n",
    "for i in range(n_categories):\n",
    "    \n",
    "    bars = ax.bar(index + i * bar_width, values[:, i], bar_width, label=categories[i], color=colors[i])\n",
    "    \n",
    "        # Add count above each bar\n",
    "    for bar in bars:\n",
    "        height = bar.get_height()\n",
    "        ax.text(bar.get_x() + bar.get_width() / 2.0, height, '%d' % int(height), \n",
    "                ha='center', va='bottom')\n",
    "\n",
    "\n",
    "ax.set_xlabel('Confidence')\n",
    "ax.set_ylabel('No of news')\n",
    "ax.set_title(' Bar Chart')\n",
    "ax.set_xticks(index + bar_width * (n_categories - 1) / 2)\n",
    "ax.set_xticklabels(groups)\n",
    "ax.legend(title='sentiment')\n",
    "\n",
    "\n",
    "plt.show()"
   ]
  },
  {
   "cell_type": "code",
   "execution_count": 113,
   "id": "27e2f448-7a4a-4faf-bbce-60e401e9ff36",
   "metadata": {
    "tags": []
   },
   "outputs": [],
   "source": [
    "# save data\n",
    "\n",
    "correct_df.to_csv(\"data/correct_dataset.csv\",index=False)"
   ]
  },
  {
   "cell_type": "code",
   "execution_count": null,
   "id": "b5f0458b-857d-4506-afbc-6b2343376afb",
   "metadata": {},
   "outputs": [],
   "source": []
  },
  {
   "cell_type": "code",
   "execution_count": null,
   "id": "e1c120f9-6cb5-4eb7-99b8-9c2ffbe6b973",
   "metadata": {},
   "outputs": [],
   "source": []
  },
  {
   "cell_type": "code",
   "execution_count": null,
   "id": "9651d65d-f93c-4d37-a9c9-217ef608f1f2",
   "metadata": {},
   "outputs": [],
   "source": []
  }
 ],
 "metadata": {
  "kernelspec": {
   "display_name": "finanalyzer",
   "language": "python",
   "name": "finanalyzer"
  },
  "language_info": {
   "codemirror_mode": {
    "name": "ipython",
    "version": 3
   },
   "file_extension": ".py",
   "mimetype": "text/x-python",
   "name": "python",
   "nbconvert_exporter": "python",
   "pygments_lexer": "ipython3",
   "version": "3.9.12"
  }
 },
 "nbformat": 4,
 "nbformat_minor": 5
}
