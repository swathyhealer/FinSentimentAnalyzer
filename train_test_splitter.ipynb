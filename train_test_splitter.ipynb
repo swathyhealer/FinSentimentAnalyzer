{
 "cells": [
  {
   "cell_type": "markdown",
   "id": "bd26a99c-0e63-4ffb-aa81-10c542ab4499",
   "metadata": {},
   "source": [
    "## CREATE TRAIN DATASET AND TESTING DATASET\n",
    "        This note book is used to split cleaned dataset (correct_dataset.csv) into training data and testing data\n",
    "        \n",
    "#### Key points:\n",
    "            1. 100% confidence - news needs to dominate in both training and testing dataset\n",
    "            2. Also need to balance neural +ve and -ve in both training and testing -\n",
    "\n",
    "####  train data \n",
    "        1. 85%  of 100% dataset => \n",
    "            min count = 303 , 85% of 303 = 258 (appr) , total =774\n",
    "        2. 85% of  75 % dataset\n",
    "            min count = 117 , 85% of 117 = 100 (appr) , total =300\n",
    "        3. 40% of 66% dataset\n",
    "            min count = 94 , 40% of 94 =38 (appr) , total = 114\n",
    "        4. 20% of 50% dataset\n",
    "            min count = 90 , 20% of 90 =18 (appr) , total = 54\n",
    "            \n",
    "        \n",
    "        Total training data = 1242\n",
    "\n",
    "#### test data\n",
    "        min count - traning data\n",
    "        1. in 100% confident data \n",
    "            303-258 =45  ,  45 * 3 = 135\n",
    "        2. in 75% confident data \n",
    "           117-100 =17 , 17*3 = 51\n",
    "        3. in 66% confident data\n",
    "            94-38 = 56 , 56 *3 =168\n",
    "        4. in 50% confident data\n",
    "            90-18 =72 , 72*3 = 216\n",
    "            \n",
    "        main test data will be 100% confident data + 75% confident data \n",
    "        main test data =186\n",
    "        total test data =570\n",
    "            "
   ]
  },
  {
   "cell_type": "code",
   "execution_count": 1,
   "id": "e807e158-5c1a-45e7-b70a-1c5b55e32596",
   "metadata": {},
   "outputs": [],
   "source": [
    "import pandas as pd\n",
    "from sklearn.model_selection import train_test_split\n",
    "from collections import Counter"
   ]
  },
  {
   "cell_type": "code",
   "execution_count": 2,
   "id": "8cf18fd2-3022-44ed-8eba-69888124c6dc",
   "metadata": {
    "tags": []
   },
   "outputs": [
    {
     "data": {
      "text/plain": [
       "'C:\\\\Users\\\\swath\\\\OneDrive\\\\Desktop\\\\hiring companies\\\\FINIGAMI\\\\FinSentimentAnalyzer'"
      ]
     },
     "execution_count": 2,
     "metadata": {},
     "output_type": "execute_result"
    }
   ],
   "source": [
    "pwd"
   ]
  },
  {
   "cell_type": "code",
   "execution_count": 3,
   "id": "b9867f8b-3992-47e0-ad7f-67722a46c073",
   "metadata": {
    "tags": []
   },
   "outputs": [
    {
     "name": "stdout",
     "output_type": "stream",
     "text": [
      "<class 'pandas.core.frame.DataFrame'>\n",
      "RangeIndex: 4836 entries, 0 to 4835\n",
      "Data columns (total 3 columns):\n",
      " #   Column      Non-Null Count  Dtype \n",
      "---  ------      --------------  ----- \n",
      " 0   sentence    4836 non-null   object\n",
      " 1   sentiment   4836 non-null   object\n",
      " 2   confidence  4836 non-null   int64 \n",
      "dtypes: int64(1), object(2)\n",
      "memory usage: 113.5+ KB\n"
     ]
    }
   ],
   "source": [
    "df=pd.read_csv(\"./data/correct_dataset.csv\")\n",
    "df.info()"
   ]
  },
  {
   "cell_type": "code",
   "execution_count": 4,
   "id": "9791ca54-dc5b-434f-b463-5b86dea29ea8",
   "metadata": {
    "tags": []
   },
   "outputs": [
    {
     "data": {
      "text/html": [
       "<div>\n",
       "<style scoped>\n",
       "    .dataframe tbody tr th:only-of-type {\n",
       "        vertical-align: middle;\n",
       "    }\n",
       "\n",
       "    .dataframe tbody tr th {\n",
       "        vertical-align: top;\n",
       "    }\n",
       "\n",
       "    .dataframe thead th {\n",
       "        text-align: right;\n",
       "    }\n",
       "</style>\n",
       "<table border=\"1\" class=\"dataframe\">\n",
       "  <thead>\n",
       "    <tr style=\"text-align: right;\">\n",
       "      <th></th>\n",
       "      <th>sentence</th>\n",
       "      <th>sentiment</th>\n",
       "      <th>confidence</th>\n",
       "    </tr>\n",
       "  </thead>\n",
       "  <tbody>\n",
       "    <tr>\n",
       "      <th>0</th>\n",
       "      <td>According to Gran , the company has no plans t...</td>\n",
       "      <td>neutral</td>\n",
       "      <td>100</td>\n",
       "    </tr>\n",
       "    <tr>\n",
       "      <th>1</th>\n",
       "      <td>For the last quarter of 2010 , Componenta 's n...</td>\n",
       "      <td>positive</td>\n",
       "      <td>100</td>\n",
       "    </tr>\n",
       "    <tr>\n",
       "      <th>2</th>\n",
       "      <td>In the third quarter of 2010 , net sales incre...</td>\n",
       "      <td>positive</td>\n",
       "      <td>100</td>\n",
       "    </tr>\n",
       "    <tr>\n",
       "      <th>3</th>\n",
       "      <td>Operating profit rose to EUR 13.1 mn from EUR ...</td>\n",
       "      <td>positive</td>\n",
       "      <td>100</td>\n",
       "    </tr>\n",
       "    <tr>\n",
       "      <th>4</th>\n",
       "      <td>Operating profit totalled EUR 21.1 mn , up fro...</td>\n",
       "      <td>positive</td>\n",
       "      <td>100</td>\n",
       "    </tr>\n",
       "  </tbody>\n",
       "</table>\n",
       "</div>"
      ],
      "text/plain": [
       "                                            sentence sentiment  confidence\n",
       "0  According to Gran , the company has no plans t...   neutral         100\n",
       "1  For the last quarter of 2010 , Componenta 's n...  positive         100\n",
       "2  In the third quarter of 2010 , net sales incre...  positive         100\n",
       "3  Operating profit rose to EUR 13.1 mn from EUR ...  positive         100\n",
       "4  Operating profit totalled EUR 21.1 mn , up fro...  positive         100"
      ]
     },
     "execution_count": 4,
     "metadata": {},
     "output_type": "execute_result"
    }
   ],
   "source": [
    "df.head()"
   ]
  },
  {
   "cell_type": "code",
   "execution_count": 5,
   "id": "75496bbc-e4cd-466d-9be8-b0750074edcf",
   "metadata": {
    "tags": []
   },
   "outputs": [
    {
     "data": {
      "text/html": [
       "<div>\n",
       "<style scoped>\n",
       "    .dataframe tbody tr th:only-of-type {\n",
       "        vertical-align: middle;\n",
       "    }\n",
       "\n",
       "    .dataframe tbody tr th {\n",
       "        vertical-align: top;\n",
       "    }\n",
       "\n",
       "    .dataframe thead th {\n",
       "        text-align: right;\n",
       "    }\n",
       "</style>\n",
       "<table border=\"1\" class=\"dataframe\">\n",
       "  <thead>\n",
       "    <tr style=\"text-align: right;\">\n",
       "      <th></th>\n",
       "      <th>sentence</th>\n",
       "      <th>sentiment</th>\n",
       "      <th>confidence</th>\n",
       "    </tr>\n",
       "  </thead>\n",
       "  <tbody>\n",
       "  </tbody>\n",
       "</table>\n",
       "</div>"
      ],
      "text/plain": [
       "Empty DataFrame\n",
       "Columns: [sentence, sentiment, confidence]\n",
       "Index: []"
      ]
     },
     "execution_count": 5,
     "metadata": {},
     "output_type": "execute_result"
    }
   ],
   "source": [
    "train_df= pd.DataFrame(columns=[\"sentence\",\"sentiment\",\"confidence\"])\n",
    "train_df.head()        "
   ]
  },
  {
   "cell_type": "code",
   "execution_count": 6,
   "id": "ebb94583-9c7e-4804-b95d-f5810a4b8c81",
   "metadata": {
    "tags": []
   },
   "outputs": [
    {
     "data": {
      "text/html": [
       "<div>\n",
       "<style scoped>\n",
       "    .dataframe tbody tr th:only-of-type {\n",
       "        vertical-align: middle;\n",
       "    }\n",
       "\n",
       "    .dataframe tbody tr th {\n",
       "        vertical-align: top;\n",
       "    }\n",
       "\n",
       "    .dataframe thead th {\n",
       "        text-align: right;\n",
       "    }\n",
       "</style>\n",
       "<table border=\"1\" class=\"dataframe\">\n",
       "  <thead>\n",
       "    <tr style=\"text-align: right;\">\n",
       "      <th></th>\n",
       "      <th>sentence</th>\n",
       "      <th>sentiment</th>\n",
       "      <th>confidence</th>\n",
       "    </tr>\n",
       "  </thead>\n",
       "  <tbody>\n",
       "  </tbody>\n",
       "</table>\n",
       "</div>"
      ],
      "text/plain": [
       "Empty DataFrame\n",
       "Columns: [sentence, sentiment, confidence]\n",
       "Index: []"
      ]
     },
     "execution_count": 6,
     "metadata": {},
     "output_type": "execute_result"
    }
   ],
   "source": [
    "test_df= pd.DataFrame(columns=[\"sentence\",\"sentiment\",\"confidence\"])\n",
    "test_df.head()        "
   ]
  },
  {
   "cell_type": "markdown",
   "id": "61a582f7-497c-448f-9b47-e789aa89ea72",
   "metadata": {
    "jp-MarkdownHeadingCollapsed": true,
    "tags": []
   },
   "source": [
    "#### 100 confidence"
   ]
  },
  {
   "cell_type": "code",
   "execution_count": 7,
   "id": "7dc189ed-9985-4031-9171-0c8e7a51e8cc",
   "metadata": {
    "tags": []
   },
   "outputs": [],
   "source": [
    "train_count_per_label=258\n",
    "test_count_per_label=45"
   ]
  },
  {
   "cell_type": "code",
   "execution_count": 8,
   "id": "bf286ed1-0f72-4a1f-a388-044d6f62068e",
   "metadata": {
    "tags": []
   },
   "outputs": [],
   "source": [
    "df_conf100 = df[df['confidence'] == 100]\n",
    "df_conf100=df_conf100.sample(frac=1, random_state=42).reset_index(drop=True)"
   ]
  },
  {
   "cell_type": "code",
   "execution_count": 9,
   "id": "7f881717-baa4-4dc7-8cd8-28086664f977",
   "metadata": {
    "tags": []
   },
   "outputs": [],
   "source": [
    "positive = df_conf100[df_conf100['sentiment'] == 'positive']\n",
    "negative = df_conf100[df_conf100['sentiment'] == 'negative']\n",
    "neutral = df_conf100[df_conf100['sentiment'] == 'neutral']\n",
    "\n",
    "\n",
    "train_positive = positive.iloc[:train_count_per_label]\n",
    "train_negative = negative.iloc[:train_count_per_label]\n",
    "train_neutral = neutral.iloc[:train_count_per_label]\n",
    "\n"
   ]
  },
  {
   "cell_type": "code",
   "execution_count": 10,
   "id": "3a9e8e4b-57d0-49e0-9b73-9f783702f1af",
   "metadata": {
    "tags": []
   },
   "outputs": [
    {
     "name": "stdout",
     "output_type": "stream",
     "text": [
      "<class 'pandas.core.frame.DataFrame'>\n",
      "Index: 258 entries, 0 to 423\n",
      "Data columns (total 3 columns):\n",
      " #   Column      Non-Null Count  Dtype \n",
      "---  ------      --------------  ----- \n",
      " 0   sentence    258 non-null    object\n",
      " 1   sentiment   258 non-null    object\n",
      " 2   confidence  258 non-null    int64 \n",
      "dtypes: int64(1), object(2)\n",
      "memory usage: 8.1+ KB\n"
     ]
    }
   ],
   "source": [
    "train_neutral.info()"
   ]
  },
  {
   "cell_type": "code",
   "execution_count": 11,
   "id": "df55cdb0-873a-4db2-b0f3-2f9b030d2652",
   "metadata": {
    "tags": []
   },
   "outputs": [
    {
     "name": "stdout",
     "output_type": "stream",
     "text": [
      "<class 'pandas.core.frame.DataFrame'>\n",
      "RangeIndex: 774 entries, 0 to 773\n",
      "Data columns (total 3 columns):\n",
      " #   Column      Non-Null Count  Dtype \n",
      "---  ------      --------------  ----- \n",
      " 0   sentence    774 non-null    object\n",
      " 1   sentiment   774 non-null    object\n",
      " 2   confidence  774 non-null    object\n",
      "dtypes: object(3)\n",
      "memory usage: 18.3+ KB\n"
     ]
    }
   ],
   "source": [
    "train_df=pd.concat([train_df,train_positive, train_negative, train_neutral] , ignore_index=True)\n",
    "train_df.info()"
   ]
  },
  {
   "cell_type": "code",
   "execution_count": 12,
   "id": "d7e79a63-8eaf-4d85-b064-5e1a0b855dea",
   "metadata": {
    "tags": []
   },
   "outputs": [
    {
     "data": {
      "text/html": [
       "<div>\n",
       "<style scoped>\n",
       "    .dataframe tbody tr th:only-of-type {\n",
       "        vertical-align: middle;\n",
       "    }\n",
       "\n",
       "    .dataframe tbody tr th {\n",
       "        vertical-align: top;\n",
       "    }\n",
       "\n",
       "    .dataframe thead th {\n",
       "        text-align: right;\n",
       "    }\n",
       "</style>\n",
       "<table border=\"1\" class=\"dataframe\">\n",
       "  <thead>\n",
       "    <tr style=\"text-align: right;\">\n",
       "      <th></th>\n",
       "      <th>sentence</th>\n",
       "      <th>sentiment</th>\n",
       "      <th>confidence</th>\n",
       "    </tr>\n",
       "  </thead>\n",
       "  <tbody>\n",
       "    <tr>\n",
       "      <th>0</th>\n",
       "      <td>Profit after taxes for the period was up to EU...</td>\n",
       "      <td>positive</td>\n",
       "      <td>100</td>\n",
       "    </tr>\n",
       "    <tr>\n",
       "      <th>1</th>\n",
       "      <td>In 2009 , Fiskars ' cash flow from operating a...</td>\n",
       "      <td>positive</td>\n",
       "      <td>100</td>\n",
       "    </tr>\n",
       "    <tr>\n",
       "      <th>2</th>\n",
       "      <td>EBIT margin was up from 1.4 % to 5.1 % .</td>\n",
       "      <td>positive</td>\n",
       "      <td>100</td>\n",
       "    </tr>\n",
       "    <tr>\n",
       "      <th>3</th>\n",
       "      <td>Major Order in India Comptel Corporation has r...</td>\n",
       "      <td>positive</td>\n",
       "      <td>100</td>\n",
       "    </tr>\n",
       "    <tr>\n",
       "      <th>4</th>\n",
       "      <td>The chain posted sales of 298 million euros fo...</td>\n",
       "      <td>positive</td>\n",
       "      <td>100</td>\n",
       "    </tr>\n",
       "  </tbody>\n",
       "</table>\n",
       "</div>"
      ],
      "text/plain": [
       "                                            sentence sentiment confidence\n",
       "0  Profit after taxes for the period was up to EU...  positive        100\n",
       "1  In 2009 , Fiskars ' cash flow from operating a...  positive        100\n",
       "2           EBIT margin was up from 1.4 % to 5.1 % .  positive        100\n",
       "3  Major Order in India Comptel Corporation has r...  positive        100\n",
       "4  The chain posted sales of 298 million euros fo...  positive        100"
      ]
     },
     "execution_count": 12,
     "metadata": {},
     "output_type": "execute_result"
    }
   ],
   "source": [
    "train_df.head()"
   ]
  },
  {
   "cell_type": "code",
   "execution_count": 13,
   "id": "a924b76f-2ac1-4ed7-9f6a-0d1281f26c82",
   "metadata": {
    "tags": []
   },
   "outputs": [
    {
     "data": {
      "text/plain": [
       "0"
      ]
     },
     "execution_count": 13,
     "metadata": {},
     "output_type": "execute_result"
    }
   ],
   "source": [
    "train_df[\"sentence\"].duplicated().sum()"
   ]
  },
  {
   "cell_type": "code",
   "execution_count": 14,
   "id": "684e1e1a-e4cb-4ef7-aff3-f0da6b7c6c0a",
   "metadata": {
    "tags": []
   },
   "outputs": [
    {
     "name": "stdout",
     "output_type": "stream",
     "text": [
      "<class 'pandas.core.frame.DataFrame'>\n",
      "Index: 45 entries, 1049 to 1226\n",
      "Data columns (total 3 columns):\n",
      " #   Column      Non-Null Count  Dtype \n",
      "---  ------      --------------  ----- \n",
      " 0   sentence    45 non-null     object\n",
      " 1   sentiment   45 non-null     object\n",
      " 2   confidence  45 non-null     int64 \n",
      "dtypes: int64(1), object(2)\n",
      "memory usage: 1.4+ KB\n"
     ]
    }
   ],
   "source": [
    "test_positive = positive.iloc[train_count_per_label:train_count_per_label+test_count_per_label]\n",
    "test_negative = negative.iloc[train_count_per_label:train_count_per_label+test_count_per_label]\n",
    "test_neutral = neutral.iloc[train_count_per_label:train_count_per_label+test_count_per_label]\n",
    "test_positive.info()"
   ]
  },
  {
   "cell_type": "code",
   "execution_count": 15,
   "id": "b05cf075-880a-462c-9a02-3235b3e02956",
   "metadata": {
    "tags": []
   },
   "outputs": [
    {
     "name": "stdout",
     "output_type": "stream",
     "text": [
      "<class 'pandas.core.frame.DataFrame'>\n",
      "RangeIndex: 135 entries, 0 to 134\n",
      "Data columns (total 3 columns):\n",
      " #   Column      Non-Null Count  Dtype \n",
      "---  ------      --------------  ----- \n",
      " 0   sentence    135 non-null    object\n",
      " 1   sentiment   135 non-null    object\n",
      " 2   confidence  135 non-null    object\n",
      "dtypes: object(3)\n",
      "memory usage: 3.3+ KB\n"
     ]
    }
   ],
   "source": [
    "test_df=pd.concat([test_df,test_positive, test_negative, test_neutral] , ignore_index=True)\n",
    "test_df.info()"
   ]
  },
  {
   "cell_type": "code",
   "execution_count": null,
   "id": "ad3c48b6-3ac9-43d6-8065-efc881cdc83c",
   "metadata": {},
   "outputs": [],
   "source": []
  },
  {
   "cell_type": "code",
   "execution_count": null,
   "id": "e492dffd-3eef-4833-bbe0-837b24883b4b",
   "metadata": {},
   "outputs": [],
   "source": []
  },
  {
   "cell_type": "markdown",
   "id": "94ccf96c-bcf3-4715-944a-5178f9e6a05c",
   "metadata": {
    "jp-MarkdownHeadingCollapsed": true,
    "tags": []
   },
   "source": [
    "#### 75 confidence"
   ]
  },
  {
   "cell_type": "code",
   "execution_count": 16,
   "id": "8248e0e2-9cb5-489e-b177-512885eeb372",
   "metadata": {
    "tags": []
   },
   "outputs": [],
   "source": [
    "train_count_per_label=100\n",
    "test_count_per_label=17\n",
    "conf=75"
   ]
  },
  {
   "cell_type": "code",
   "execution_count": 17,
   "id": "65af97ed-5564-4ef3-8ecb-cd08988627c9",
   "metadata": {
    "tags": []
   },
   "outputs": [],
   "source": [
    "df_conf100 = df[df['confidence'] ==conf ]\n",
    "df_conf100=df_conf100.sample(frac=1, random_state=42).reset_index(drop=True)"
   ]
  },
  {
   "cell_type": "code",
   "execution_count": 18,
   "id": "9fad6546-16da-447f-a826-e75785022b98",
   "metadata": {
    "tags": []
   },
   "outputs": [],
   "source": [
    "positive = df_conf100[df_conf100['sentiment'] == 'positive']\n",
    "negative = df_conf100[df_conf100['sentiment'] == 'negative']\n",
    "neutral = df_conf100[df_conf100['sentiment'] == 'neutral']\n",
    "\n",
    "\n",
    "train_positive = positive.iloc[:train_count_per_label]\n",
    "train_negative = negative.iloc[:train_count_per_label]\n",
    "train_neutral = neutral.iloc[:train_count_per_label]\n",
    "\n"
   ]
  },
  {
   "cell_type": "code",
   "execution_count": 19,
   "id": "c411cec5-abbb-4e08-bd79-1bacace263cd",
   "metadata": {
    "tags": []
   },
   "outputs": [
    {
     "name": "stdout",
     "output_type": "stream",
     "text": [
      "<class 'pandas.core.frame.DataFrame'>\n",
      "Index: 100 entries, 0 to 152\n",
      "Data columns (total 3 columns):\n",
      " #   Column      Non-Null Count  Dtype \n",
      "---  ------      --------------  ----- \n",
      " 0   sentence    100 non-null    object\n",
      " 1   sentiment   100 non-null    object\n",
      " 2   confidence  100 non-null    int64 \n",
      "dtypes: int64(1), object(2)\n",
      "memory usage: 3.1+ KB\n"
     ]
    }
   ],
   "source": [
    "train_neutral.info()"
   ]
  },
  {
   "cell_type": "code",
   "execution_count": 20,
   "id": "df9272fe-80c6-4dd2-96f0-5dc4d16a503a",
   "metadata": {
    "tags": []
   },
   "outputs": [
    {
     "name": "stdout",
     "output_type": "stream",
     "text": [
      "<class 'pandas.core.frame.DataFrame'>\n",
      "RangeIndex: 1074 entries, 0 to 1073\n",
      "Data columns (total 3 columns):\n",
      " #   Column      Non-Null Count  Dtype \n",
      "---  ------      --------------  ----- \n",
      " 0   sentence    1074 non-null   object\n",
      " 1   sentiment   1074 non-null   object\n",
      " 2   confidence  1074 non-null   object\n",
      "dtypes: object(3)\n",
      "memory usage: 25.3+ KB\n"
     ]
    }
   ],
   "source": [
    "train_df=pd.concat([train_df,train_positive, train_negative, train_neutral] , ignore_index=True)\n",
    "train_df.info()"
   ]
  },
  {
   "cell_type": "code",
   "execution_count": 21,
   "id": "4a6fd1a7-6c1d-45eb-a26c-e1674538f2d3",
   "metadata": {
    "tags": []
   },
   "outputs": [
    {
     "data": {
      "text/html": [
       "<div>\n",
       "<style scoped>\n",
       "    .dataframe tbody tr th:only-of-type {\n",
       "        vertical-align: middle;\n",
       "    }\n",
       "\n",
       "    .dataframe tbody tr th {\n",
       "        vertical-align: top;\n",
       "    }\n",
       "\n",
       "    .dataframe thead th {\n",
       "        text-align: right;\n",
       "    }\n",
       "</style>\n",
       "<table border=\"1\" class=\"dataframe\">\n",
       "  <thead>\n",
       "    <tr style=\"text-align: right;\">\n",
       "      <th></th>\n",
       "      <th>sentence</th>\n",
       "      <th>sentiment</th>\n",
       "      <th>confidence</th>\n",
       "    </tr>\n",
       "  </thead>\n",
       "  <tbody>\n",
       "    <tr>\n",
       "      <th>0</th>\n",
       "      <td>Profit after taxes for the period was up to EU...</td>\n",
       "      <td>positive</td>\n",
       "      <td>100</td>\n",
       "    </tr>\n",
       "    <tr>\n",
       "      <th>1</th>\n",
       "      <td>In 2009 , Fiskars ' cash flow from operating a...</td>\n",
       "      <td>positive</td>\n",
       "      <td>100</td>\n",
       "    </tr>\n",
       "    <tr>\n",
       "      <th>2</th>\n",
       "      <td>EBIT margin was up from 1.4 % to 5.1 % .</td>\n",
       "      <td>positive</td>\n",
       "      <td>100</td>\n",
       "    </tr>\n",
       "    <tr>\n",
       "      <th>3</th>\n",
       "      <td>Major Order in India Comptel Corporation has r...</td>\n",
       "      <td>positive</td>\n",
       "      <td>100</td>\n",
       "    </tr>\n",
       "    <tr>\n",
       "      <th>4</th>\n",
       "      <td>The chain posted sales of 298 million euros fo...</td>\n",
       "      <td>positive</td>\n",
       "      <td>100</td>\n",
       "    </tr>\n",
       "  </tbody>\n",
       "</table>\n",
       "</div>"
      ],
      "text/plain": [
       "                                            sentence sentiment confidence\n",
       "0  Profit after taxes for the period was up to EU...  positive        100\n",
       "1  In 2009 , Fiskars ' cash flow from operating a...  positive        100\n",
       "2           EBIT margin was up from 1.4 % to 5.1 % .  positive        100\n",
       "3  Major Order in India Comptel Corporation has r...  positive        100\n",
       "4  The chain posted sales of 298 million euros fo...  positive        100"
      ]
     },
     "execution_count": 21,
     "metadata": {},
     "output_type": "execute_result"
    }
   ],
   "source": [
    "train_df.head()"
   ]
  },
  {
   "cell_type": "code",
   "execution_count": 22,
   "id": "50c41c9d-d98c-4bb4-9da8-7ccb83d32175",
   "metadata": {
    "tags": []
   },
   "outputs": [
    {
     "data": {
      "text/plain": [
       "0"
      ]
     },
     "execution_count": 22,
     "metadata": {},
     "output_type": "execute_result"
    }
   ],
   "source": [
    "train_df[\"sentence\"].duplicated().sum()"
   ]
  },
  {
   "cell_type": "code",
   "execution_count": 23,
   "id": "cca27858-2086-462f-84c4-1351c3567ee5",
   "metadata": {
    "tags": []
   },
   "outputs": [
    {
     "name": "stdout",
     "output_type": "stream",
     "text": [
      "<class 'pandas.core.frame.DataFrame'>\n",
      "Index: 17 entries, 382 to 462\n",
      "Data columns (total 3 columns):\n",
      " #   Column      Non-Null Count  Dtype \n",
      "---  ------      --------------  ----- \n",
      " 0   sentence    17 non-null     object\n",
      " 1   sentiment   17 non-null     object\n",
      " 2   confidence  17 non-null     int64 \n",
      "dtypes: int64(1), object(2)\n",
      "memory usage: 544.0+ bytes\n"
     ]
    }
   ],
   "source": [
    "test_positive = positive.iloc[train_count_per_label:train_count_per_label+test_count_per_label]\n",
    "test_negative = negative.iloc[train_count_per_label:train_count_per_label+test_count_per_label]\n",
    "test_neutral = neutral.iloc[train_count_per_label:train_count_per_label+test_count_per_label]\n",
    "test_positive.info()"
   ]
  },
  {
   "cell_type": "code",
   "execution_count": 24,
   "id": "e310a9ff-1ecc-4b42-a434-62c2445d4a6e",
   "metadata": {
    "tags": []
   },
   "outputs": [
    {
     "name": "stdout",
     "output_type": "stream",
     "text": [
      "<class 'pandas.core.frame.DataFrame'>\n",
      "RangeIndex: 186 entries, 0 to 185\n",
      "Data columns (total 3 columns):\n",
      " #   Column      Non-Null Count  Dtype \n",
      "---  ------      --------------  ----- \n",
      " 0   sentence    186 non-null    object\n",
      " 1   sentiment   186 non-null    object\n",
      " 2   confidence  186 non-null    object\n",
      "dtypes: object(3)\n",
      "memory usage: 4.5+ KB\n"
     ]
    }
   ],
   "source": [
    "test_df=pd.concat([test_df,test_positive, test_negative, test_neutral] , ignore_index=True)\n",
    "test_df.info()"
   ]
  },
  {
   "cell_type": "code",
   "execution_count": 25,
   "id": "1c02c7d7-990d-4b61-94f0-3142f287e1e5",
   "metadata": {
    "tags": []
   },
   "outputs": [
    {
     "data": {
      "text/plain": [
       "0"
      ]
     },
     "execution_count": 25,
     "metadata": {},
     "output_type": "execute_result"
    }
   ],
   "source": [
    "test_df[\"sentence\"].duplicated().sum()"
   ]
  },
  {
   "cell_type": "code",
   "execution_count": null,
   "id": "1576031b-888d-49e5-b771-98fb84be3dcc",
   "metadata": {},
   "outputs": [],
   "source": []
  },
  {
   "cell_type": "code",
   "execution_count": null,
   "id": "cdfb99d0-61d3-41f0-bbd6-f993820b32fa",
   "metadata": {},
   "outputs": [],
   "source": []
  },
  {
   "cell_type": "markdown",
   "id": "59b307f6-d027-4c14-9467-82b61dbcc3d8",
   "metadata": {},
   "source": [
    "#### 66 confidence"
   ]
  },
  {
   "cell_type": "code",
   "execution_count": 26,
   "id": "aad69fca-cf84-42f5-8b96-d75651e56a78",
   "metadata": {
    "tags": []
   },
   "outputs": [],
   "source": [
    "train_count_per_label=38\n",
    "test_count_per_label=56\n",
    "conf=66"
   ]
  },
  {
   "cell_type": "code",
   "execution_count": 27,
   "id": "8f87e916-cfb5-4767-ad8a-8737fd071c45",
   "metadata": {
    "tags": []
   },
   "outputs": [],
   "source": [
    "df_conf100 = df[df['confidence'] ==conf ]\n",
    "df_conf100=df_conf100.sample(frac=1, random_state=42).reset_index(drop=True)"
   ]
  },
  {
   "cell_type": "code",
   "execution_count": 28,
   "id": "aa48f965-4747-4bfb-93d8-356fc5a6cce8",
   "metadata": {
    "tags": []
   },
   "outputs": [],
   "source": [
    "positive = df_conf100[df_conf100['sentiment'] == 'positive']\n",
    "negative = df_conf100[df_conf100['sentiment'] == 'negative']\n",
    "neutral = df_conf100[df_conf100['sentiment'] == 'neutral']\n",
    "\n",
    "\n",
    "train_positive = positive.iloc[:train_count_per_label]\n",
    "train_negative = negative.iloc[:train_count_per_label]\n",
    "train_neutral = neutral.iloc[:train_count_per_label]\n",
    "\n"
   ]
  },
  {
   "cell_type": "code",
   "execution_count": 29,
   "id": "26a2c1af-45ed-4f8c-ada0-133619d66764",
   "metadata": {
    "tags": []
   },
   "outputs": [
    {
     "name": "stdout",
     "output_type": "stream",
     "text": [
      "<class 'pandas.core.frame.DataFrame'>\n",
      "Index: 38 entries, 0 to 64\n",
      "Data columns (total 3 columns):\n",
      " #   Column      Non-Null Count  Dtype \n",
      "---  ------      --------------  ----- \n",
      " 0   sentence    38 non-null     object\n",
      " 1   sentiment   38 non-null     object\n",
      " 2   confidence  38 non-null     int64 \n",
      "dtypes: int64(1), object(2)\n",
      "memory usage: 1.2+ KB\n"
     ]
    }
   ],
   "source": [
    "train_neutral.info()"
   ]
  },
  {
   "cell_type": "code",
   "execution_count": 30,
   "id": "6367f2f9-f6ef-4313-8723-7608f856a8ef",
   "metadata": {
    "tags": []
   },
   "outputs": [
    {
     "name": "stdout",
     "output_type": "stream",
     "text": [
      "<class 'pandas.core.frame.DataFrame'>\n",
      "RangeIndex: 1188 entries, 0 to 1187\n",
      "Data columns (total 3 columns):\n",
      " #   Column      Non-Null Count  Dtype \n",
      "---  ------      --------------  ----- \n",
      " 0   sentence    1188 non-null   object\n",
      " 1   sentiment   1188 non-null   object\n",
      " 2   confidence  1188 non-null   object\n",
      "dtypes: object(3)\n",
      "memory usage: 28.0+ KB\n"
     ]
    }
   ],
   "source": [
    "train_df=pd.concat([train_df,train_positive, train_negative, train_neutral] , ignore_index=True)\n",
    "train_df.info()"
   ]
  },
  {
   "cell_type": "code",
   "execution_count": 31,
   "id": "6c95454c-909b-4fa6-8a59-80f7ed8e0ac2",
   "metadata": {
    "tags": []
   },
   "outputs": [
    {
     "data": {
      "text/html": [
       "<div>\n",
       "<style scoped>\n",
       "    .dataframe tbody tr th:only-of-type {\n",
       "        vertical-align: middle;\n",
       "    }\n",
       "\n",
       "    .dataframe tbody tr th {\n",
       "        vertical-align: top;\n",
       "    }\n",
       "\n",
       "    .dataframe thead th {\n",
       "        text-align: right;\n",
       "    }\n",
       "</style>\n",
       "<table border=\"1\" class=\"dataframe\">\n",
       "  <thead>\n",
       "    <tr style=\"text-align: right;\">\n",
       "      <th></th>\n",
       "      <th>sentence</th>\n",
       "      <th>sentiment</th>\n",
       "      <th>confidence</th>\n",
       "    </tr>\n",
       "  </thead>\n",
       "  <tbody>\n",
       "    <tr>\n",
       "      <th>0</th>\n",
       "      <td>Profit after taxes for the period was up to EU...</td>\n",
       "      <td>positive</td>\n",
       "      <td>100</td>\n",
       "    </tr>\n",
       "    <tr>\n",
       "      <th>1</th>\n",
       "      <td>In 2009 , Fiskars ' cash flow from operating a...</td>\n",
       "      <td>positive</td>\n",
       "      <td>100</td>\n",
       "    </tr>\n",
       "    <tr>\n",
       "      <th>2</th>\n",
       "      <td>EBIT margin was up from 1.4 % to 5.1 % .</td>\n",
       "      <td>positive</td>\n",
       "      <td>100</td>\n",
       "    </tr>\n",
       "    <tr>\n",
       "      <th>3</th>\n",
       "      <td>Major Order in India Comptel Corporation has r...</td>\n",
       "      <td>positive</td>\n",
       "      <td>100</td>\n",
       "    </tr>\n",
       "    <tr>\n",
       "      <th>4</th>\n",
       "      <td>The chain posted sales of 298 million euros fo...</td>\n",
       "      <td>positive</td>\n",
       "      <td>100</td>\n",
       "    </tr>\n",
       "  </tbody>\n",
       "</table>\n",
       "</div>"
      ],
      "text/plain": [
       "                                            sentence sentiment confidence\n",
       "0  Profit after taxes for the period was up to EU...  positive        100\n",
       "1  In 2009 , Fiskars ' cash flow from operating a...  positive        100\n",
       "2           EBIT margin was up from 1.4 % to 5.1 % .  positive        100\n",
       "3  Major Order in India Comptel Corporation has r...  positive        100\n",
       "4  The chain posted sales of 298 million euros fo...  positive        100"
      ]
     },
     "execution_count": 31,
     "metadata": {},
     "output_type": "execute_result"
    }
   ],
   "source": [
    "train_df.head()"
   ]
  },
  {
   "cell_type": "code",
   "execution_count": 32,
   "id": "cff89c15-1857-4483-b301-88c039650495",
   "metadata": {
    "tags": []
   },
   "outputs": [
    {
     "data": {
      "text/plain": [
       "0"
      ]
     },
     "execution_count": 32,
     "metadata": {},
     "output_type": "execute_result"
    }
   ],
   "source": [
    "train_df[\"sentence\"].duplicated().sum()"
   ]
  },
  {
   "cell_type": "code",
   "execution_count": 33,
   "id": "26c22236-5a54-4626-be1c-3a7c6476b5c7",
   "metadata": {
    "tags": []
   },
   "outputs": [
    {
     "name": "stdout",
     "output_type": "stream",
     "text": [
      "<class 'pandas.core.frame.DataFrame'>\n",
      "Index: 56 entries, 109 to 234\n",
      "Data columns (total 3 columns):\n",
      " #   Column      Non-Null Count  Dtype \n",
      "---  ------      --------------  ----- \n",
      " 0   sentence    56 non-null     object\n",
      " 1   sentiment   56 non-null     object\n",
      " 2   confidence  56 non-null     int64 \n",
      "dtypes: int64(1), object(2)\n",
      "memory usage: 1.8+ KB\n"
     ]
    }
   ],
   "source": [
    "test_positive = positive.iloc[train_count_per_label:train_count_per_label+test_count_per_label]\n",
    "test_negative = negative.iloc[train_count_per_label:train_count_per_label+test_count_per_label]\n",
    "test_neutral = neutral.iloc[train_count_per_label:train_count_per_label+test_count_per_label]\n",
    "test_positive.info()"
   ]
  },
  {
   "cell_type": "code",
   "execution_count": 34,
   "id": "7de3b8b8-5e23-42a1-b3a0-e2a8509ac944",
   "metadata": {
    "tags": []
   },
   "outputs": [
    {
     "name": "stdout",
     "output_type": "stream",
     "text": [
      "<class 'pandas.core.frame.DataFrame'>\n",
      "RangeIndex: 354 entries, 0 to 353\n",
      "Data columns (total 3 columns):\n",
      " #   Column      Non-Null Count  Dtype \n",
      "---  ------      --------------  ----- \n",
      " 0   sentence    354 non-null    object\n",
      " 1   sentiment   354 non-null    object\n",
      " 2   confidence  354 non-null    object\n",
      "dtypes: object(3)\n",
      "memory usage: 8.4+ KB\n"
     ]
    }
   ],
   "source": [
    "test_df=pd.concat([test_df,test_positive, test_negative, test_neutral] , ignore_index=True)\n",
    "test_df.info()"
   ]
  },
  {
   "cell_type": "code",
   "execution_count": 35,
   "id": "0d871b87-58c6-477c-ad1f-f57103dcb0ba",
   "metadata": {
    "tags": []
   },
   "outputs": [
    {
     "data": {
      "text/plain": [
       "0"
      ]
     },
     "execution_count": 35,
     "metadata": {},
     "output_type": "execute_result"
    }
   ],
   "source": [
    "test_df[\"sentence\"].duplicated().sum()"
   ]
  },
  {
   "cell_type": "code",
   "execution_count": null,
   "id": "b25ea4ef-5d25-48cf-9c04-c7e33af334d2",
   "metadata": {},
   "outputs": [],
   "source": []
  },
  {
   "cell_type": "code",
   "execution_count": null,
   "id": "ba1667b9-7d0c-4aa8-9a26-6c498d4baf3e",
   "metadata": {},
   "outputs": [],
   "source": []
  },
  {
   "cell_type": "markdown",
   "id": "cbba4580-d169-4d71-890a-5b83794ea9fd",
   "metadata": {},
   "source": [
    "#### 50 confidence"
   ]
  },
  {
   "cell_type": "code",
   "execution_count": 36,
   "id": "48b02231-4927-4b80-961d-5712ef698d58",
   "metadata": {
    "tags": []
   },
   "outputs": [],
   "source": [
    "train_count_per_label=18\n",
    "test_count_per_label=72\n",
    "conf=50"
   ]
  },
  {
   "cell_type": "code",
   "execution_count": 37,
   "id": "18758192-13ff-4d71-83ea-08c6b8ba1206",
   "metadata": {
    "tags": []
   },
   "outputs": [],
   "source": [
    "df_conf100 = df[df['confidence'] ==conf ]\n",
    "df_conf100=df_conf100.sample(frac=1, random_state=42).reset_index(drop=True)"
   ]
  },
  {
   "cell_type": "code",
   "execution_count": 38,
   "id": "1a540638-321f-4e60-b338-59187775959a",
   "metadata": {
    "tags": []
   },
   "outputs": [],
   "source": [
    "positive = df_conf100[df_conf100['sentiment'] == 'positive']\n",
    "negative = df_conf100[df_conf100['sentiment'] == 'negative']\n",
    "neutral = df_conf100[df_conf100['sentiment'] == 'neutral']\n",
    "\n",
    "\n",
    "train_positive = positive.iloc[:train_count_per_label]\n",
    "train_negative = negative.iloc[:train_count_per_label]\n",
    "train_neutral = neutral.iloc[:train_count_per_label]\n",
    "\n"
   ]
  },
  {
   "cell_type": "code",
   "execution_count": 39,
   "id": "3d2293b7-39be-4e02-804b-b5263107d814",
   "metadata": {
    "tags": []
   },
   "outputs": [
    {
     "name": "stdout",
     "output_type": "stream",
     "text": [
      "<class 'pandas.core.frame.DataFrame'>\n",
      "Index: 18 entries, 0 to 32\n",
      "Data columns (total 3 columns):\n",
      " #   Column      Non-Null Count  Dtype \n",
      "---  ------      --------------  ----- \n",
      " 0   sentence    18 non-null     object\n",
      " 1   sentiment   18 non-null     object\n",
      " 2   confidence  18 non-null     int64 \n",
      "dtypes: int64(1), object(2)\n",
      "memory usage: 576.0+ bytes\n"
     ]
    }
   ],
   "source": [
    "train_neutral.info()"
   ]
  },
  {
   "cell_type": "code",
   "execution_count": 40,
   "id": "f309f589-61c7-4b6c-9e36-f20aab4543ab",
   "metadata": {
    "tags": []
   },
   "outputs": [
    {
     "name": "stdout",
     "output_type": "stream",
     "text": [
      "<class 'pandas.core.frame.DataFrame'>\n",
      "RangeIndex: 1242 entries, 0 to 1241\n",
      "Data columns (total 3 columns):\n",
      " #   Column      Non-Null Count  Dtype \n",
      "---  ------      --------------  ----- \n",
      " 0   sentence    1242 non-null   object\n",
      " 1   sentiment   1242 non-null   object\n",
      " 2   confidence  1242 non-null   object\n",
      "dtypes: object(3)\n",
      "memory usage: 29.2+ KB\n"
     ]
    }
   ],
   "source": [
    "train_df=pd.concat([train_df,train_positive, train_negative, train_neutral] , ignore_index=True)\n",
    "train_df.info()"
   ]
  },
  {
   "cell_type": "code",
   "execution_count": 41,
   "id": "e3f175af-0222-4cd9-9b08-56dd73426f20",
   "metadata": {
    "tags": []
   },
   "outputs": [
    {
     "data": {
      "text/html": [
       "<div>\n",
       "<style scoped>\n",
       "    .dataframe tbody tr th:only-of-type {\n",
       "        vertical-align: middle;\n",
       "    }\n",
       "\n",
       "    .dataframe tbody tr th {\n",
       "        vertical-align: top;\n",
       "    }\n",
       "\n",
       "    .dataframe thead th {\n",
       "        text-align: right;\n",
       "    }\n",
       "</style>\n",
       "<table border=\"1\" class=\"dataframe\">\n",
       "  <thead>\n",
       "    <tr style=\"text-align: right;\">\n",
       "      <th></th>\n",
       "      <th>sentence</th>\n",
       "      <th>sentiment</th>\n",
       "      <th>confidence</th>\n",
       "    </tr>\n",
       "  </thead>\n",
       "  <tbody>\n",
       "    <tr>\n",
       "      <th>0</th>\n",
       "      <td>Profit after taxes for the period was up to EU...</td>\n",
       "      <td>positive</td>\n",
       "      <td>100</td>\n",
       "    </tr>\n",
       "    <tr>\n",
       "      <th>1</th>\n",
       "      <td>In 2009 , Fiskars ' cash flow from operating a...</td>\n",
       "      <td>positive</td>\n",
       "      <td>100</td>\n",
       "    </tr>\n",
       "    <tr>\n",
       "      <th>2</th>\n",
       "      <td>EBIT margin was up from 1.4 % to 5.1 % .</td>\n",
       "      <td>positive</td>\n",
       "      <td>100</td>\n",
       "    </tr>\n",
       "    <tr>\n",
       "      <th>3</th>\n",
       "      <td>Major Order in India Comptel Corporation has r...</td>\n",
       "      <td>positive</td>\n",
       "      <td>100</td>\n",
       "    </tr>\n",
       "    <tr>\n",
       "      <th>4</th>\n",
       "      <td>The chain posted sales of 298 million euros fo...</td>\n",
       "      <td>positive</td>\n",
       "      <td>100</td>\n",
       "    </tr>\n",
       "  </tbody>\n",
       "</table>\n",
       "</div>"
      ],
      "text/plain": [
       "                                            sentence sentiment confidence\n",
       "0  Profit after taxes for the period was up to EU...  positive        100\n",
       "1  In 2009 , Fiskars ' cash flow from operating a...  positive        100\n",
       "2           EBIT margin was up from 1.4 % to 5.1 % .  positive        100\n",
       "3  Major Order in India Comptel Corporation has r...  positive        100\n",
       "4  The chain posted sales of 298 million euros fo...  positive        100"
      ]
     },
     "execution_count": 41,
     "metadata": {},
     "output_type": "execute_result"
    }
   ],
   "source": [
    "train_df.head()"
   ]
  },
  {
   "cell_type": "code",
   "execution_count": 42,
   "id": "797c60d3-81f6-4dc9-ba74-14f5562a04c9",
   "metadata": {
    "tags": []
   },
   "outputs": [
    {
     "data": {
      "text/plain": [
       "0"
      ]
     },
     "execution_count": 42,
     "metadata": {},
     "output_type": "execute_result"
    }
   ],
   "source": [
    "train_df[\"sentence\"].duplicated().sum()"
   ]
  },
  {
   "cell_type": "code",
   "execution_count": 43,
   "id": "91c61db9-4658-4052-86bc-afd4303b1885",
   "metadata": {
    "tags": []
   },
   "outputs": [
    {
     "name": "stdout",
     "output_type": "stream",
     "text": [
      "<class 'pandas.core.frame.DataFrame'>\n",
      "Index: 72 entries, 58 to 285\n",
      "Data columns (total 3 columns):\n",
      " #   Column      Non-Null Count  Dtype \n",
      "---  ------      --------------  ----- \n",
      " 0   sentence    72 non-null     object\n",
      " 1   sentiment   72 non-null     object\n",
      " 2   confidence  72 non-null     int64 \n",
      "dtypes: int64(1), object(2)\n",
      "memory usage: 2.2+ KB\n"
     ]
    }
   ],
   "source": [
    "test_positive = positive.iloc[train_count_per_label:train_count_per_label+test_count_per_label]\n",
    "test_negative = negative.iloc[train_count_per_label:train_count_per_label+test_count_per_label]\n",
    "test_neutral = neutral.iloc[train_count_per_label:train_count_per_label+test_count_per_label]\n",
    "test_positive.info()"
   ]
  },
  {
   "cell_type": "code",
   "execution_count": 44,
   "id": "c2907df3-3b57-45f5-9541-6aca49d4e2e5",
   "metadata": {
    "tags": []
   },
   "outputs": [
    {
     "name": "stdout",
     "output_type": "stream",
     "text": [
      "<class 'pandas.core.frame.DataFrame'>\n",
      "RangeIndex: 570 entries, 0 to 569\n",
      "Data columns (total 3 columns):\n",
      " #   Column      Non-Null Count  Dtype \n",
      "---  ------      --------------  ----- \n",
      " 0   sentence    570 non-null    object\n",
      " 1   sentiment   570 non-null    object\n",
      " 2   confidence  570 non-null    object\n",
      "dtypes: object(3)\n",
      "memory usage: 13.5+ KB\n"
     ]
    }
   ],
   "source": [
    "test_df=pd.concat([test_df,test_positive, test_negative, test_neutral] , ignore_index=True)\n",
    "test_df.info()"
   ]
  },
  {
   "cell_type": "code",
   "execution_count": 45,
   "id": "e7045564-475b-47c4-941b-e0da787e2cca",
   "metadata": {
    "tags": []
   },
   "outputs": [
    {
     "data": {
      "text/plain": [
       "0"
      ]
     },
     "execution_count": 45,
     "metadata": {},
     "output_type": "execute_result"
    }
   ],
   "source": [
    "test_df[\"sentence\"].duplicated().sum()"
   ]
  },
  {
   "cell_type": "markdown",
   "id": "b8ec075f-e934-419a-a7f9-a93427215957",
   "metadata": {},
   "source": [
    "### Final stage \n",
    "1. test dataset splits into two \n",
    "\n",
    "    a. primary dataset (data having 100% and 75 % confidence)\n",
    "    \n",
    "    b. secondary dataset (data having 66% and 50 % confidence)\n",
    "    \n",
    "2. save datasets\n",
    "    "
   ]
  },
  {
   "cell_type": "code",
   "execution_count": 46,
   "id": "a5503fb7-2d41-4117-8ec5-6298be0d47c4",
   "metadata": {
    "tags": []
   },
   "outputs": [
    {
     "name": "stderr",
     "output_type": "stream",
     "text": [
      "C:\\Users\\swath\\AppData\\Local\\Temp\\ipykernel_41384\\3974153953.py:6: FutureWarning: Downcasting behavior in `replace` is deprecated and will be removed in a future version. To retain the old behavior, explicitly call `result.infer_objects(copy=False)`. To opt-in to the future behavior, set `pd.set_option('future.no_silent_downcasting', True)`\n",
      "  train_df['sentiment'] = train_df['sentiment'].replace(sentiment_mapping)\n",
      "C:\\Users\\swath\\AppData\\Local\\Temp\\ipykernel_41384\\3974153953.py:7: FutureWarning: Downcasting behavior in `replace` is deprecated and will be removed in a future version. To retain the old behavior, explicitly call `result.infer_objects(copy=False)`. To opt-in to the future behavior, set `pd.set_option('future.no_silent_downcasting', True)`\n",
      "  test_df['sentiment'] = test_df['sentiment'].replace(sentiment_mapping)\n"
     ]
    }
   ],
   "source": [
    "sentiment_mapping = {\n",
    "    'neutral': 0,\n",
    "    'positive': 1,\n",
    "    'negative': -1\n",
    "}\n",
    "train_df['sentiment'] = train_df['sentiment'].replace(sentiment_mapping)\n",
    "test_df['sentiment'] = test_df['sentiment'].replace(sentiment_mapping)"
   ]
  },
  {
   "cell_type": "code",
   "execution_count": 47,
   "id": "25359191-1398-4221-8899-af3d368277ba",
   "metadata": {
    "tags": []
   },
   "outputs": [
    {
     "data": {
      "text/html": [
       "<div>\n",
       "<style scoped>\n",
       "    .dataframe tbody tr th:only-of-type {\n",
       "        vertical-align: middle;\n",
       "    }\n",
       "\n",
       "    .dataframe tbody tr th {\n",
       "        vertical-align: top;\n",
       "    }\n",
       "\n",
       "    .dataframe thead th {\n",
       "        text-align: right;\n",
       "    }\n",
       "</style>\n",
       "<table border=\"1\" class=\"dataframe\">\n",
       "  <thead>\n",
       "    <tr style=\"text-align: right;\">\n",
       "      <th></th>\n",
       "      <th>sentiment</th>\n",
       "    </tr>\n",
       "  </thead>\n",
       "  <tbody>\n",
       "    <tr>\n",
       "      <th>count</th>\n",
       "      <td>1242.000000</td>\n",
       "    </tr>\n",
       "    <tr>\n",
       "      <th>mean</th>\n",
       "      <td>0.000000</td>\n",
       "    </tr>\n",
       "    <tr>\n",
       "      <th>std</th>\n",
       "      <td>0.816825</td>\n",
       "    </tr>\n",
       "    <tr>\n",
       "      <th>min</th>\n",
       "      <td>-1.000000</td>\n",
       "    </tr>\n",
       "    <tr>\n",
       "      <th>25%</th>\n",
       "      <td>-1.000000</td>\n",
       "    </tr>\n",
       "    <tr>\n",
       "      <th>50%</th>\n",
       "      <td>0.000000</td>\n",
       "    </tr>\n",
       "    <tr>\n",
       "      <th>75%</th>\n",
       "      <td>1.000000</td>\n",
       "    </tr>\n",
       "    <tr>\n",
       "      <th>max</th>\n",
       "      <td>1.000000</td>\n",
       "    </tr>\n",
       "  </tbody>\n",
       "</table>\n",
       "</div>"
      ],
      "text/plain": [
       "         sentiment\n",
       "count  1242.000000\n",
       "mean      0.000000\n",
       "std       0.816825\n",
       "min      -1.000000\n",
       "25%      -1.000000\n",
       "50%       0.000000\n",
       "75%       1.000000\n",
       "max       1.000000"
      ]
     },
     "execution_count": 47,
     "metadata": {},
     "output_type": "execute_result"
    }
   ],
   "source": [
    "train_df.describe()"
   ]
  },
  {
   "cell_type": "code",
   "execution_count": 48,
   "id": "960ad5bb-9bfb-4461-888b-155476e1ec9d",
   "metadata": {
    "tags": []
   },
   "outputs": [
    {
     "data": {
      "text/html": [
       "<div>\n",
       "<style scoped>\n",
       "    .dataframe tbody tr th:only-of-type {\n",
       "        vertical-align: middle;\n",
       "    }\n",
       "\n",
       "    .dataframe tbody tr th {\n",
       "        vertical-align: top;\n",
       "    }\n",
       "\n",
       "    .dataframe thead th {\n",
       "        text-align: right;\n",
       "    }\n",
       "</style>\n",
       "<table border=\"1\" class=\"dataframe\">\n",
       "  <thead>\n",
       "    <tr style=\"text-align: right;\">\n",
       "      <th></th>\n",
       "      <th>sentiment</th>\n",
       "    </tr>\n",
       "  </thead>\n",
       "  <tbody>\n",
       "    <tr>\n",
       "      <th>count</th>\n",
       "      <td>570.000000</td>\n",
       "    </tr>\n",
       "    <tr>\n",
       "      <th>mean</th>\n",
       "      <td>0.000000</td>\n",
       "    </tr>\n",
       "    <tr>\n",
       "      <th>std</th>\n",
       "      <td>0.817214</td>\n",
       "    </tr>\n",
       "    <tr>\n",
       "      <th>min</th>\n",
       "      <td>-1.000000</td>\n",
       "    </tr>\n",
       "    <tr>\n",
       "      <th>25%</th>\n",
       "      <td>-1.000000</td>\n",
       "    </tr>\n",
       "    <tr>\n",
       "      <th>50%</th>\n",
       "      <td>0.000000</td>\n",
       "    </tr>\n",
       "    <tr>\n",
       "      <th>75%</th>\n",
       "      <td>1.000000</td>\n",
       "    </tr>\n",
       "    <tr>\n",
       "      <th>max</th>\n",
       "      <td>1.000000</td>\n",
       "    </tr>\n",
       "  </tbody>\n",
       "</table>\n",
       "</div>"
      ],
      "text/plain": [
       "        sentiment\n",
       "count  570.000000\n",
       "mean     0.000000\n",
       "std      0.817214\n",
       "min     -1.000000\n",
       "25%     -1.000000\n",
       "50%      0.000000\n",
       "75%      1.000000\n",
       "max      1.000000"
      ]
     },
     "execution_count": 48,
     "metadata": {},
     "output_type": "execute_result"
    }
   ],
   "source": [
    "test_df.describe()"
   ]
  },
  {
   "cell_type": "code",
   "execution_count": 49,
   "id": "341f79c1-147e-40d9-af54-673f4a4869c5",
   "metadata": {
    "tags": []
   },
   "outputs": [
    {
     "data": {
      "text/plain": [
       "0"
      ]
     },
     "execution_count": 49,
     "metadata": {},
     "output_type": "execute_result"
    }
   ],
   "source": [
    "full=pd.concat([train_df,test_df], ignore_index=True)\n",
    "full[\"sentence\"].duplicated().sum()"
   ]
  },
  {
   "cell_type": "markdown",
   "id": "577f332d-e697-4796-b36b-0cef9934584a",
   "metadata": {
    "tags": []
   },
   "source": [
    "##### split test to primary and secondary"
   ]
  },
  {
   "cell_type": "code",
   "execution_count": 50,
   "id": "c694ce1c-bab3-46a0-8be0-2ba64956a544",
   "metadata": {
    "tags": []
   },
   "outputs": [
    {
     "data": {
      "text/html": [
       "<div>\n",
       "<style scoped>\n",
       "    .dataframe tbody tr th:only-of-type {\n",
       "        vertical-align: middle;\n",
       "    }\n",
       "\n",
       "    .dataframe tbody tr th {\n",
       "        vertical-align: top;\n",
       "    }\n",
       "\n",
       "    .dataframe thead th {\n",
       "        text-align: right;\n",
       "    }\n",
       "</style>\n",
       "<table border=\"1\" class=\"dataframe\">\n",
       "  <thead>\n",
       "    <tr style=\"text-align: right;\">\n",
       "      <th></th>\n",
       "      <th>sentiment</th>\n",
       "    </tr>\n",
       "  </thead>\n",
       "  <tbody>\n",
       "    <tr>\n",
       "      <th>count</th>\n",
       "      <td>186.0000</td>\n",
       "    </tr>\n",
       "    <tr>\n",
       "      <th>mean</th>\n",
       "      <td>0.0000</td>\n",
       "    </tr>\n",
       "    <tr>\n",
       "      <th>std</th>\n",
       "      <td>0.8187</td>\n",
       "    </tr>\n",
       "    <tr>\n",
       "      <th>min</th>\n",
       "      <td>-1.0000</td>\n",
       "    </tr>\n",
       "    <tr>\n",
       "      <th>25%</th>\n",
       "      <td>-1.0000</td>\n",
       "    </tr>\n",
       "    <tr>\n",
       "      <th>50%</th>\n",
       "      <td>0.0000</td>\n",
       "    </tr>\n",
       "    <tr>\n",
       "      <th>75%</th>\n",
       "      <td>1.0000</td>\n",
       "    </tr>\n",
       "    <tr>\n",
       "      <th>max</th>\n",
       "      <td>1.0000</td>\n",
       "    </tr>\n",
       "  </tbody>\n",
       "</table>\n",
       "</div>"
      ],
      "text/plain": [
       "       sentiment\n",
       "count   186.0000\n",
       "mean      0.0000\n",
       "std       0.8187\n",
       "min      -1.0000\n",
       "25%      -1.0000\n",
       "50%       0.0000\n",
       "75%       1.0000\n",
       "max       1.0000"
      ]
     },
     "execution_count": 50,
     "metadata": {},
     "output_type": "execute_result"
    }
   ],
   "source": [
    "primary_test=test_df[test_df[\"confidence\"].isin([100,75])]\n",
    "primary_test.describe()"
   ]
  },
  {
   "cell_type": "code",
   "execution_count": 51,
   "id": "4c269831-9e3d-4763-85d3-da601d51c013",
   "metadata": {
    "tags": []
   },
   "outputs": [
    {
     "data": {
      "text/html": [
       "<div>\n",
       "<style scoped>\n",
       "    .dataframe tbody tr th:only-of-type {\n",
       "        vertical-align: middle;\n",
       "    }\n",
       "\n",
       "    .dataframe tbody tr th {\n",
       "        vertical-align: top;\n",
       "    }\n",
       "\n",
       "    .dataframe thead th {\n",
       "        text-align: right;\n",
       "    }\n",
       "</style>\n",
       "<table border=\"1\" class=\"dataframe\">\n",
       "  <thead>\n",
       "    <tr style=\"text-align: right;\">\n",
       "      <th></th>\n",
       "      <th>sentiment</th>\n",
       "    </tr>\n",
       "  </thead>\n",
       "  <tbody>\n",
       "    <tr>\n",
       "      <th>count</th>\n",
       "      <td>384.000000</td>\n",
       "    </tr>\n",
       "    <tr>\n",
       "      <th>mean</th>\n",
       "      <td>0.000000</td>\n",
       "    </tr>\n",
       "    <tr>\n",
       "      <th>std</th>\n",
       "      <td>0.817562</td>\n",
       "    </tr>\n",
       "    <tr>\n",
       "      <th>min</th>\n",
       "      <td>-1.000000</td>\n",
       "    </tr>\n",
       "    <tr>\n",
       "      <th>25%</th>\n",
       "      <td>-1.000000</td>\n",
       "    </tr>\n",
       "    <tr>\n",
       "      <th>50%</th>\n",
       "      <td>0.000000</td>\n",
       "    </tr>\n",
       "    <tr>\n",
       "      <th>75%</th>\n",
       "      <td>1.000000</td>\n",
       "    </tr>\n",
       "    <tr>\n",
       "      <th>max</th>\n",
       "      <td>1.000000</td>\n",
       "    </tr>\n",
       "  </tbody>\n",
       "</table>\n",
       "</div>"
      ],
      "text/plain": [
       "        sentiment\n",
       "count  384.000000\n",
       "mean     0.000000\n",
       "std      0.817562\n",
       "min     -1.000000\n",
       "25%     -1.000000\n",
       "50%      0.000000\n",
       "75%      1.000000\n",
       "max      1.000000"
      ]
     },
     "execution_count": 51,
     "metadata": {},
     "output_type": "execute_result"
    }
   ],
   "source": [
    "secondary_test=test_df[test_df[\"confidence\"].isin([66,50])]\n",
    "secondary_test.describe()"
   ]
  },
  {
   "cell_type": "markdown",
   "id": "4e39ee6b-403b-4133-aad8-2ae8ed65f321",
   "metadata": {},
   "source": [
    "###### save datasets"
   ]
  },
  {
   "cell_type": "code",
   "execution_count": 52,
   "id": "a1cf184a-421b-471f-8f1f-1e10c57b243b",
   "metadata": {
    "tags": []
   },
   "outputs": [
    {
     "name": "stdout",
     "output_type": "stream",
     "text": [
      "<class 'pandas.core.frame.DataFrame'>\n",
      "RangeIndex: 1242 entries, 0 to 1241\n",
      "Data columns (total 4 columns):\n",
      " #   Column      Non-Null Count  Dtype \n",
      "---  ------      --------------  ----- \n",
      " 0   sentence    1242 non-null   object\n",
      " 1   sentiment   1242 non-null   int64 \n",
      " 2   confidence  1242 non-null   object\n",
      " 3   type        1242 non-null   object\n",
      "dtypes: int64(1), object(3)\n",
      "memory usage: 38.9+ KB\n"
     ]
    }
   ],
   "source": [
    "train_df[\"type\"]=[\"train\"]*train_df.shape[0]\n",
    "train_df.info()"
   ]
  },
  {
   "cell_type": "code",
   "execution_count": 53,
   "id": "187e5794-38b8-41b1-9761-10327db1d953",
   "metadata": {
    "tags": []
   },
   "outputs": [],
   "source": [
    "train_df.to_csv(\"data/final_train_dataset.csv\", index=False)"
   ]
  },
  {
   "cell_type": "code",
   "execution_count": 54,
   "id": "79c706cb-5b47-49ac-b2a3-dad98fbaf37a",
   "metadata": {
    "tags": []
   },
   "outputs": [
    {
     "name": "stdout",
     "output_type": "stream",
     "text": [
      "<class 'pandas.core.frame.DataFrame'>\n",
      "Index: 186 entries, 0 to 185\n",
      "Data columns (total 4 columns):\n",
      " #   Column      Non-Null Count  Dtype \n",
      "---  ------      --------------  ----- \n",
      " 0   sentence    186 non-null    object\n",
      " 1   sentiment   186 non-null    int64 \n",
      " 2   confidence  186 non-null    object\n",
      " 3   type        186 non-null    object\n",
      "dtypes: int64(1), object(3)\n",
      "memory usage: 7.3+ KB\n"
     ]
    },
    {
     "name": "stderr",
     "output_type": "stream",
     "text": [
      "C:\\Users\\swath\\AppData\\Local\\Temp\\ipykernel_41384\\3374121375.py:1: SettingWithCopyWarning: \n",
      "A value is trying to be set on a copy of a slice from a DataFrame.\n",
      "Try using .loc[row_indexer,col_indexer] = value instead\n",
      "\n",
      "See the caveats in the documentation: https://pandas.pydata.org/pandas-docs/stable/user_guide/indexing.html#returning-a-view-versus-a-copy\n",
      "  primary_test[\"type\"]=[\"primary_test\"]*primary_test.shape[0]\n"
     ]
    }
   ],
   "source": [
    "primary_test[\"type\"]=[\"primary_test\"]*primary_test.shape[0]\n",
    "primary_test.info()"
   ]
  },
  {
   "cell_type": "code",
   "execution_count": 55,
   "id": "7806a3f7-2488-45d8-b423-79baa075085b",
   "metadata": {
    "tags": []
   },
   "outputs": [
    {
     "data": {
      "text/html": [
       "<div>\n",
       "<style scoped>\n",
       "    .dataframe tbody tr th:only-of-type {\n",
       "        vertical-align: middle;\n",
       "    }\n",
       "\n",
       "    .dataframe tbody tr th {\n",
       "        vertical-align: top;\n",
       "    }\n",
       "\n",
       "    .dataframe thead th {\n",
       "        text-align: right;\n",
       "    }\n",
       "</style>\n",
       "<table border=\"1\" class=\"dataframe\">\n",
       "  <thead>\n",
       "    <tr style=\"text-align: right;\">\n",
       "      <th></th>\n",
       "      <th>sentiment</th>\n",
       "    </tr>\n",
       "  </thead>\n",
       "  <tbody>\n",
       "    <tr>\n",
       "      <th>count</th>\n",
       "      <td>186.0000</td>\n",
       "    </tr>\n",
       "    <tr>\n",
       "      <th>mean</th>\n",
       "      <td>0.0000</td>\n",
       "    </tr>\n",
       "    <tr>\n",
       "      <th>std</th>\n",
       "      <td>0.8187</td>\n",
       "    </tr>\n",
       "    <tr>\n",
       "      <th>min</th>\n",
       "      <td>-1.0000</td>\n",
       "    </tr>\n",
       "    <tr>\n",
       "      <th>25%</th>\n",
       "      <td>-1.0000</td>\n",
       "    </tr>\n",
       "    <tr>\n",
       "      <th>50%</th>\n",
       "      <td>0.0000</td>\n",
       "    </tr>\n",
       "    <tr>\n",
       "      <th>75%</th>\n",
       "      <td>1.0000</td>\n",
       "    </tr>\n",
       "    <tr>\n",
       "      <th>max</th>\n",
       "      <td>1.0000</td>\n",
       "    </tr>\n",
       "  </tbody>\n",
       "</table>\n",
       "</div>"
      ],
      "text/plain": [
       "       sentiment\n",
       "count   186.0000\n",
       "mean      0.0000\n",
       "std       0.8187\n",
       "min      -1.0000\n",
       "25%      -1.0000\n",
       "50%       0.0000\n",
       "75%       1.0000\n",
       "max       1.0000"
      ]
     },
     "execution_count": 55,
     "metadata": {},
     "output_type": "execute_result"
    }
   ],
   "source": [
    "primary_test.describe()"
   ]
  },
  {
   "cell_type": "code",
   "execution_count": 56,
   "id": "f1b74227-32d2-419d-9f2e-47001f83e1ba",
   "metadata": {
    "tags": []
   },
   "outputs": [],
   "source": [
    "primary_test.to_csv(\"data/final_primary_dataset.csv\", index=False)"
   ]
  },
  {
   "cell_type": "code",
   "execution_count": null,
   "id": "7c593df9-8bdd-4465-9ad2-6f45741c49ad",
   "metadata": {},
   "outputs": [],
   "source": []
  },
  {
   "cell_type": "code",
   "execution_count": null,
   "id": "0ec51ad7-83fe-437a-b3ad-02b020895f35",
   "metadata": {},
   "outputs": [],
   "source": []
  },
  {
   "cell_type": "code",
   "execution_count": 57,
   "id": "aa3edbdc-da07-4ac4-a091-45cf0a9a6eeb",
   "metadata": {
    "tags": []
   },
   "outputs": [
    {
     "name": "stdout",
     "output_type": "stream",
     "text": [
      "<class 'pandas.core.frame.DataFrame'>\n",
      "Index: 384 entries, 186 to 569\n",
      "Data columns (total 4 columns):\n",
      " #   Column      Non-Null Count  Dtype \n",
      "---  ------      --------------  ----- \n",
      " 0   sentence    384 non-null    object\n",
      " 1   sentiment   384 non-null    int64 \n",
      " 2   confidence  384 non-null    object\n",
      " 3   type        384 non-null    object\n",
      "dtypes: int64(1), object(3)\n",
      "memory usage: 15.0+ KB\n"
     ]
    },
    {
     "name": "stderr",
     "output_type": "stream",
     "text": [
      "C:\\Users\\swath\\AppData\\Local\\Temp\\ipykernel_41384\\3174544047.py:1: SettingWithCopyWarning: \n",
      "A value is trying to be set on a copy of a slice from a DataFrame.\n",
      "Try using .loc[row_indexer,col_indexer] = value instead\n",
      "\n",
      "See the caveats in the documentation: https://pandas.pydata.org/pandas-docs/stable/user_guide/indexing.html#returning-a-view-versus-a-copy\n",
      "  secondary_test[\"type\"]=[\"secondary_test\"]*secondary_test.shape[0]\n"
     ]
    }
   ],
   "source": [
    "secondary_test[\"type\"]=[\"secondary_test\"]*secondary_test.shape[0]\n",
    "secondary_test.info()"
   ]
  },
  {
   "cell_type": "code",
   "execution_count": 58,
   "id": "f6c68713-9a87-4ad3-b353-cf0fec7db4bc",
   "metadata": {
    "tags": []
   },
   "outputs": [
    {
     "data": {
      "text/html": [
       "<div>\n",
       "<style scoped>\n",
       "    .dataframe tbody tr th:only-of-type {\n",
       "        vertical-align: middle;\n",
       "    }\n",
       "\n",
       "    .dataframe tbody tr th {\n",
       "        vertical-align: top;\n",
       "    }\n",
       "\n",
       "    .dataframe thead th {\n",
       "        text-align: right;\n",
       "    }\n",
       "</style>\n",
       "<table border=\"1\" class=\"dataframe\">\n",
       "  <thead>\n",
       "    <tr style=\"text-align: right;\">\n",
       "      <th></th>\n",
       "      <th>sentiment</th>\n",
       "    </tr>\n",
       "  </thead>\n",
       "  <tbody>\n",
       "    <tr>\n",
       "      <th>count</th>\n",
       "      <td>384.000000</td>\n",
       "    </tr>\n",
       "    <tr>\n",
       "      <th>mean</th>\n",
       "      <td>0.000000</td>\n",
       "    </tr>\n",
       "    <tr>\n",
       "      <th>std</th>\n",
       "      <td>0.817562</td>\n",
       "    </tr>\n",
       "    <tr>\n",
       "      <th>min</th>\n",
       "      <td>-1.000000</td>\n",
       "    </tr>\n",
       "    <tr>\n",
       "      <th>25%</th>\n",
       "      <td>-1.000000</td>\n",
       "    </tr>\n",
       "    <tr>\n",
       "      <th>50%</th>\n",
       "      <td>0.000000</td>\n",
       "    </tr>\n",
       "    <tr>\n",
       "      <th>75%</th>\n",
       "      <td>1.000000</td>\n",
       "    </tr>\n",
       "    <tr>\n",
       "      <th>max</th>\n",
       "      <td>1.000000</td>\n",
       "    </tr>\n",
       "  </tbody>\n",
       "</table>\n",
       "</div>"
      ],
      "text/plain": [
       "        sentiment\n",
       "count  384.000000\n",
       "mean     0.000000\n",
       "std      0.817562\n",
       "min     -1.000000\n",
       "25%     -1.000000\n",
       "50%      0.000000\n",
       "75%      1.000000\n",
       "max      1.000000"
      ]
     },
     "execution_count": 58,
     "metadata": {},
     "output_type": "execute_result"
    }
   ],
   "source": [
    "secondary_test.describe()"
   ]
  },
  {
   "cell_type": "code",
   "execution_count": 59,
   "id": "d97ebf33-8f4f-4106-bd20-cb930ba7f0c0",
   "metadata": {
    "tags": []
   },
   "outputs": [],
   "source": [
    "secondary_test.to_csv(\"data/final_secondary_dataset.csv\", index=False)"
   ]
  },
  {
   "cell_type": "code",
   "execution_count": null,
   "id": "82abd292-be4d-46ee-bec9-0cf4003d35e6",
   "metadata": {},
   "outputs": [],
   "source": []
  }
 ],
 "metadata": {
  "kernelspec": {
   "display_name": "finanalyzer",
   "language": "python",
   "name": "finanalyzer"
  },
  "language_info": {
   "codemirror_mode": {
    "name": "ipython",
    "version": 3
   },
   "file_extension": ".py",
   "mimetype": "text/x-python",
   "name": "python",
   "nbconvert_exporter": "python",
   "pygments_lexer": "ipython3",
   "version": "3.9.12"
  }
 },
 "nbformat": 4,
 "nbformat_minor": 5
}
