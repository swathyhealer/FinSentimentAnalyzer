{
 "cells": [
  {
   "cell_type": "code",
   "execution_count": null,
   "id": "c79bdeec-e778-41da-a57f-1d240a9ec9c4",
   "metadata": {},
   "outputs": [],
   "source": []
  },
  {
   "cell_type": "code",
   "execution_count": null,
   "id": "56d3fd12-08be-4208-8095-528b06434e22",
   "metadata": {},
   "outputs": [],
   "source": []
  },
  {
   "cell_type": "code",
   "execution_count": null,
   "id": "cd23584b-7dae-4eca-9c9e-e0d88d446477",
   "metadata": {},
   "outputs": [],
   "source": []
  },
  {
   "cell_type": "code",
   "execution_count": 1,
   "id": "8105112a-801b-4f3a-97a9-28e4a9e98c82",
   "metadata": {
    "tags": []
   },
   "outputs": [
    {
     "name": "stderr",
     "output_type": "stream",
     "text": [
      "[nltk_data] Downloading package wordnet to\n",
      "[nltk_data]     C:\\Users\\swath\\AppData\\Roaming\\nltk_data...\n",
      "[nltk_data]   Package wordnet is already up-to-date!\n",
      "[nltk_data] Downloading package omw-1.4 to\n",
      "[nltk_data]     C:\\Users\\swath\\AppData\\Roaming\\nltk_data...\n",
      "[nltk_data]   Package omw-1.4 is already up-to-date!\n",
      "[nltk_data] Downloading package stopwords to\n",
      "[nltk_data]     C:\\Users\\swath\\AppData\\Roaming\\nltk_data...\n",
      "[nltk_data]   Package stopwords is already up-to-date!\n",
      "[nltk_data] Downloading package punkt_tab to\n",
      "[nltk_data]     C:\\Users\\swath\\AppData\\Roaming\\nltk_data...\n",
      "[nltk_data]   Package punkt_tab is already up-to-date!\n",
      "C:\\Users\\swath\\.virtualenvs\\FinSentimentAnalyzer-enDW9jvo\\lib\\site-packages\\tqdm\\auto.py:21: TqdmWarning: IProgress not found. Please update jupyter and ipywidgets. See https://ipywidgets.readthedocs.io/en/stable/user_install.html\n",
      "  from .autonotebook import tqdm as notebook_tqdm\n"
     ]
    }
   ],
   "source": [
    "from preprocess import PreprocessPipe\n",
    "from model import DistilBert\n",
    "from exp import Experiment"
   ]
  },
  {
   "cell_type": "code",
   "execution_count": 2,
   "id": "f49b0636-c225-4457-86c0-814f8abb9c77",
   "metadata": {
    "tags": []
   },
   "outputs": [],
   "source": [
    "sample_input =[\"In Q1 of 2010 , Bank of +Ã land 's net interest income increased from EUR 9.1 mn to EUR 9.7 mn .\"]"
   ]
  },
  {
   "cell_type": "markdown",
   "id": "eb80990f-15f4-4794-9fdf-05db02ed5696",
   "metadata": {},
   "source": [
    "### Exp : 1"
   ]
  },
  {
   "cell_type": "code",
   "execution_count": 3,
   "id": "4a980a0a-9997-4e65-b79c-70fb03864010",
   "metadata": {
    "tags": []
   },
   "outputs": [],
   "source": [
    "exp_name=\"exp 1\""
   ]
  },
  {
   "cell_type": "markdown",
   "id": "884d2d66-f485-4170-9246-b94309ccb0e9",
   "metadata": {},
   "source": [
    "#### Preprocessing"
   ]
  },
  {
   "cell_type": "code",
   "execution_count": 4,
   "id": "ab76a6ea-e692-4817-81cf-5523ab79b951",
   "metadata": {
    "tags": []
   },
   "outputs": [
    {
     "name": "stdout",
     "output_type": "stream",
     "text": [
      "1 . lowercase_converter \n",
      "2 . remove_numbers \n",
      "\n"
     ]
    }
   ],
   "source": [
    "pipe=PreprocessPipe()\n",
    "# pipe.add_steps([pipe.fix_encoding ,\n",
    "#                 pipe.lowercase_converter,pipe.remove_numbers,pipe.remove_special_character, \n",
    "#                 pipe.remove_bracket_content, pipe.do_lemmatization ,pipe.remove_extra_space ])\n",
    "pipe.add_steps([pipe.lowercase_converter,pipe.remove_numbers ])\n",
    "print(pipe.get_order())"
   ]
  },
  {
   "cell_type": "code",
   "execution_count": 5,
   "id": "8b12c901-3f19-4ac3-9831-d323505145c1",
   "metadata": {
    "tags": []
   },
   "outputs": [
    {
     "data": {
      "text/plain": [
       "[\"in q of  , bank of +ã\\xa0land 's net interest income increased from eur . mn to eur . mn .\"]"
      ]
     },
     "execution_count": 5,
     "metadata": {},
     "output_type": "execute_result"
    }
   ],
   "source": [
    "pipe.run(sample_input)"
   ]
  },
  {
   "cell_type": "markdown",
   "id": "ca5064a7-6793-499a-83f4-fc74a1340ea3",
   "metadata": {},
   "source": [
    "#### Model"
   ]
  },
  {
   "cell_type": "code",
   "execution_count": 6,
   "id": "3f714639-628a-4065-a0b5-8ecd7fba3757",
   "metadata": {
    "tags": []
   },
   "outputs": [],
   "source": [
    "config={\"num_train_epochs\":1, \n",
    "        \"load_best_model_at_end\":True,\n",
    "         \"evaluation_strategy\":'epoch', \n",
    "         \"save_strategy\":\"epoch\",\n",
    "          \"learning_rate\":2e-5,}"
   ]
  },
  {
   "cell_type": "code",
   "execution_count": 7,
   "id": "160c15dc-c624-431d-9b9f-88b91cf52b9b",
   "metadata": {
    "tags": []
   },
   "outputs": [
    {
     "name": "stderr",
     "output_type": "stream",
     "text": [
      "C:\\Users\\swath\\.virtualenvs\\FinSentimentAnalyzer-enDW9jvo\\lib\\site-packages\\transformers\\tokenization_utils_base.py:1601: FutureWarning: `clean_up_tokenization_spaces` was not set. It will be set to `True` by default. This behavior will be depracted in transformers v4.45, and will be then set to `False` by default. For more details check this issue: https://github.com/huggingface/transformers/issues/31884\n",
      "  warnings.warn(\n",
      "Some weights of DistilBertForSequenceClassification were not initialized from the model checkpoint at distilbert-base-uncased and are newly initialized: ['classifier.bias', 'classifier.weight', 'pre_classifier.bias', 'pre_classifier.weight']\n",
      "You should probably TRAIN this model on a down-stream task to be able to use it for predictions and inference.\n",
      "C:\\Users\\swath\\.virtualenvs\\FinSentimentAnalyzer-enDW9jvo\\lib\\site-packages\\transformers\\training_args.py:1525: FutureWarning: `evaluation_strategy` is deprecated and will be removed in version 4.46 of 🤗 Transformers. Use `eval_strategy` instead\n",
      "  warnings.warn(\n"
     ]
    }
   ],
   "source": [
    "model=DistilBert(exp_name,training_params=config)"
   ]
  },
  {
   "cell_type": "markdown",
   "id": "893e7aa5-2f61-48d4-9911-11dc25a80b91",
   "metadata": {},
   "source": [
    "#### Experiment"
   ]
  },
  {
   "cell_type": "code",
   "execution_count": 8,
   "id": "4ccd0687-2fa9-4ad8-b2ea-2285172a99cd",
   "metadata": {
    "tags": []
   },
   "outputs": [],
   "source": [
    " exp=Experiment(name=exp_name , preprocess_pipeline =pipe , model=model)"
   ]
  },
  {
   "cell_type": "code",
   "execution_count": 9,
   "id": "f58625e1-09a9-4c70-824a-29088a7af7a4",
   "metadata": {
    "tags": []
   },
   "outputs": [
    {
     "name": "stderr",
     "output_type": "stream",
     "text": [
      "Map: 100%|████████████████████████████████████████████████████████████████████████████████████████████████████| 1242/1242 [00:00<00:00, 5838.82 examples/s]\n",
      "Map: 100%|█████████████████████████████████████████████████████████████████████████████████████████████████████| 186/186 [00:00<00:00, 11885.14 examples/s]\n",
      "Map: 100%|██████████████████████████████████████████████████████████████████████████████████████████████████████| 384/384 [00:00<00:00, 9735.92 examples/s]\n",
      "Map: 100%|████████████████████████████████████████████████████████████████████████████████████████████████████| 1242/1242 [00:00<00:00, 5734.26 examples/s]\n",
      "Map: 100%|██████████████████████████████████████████████████████████████████████████████████████████████████████| 186/186 [00:00<00:00, 3947.36 examples/s]\n",
      "Map: 100%|██████████████████████████████████████████████████████████████████████████████████████████████████████| 384/384 [00:00<00:00, 4957.91 examples/s]\n"
     ]
    }
   ],
   "source": [
    "exp.load_transform_dataset()"
   ]
  },
  {
   "cell_type": "code",
   "execution_count": 10,
   "id": "13fac01c-e17f-49b9-8454-5c73d21f4c54",
   "metadata": {
    "tags": []
   },
   "outputs": [
    {
     "data": {
      "text/html": [
       "\n",
       "    <div>\n",
       "      \n",
       "      <progress value='13' max='13' style='width:300px; height:20px; vertical-align: middle;'></progress>\n",
       "      [13/13 05:13, Epoch 1/1]\n",
       "    </div>\n",
       "    <table border=\"1\" class=\"dataframe\">\n",
       "  <thead>\n",
       " <tr style=\"text-align: left;\">\n",
       "      <th>Epoch</th>\n",
       "      <th>Training Loss</th>\n",
       "      <th>Validation Loss</th>\n",
       "    </tr>\n",
       "  </thead>\n",
       "  <tbody>\n",
       "    <tr>\n",
       "      <td>1</td>\n",
       "      <td>No log</td>\n",
       "      <td>1.081203</td>\n",
       "    </tr>\n",
       "  </tbody>\n",
       "</table><p>"
      ],
      "text/plain": [
       "<IPython.core.display.HTML object>"
      ]
     },
     "metadata": {},
     "output_type": "display_data"
    }
   ],
   "source": [
    "exp.finetune()"
   ]
  },
  {
   "cell_type": "code",
   "execution_count": 11,
   "id": "9843df27-c252-46f9-a115-1de54365fc5f",
   "metadata": {},
   "outputs": [
    {
     "data": {
      "text/html": [],
      "text/plain": [
       "<IPython.core.display.HTML object>"
      ]
     },
     "metadata": {},
     "output_type": "display_data"
    },
    {
     "name": "stderr",
     "output_type": "stream",
     "text": [
      "C:\\Users\\swath\\OneDrive\\Desktop\\hiring companies\\FINIGAMI\\FinSentimentAnalyzer\\model.py:40: FutureWarning: load_metric is deprecated and will be removed in the next major version of datasets. Use 'evaluate.load' instead, from the new library 🤗 Evaluate: https://huggingface.co/docs/evaluate\n",
      "  load_accuracy = load_metric(\"accuracy\",trust_remote_code=True)\n"
     ]
    },
    {
     "name": "stdout",
     "output_type": "stream",
     "text": [
      "predictions[0] 0\n",
      "predictions[0] 2\n",
      "predictions[0] 2\n"
     ]
    }
   ],
   "source": [
    "p_result,s_result=exp.evaluate_test_data()"
   ]
  },
  {
   "cell_type": "code",
   "execution_count": 13,
   "id": "008092f1-5a26-4d16-bcd8-1f2d36158fdd",
   "metadata": {
    "tags": []
   },
   "outputs": [
    {
     "data": {
      "text/plain": [
       "({'eval_loss': 1.0812032222747803,\n",
       "  'eval_accuracy': {'accuracy': 0.43548387096774194},\n",
       "  'eval_f1score': {'f1': 0.3245454545454546},\n",
       "  'eval_runtime': 153.4483,\n",
       "  'eval_samples_per_second': 1.212,\n",
       "  'eval_steps_per_second': 0.156,\n",
       "  'epoch': 1.0},\n",
       " {'accuracy': {'accuracy': 0.390625}, 'f1score': {'f1': 0.3102815837738699}})"
      ]
     },
     "execution_count": 13,
     "metadata": {},
     "output_type": "execute_result"
    }
   ],
   "source": [
    "p_result,s_result"
   ]
  },
  {
   "cell_type": "code",
   "execution_count": 12,
   "id": "4b8dc8eb-eca7-4175-ad20-67dc421c361d",
   "metadata": {
    "tags": []
   },
   "outputs": [
    {
     "name": "stdout",
     "output_type": "stream",
     "text": [
      "saved model and tokenizer : exp 1/finetune\n"
     ]
    }
   ],
   "source": [
    "exp.save_model()"
   ]
  }
 ],
 "metadata": {
  "kernelspec": {
   "display_name": "finanalyzer",
   "language": "python",
   "name": "finanalyzer"
  },
  "language_info": {
   "codemirror_mode": {
    "name": "ipython",
    "version": 3
   },
   "file_extension": ".py",
   "mimetype": "text/x-python",
   "name": "python",
   "nbconvert_exporter": "python",
   "pygments_lexer": "ipython3",
   "version": "3.9.12"
  }
 },
 "nbformat": 4,
 "nbformat_minor": 5
}
